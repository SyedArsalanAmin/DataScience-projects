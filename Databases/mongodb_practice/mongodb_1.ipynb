{
 "cells": [
  {
   "cell_type": "code",
   "execution_count": 1,
   "metadata": {},
   "outputs": [],
   "source": [
    "import pymongo\n"
   ]
  },
  {
   "cell_type": "code",
   "execution_count": 24,
   "metadata": {},
   "outputs": [],
   "source": [
    "client = pymongo.MongoClient(\"mongodb://127.0.0.1:27017/\")\n",
    "mydb = client[\"Employee\"]\n",
    "information = mydb.employeeinformation\n",
    "salaries = mydb.salaries"
   ]
  },
  {
   "cell_type": "code",
   "execution_count": 4,
   "metadata": {},
   "outputs": [],
   "source": [
    "record = {\n",
    "    \"firstname\":\"hamza\",\n",
    "\"lastname\":\"hayat\",\n",
    "\"loc\":\"isl\"\n",
    "}"
   ]
  },
  {
   "cell_type": "code",
   "execution_count": 6,
   "metadata": {},
   "outputs": [],
   "source": [
    "record1 =[{\n",
    "    \"firstname\":\"hamza\",\n",
    "\"lastname\":\"hayat\",\n",
    "\"loc\":\"isl\"\n",
    "}, {\n",
    "    \"firstname\":\"omer\",\n",
    "\"lastname\":\"sultan\",\n",
    "\"loc\":\"lah\"\n",
    "}, {\n",
    "    \"firstname\":\"azan\",\n",
    "\"lastname\":\"abrar\",\n",
    "\"loc\":\"lah\"\n",
    "},{\n",
    "    \"firstname\":\"abd\",\n",
    "\"lastname\":\"javaid\",\n",
    "\"loc\":\"lah\"\n",
    "}]"
   ]
  },
  {
   "cell_type": "code",
   "execution_count": 5,
   "metadata": {},
   "outputs": [
    {
     "data": {
      "text/plain": [
       "<pymongo.results.InsertOneResult at 0x1e0f2215500>"
      ]
     },
     "execution_count": 5,
     "metadata": {},
     "output_type": "execute_result"
    }
   ],
   "source": [
    "information.insert_one(record)"
   ]
  },
  {
   "cell_type": "code",
   "execution_count": 7,
   "metadata": {},
   "outputs": [
    {
     "data": {
      "text/plain": [
       "<pymongo.results.InsertManyResult at 0x1e0f31394c0>"
      ]
     },
     "execution_count": 7,
     "metadata": {},
     "output_type": "execute_result"
    }
   ],
   "source": [
    "information.insert_many(record1)"
   ]
  },
  {
   "cell_type": "code",
   "execution_count": 34,
   "metadata": {},
   "outputs": [],
   "source": [
    "salary1 = [{\"firstname\":\"Hamza\",\n",
    "\"lastname\":\"hayat\",\n",
    "\"salary\":\"23409\",\n",
    "\"expense\":\"80000\"},\n",
    "\n",
    "{\"firstname\":\"omer\",\n",
    "\"lastname\":\"sultan\",\n",
    "\"salary\":\"340000\",\n",
    "\"expense\":\"60000\"}, \n",
    "\n",
    "{\"firstname\":\"azan\", \n",
    "\"lastname\":\"abrar\",\n",
    "\"salary\":\"200000\",\n",
    "\"expense\":\"20000\"},\n",
    "\n",
    "{\"firstname\":\"ahsan\",\n",
    "\"lastname\":\"hayat\",\n",
    "\"salary\":\"70000\",\n",
    "\"expense\":\"80000\"},\n",
    "\n",
    "{\"firstname\":\"saad\",\n",
    "\"lastname\":\"hayat\",\n",
    "\"salary\":700900,\n",
    "\"expense\":800}]"
   ]
  },
  {
   "cell_type": "code",
   "execution_count": 35,
   "metadata": {},
   "outputs": [
    {
     "data": {
      "text/plain": [
       "<pymongo.results.InsertManyResult at 0x1e0f2230c80>"
      ]
     },
     "execution_count": 35,
     "metadata": {},
     "output_type": "execute_result"
    }
   ],
   "source": [
    "salaries.insert_many(salary1)"
   ]
  },
  {
   "cell_type": "code",
   "execution_count": 36,
   "metadata": {},
   "outputs": [
    {
     "name": "stdout",
     "output_type": "stream",
     "text": [
      "{'_id': ObjectId('61633f76785b8af376273349'), 'name': 'Hamza', 'salary': '23409', 'expense': '80000'}\n",
      "{'_id': ObjectId('61633f76785b8af37627334a'), 'name': 'omer', 'salary': '340000', 'expense': '60000'}\n",
      "{'_id': ObjectId('61633f76785b8af37627334b'), 'name': 'azan', 'salary': '200000', 'expense': '20000'}\n",
      "{'_id': ObjectId('61633f76785b8af37627334c'), 'name': 'ahsan', 'salary': '70000', 'expense': '80000'}\n",
      "{'_id': ObjectId('61633fd5785b8af37627334d'), 'name': 'Hamza', 'salary': '23409', 'expense': '80000'}\n",
      "{'_id': ObjectId('61633fd5785b8af37627334e'), 'name': 'omer', 'salary': '340000', 'expense': '60000'}\n",
      "{'_id': ObjectId('61633fd5785b8af37627334f'), 'name': 'azan', 'salary': '200000', 'expense': '20000'}\n",
      "{'_id': ObjectId('61633fd5785b8af376273350'), 'name': 'ahsan', 'salary': '70000', 'expense': '80000'}\n",
      "{'_id': ObjectId('61633fd5785b8af376273351'), 'name': 'saad', 'salary': 700900, 'expense': 800}\n",
      "{'_id': ObjectId('6163417d785b8af376273352'), 'firstname': 'Hamza', 'lastname': 'hayat', 'salary': '23409', 'expense': '80000'}\n",
      "{'_id': ObjectId('6163417d785b8af376273353'), 'firstname': 'omer', 'lastname': 'sultan', 'salary': '340000', 'expense': '60000'}\n",
      "{'_id': ObjectId('6163417d785b8af376273354'), 'firstname': 'azan', 'lastname': 'abrar', 'salary': '200000', 'expense': '20000'}\n",
      "{'_id': ObjectId('6163417d785b8af376273355'), 'firstname': 'ahsan', 'lastname': 'hayat', 'salary': '70000', 'expense': '80000'}\n",
      "{'_id': ObjectId('6163417d785b8af376273356'), 'firstname': 'saad', 'lastname': 'hayat', 'salary': 700900, 'expense': 800}\n"
     ]
    }
   ],
   "source": [
    "for record in salaries.find():\n",
    "    print(record)"
   ]
  },
  {
   "cell_type": "code",
   "execution_count": 39,
   "metadata": {},
   "outputs": [
    {
     "name": "stdout",
     "output_type": "stream",
     "text": [
      "{'_id': ObjectId('6163417d785b8af376273353'), 'firstname': 'omer', 'lastname': 'sultan', 'salary': '340000', 'expense': '60000'}\n",
      "{'_id': ObjectId('6163417d785b8af376273354'), 'firstname': 'azan', 'lastname': 'abrar', 'salary': '200000', 'expense': '20000'}\n"
     ]
    }
   ],
   "source": [
    "for record in salaries.find({\"firstname\":{\"$in\":[\"omer\",\"azan\"]}}):\n",
    "    print(record)"
   ]
  },
  {
   "cell_type": "code",
   "execution_count": 45,
   "metadata": {},
   "outputs": [
    {
     "name": "stdout",
     "output_type": "stream",
     "text": [
      "{'_id': ObjectId('61633fd5785b8af376273351'), 'name': 'saad', 'salary': 700900, 'expense': 800}\n"
     ]
    }
   ],
   "source": [
    "for record in salaries.find({\"name\":\"saad\", \"expense\":{\"$lt\":50000}}):\n",
    "    print(record)"
   ]
  },
  {
   "cell_type": "code",
   "execution_count": 46,
   "metadata": {},
   "outputs": [
    {
     "name": "stdout",
     "output_type": "stream",
     "text": [
      "{'_id': ObjectId('6163417d785b8af376273352'), 'firstname': 'Hamza', 'lastname': 'hayat', 'salary': '23409', 'expense': '80000'}\n",
      "{'_id': ObjectId('6163417d785b8af376273354'), 'firstname': 'azan', 'lastname': 'abrar', 'salary': '200000', 'expense': '20000'}\n",
      "{'_id': ObjectId('6163417d785b8af376273355'), 'firstname': 'ahsan', 'lastname': 'hayat', 'salary': '70000', 'expense': '80000'}\n",
      "{'_id': ObjectId('6163417d785b8af376273356'), 'firstname': 'saad', 'lastname': 'hayat', 'salary': 700900, 'expense': 800}\n"
     ]
    }
   ],
   "source": [
    "for record in salaries.find({'$or':[{'firstname':'azan'},{'lastname':'hayat'}]}):\n",
    "    print(record)"
   ]
  },
  {
   "cell_type": "code",
   "execution_count": 48,
   "metadata": {},
   "outputs": [
    {
     "name": "stdout",
     "output_type": "stream",
     "text": [
      "{'_id': ObjectId('6163417d785b8af376273354'), 'firstname': 'azan', 'lastname': 'abrar', 'salary': '200000', 'expense': '20000'}\n"
     ]
    }
   ],
   "source": [
    "for record in salaries.find({'$and':[{'firstname':'azan'},{'lastname':'abrar'}]}):\n",
    "    print(record)"
   ]
  },
  {
   "cell_type": "code",
   "execution_count": 49,
   "metadata": {},
   "outputs": [],
   "source": [
    "inventory = mydb.inventory"
   ]
  },
  {
   "cell_type": "code",
   "execution_count": 66,
   "metadata": {},
   "outputs": [],
   "source": [
    "invent1 = [{    \n",
    "    \"item\":\"paper\",\n",
    "    \"price\":20,\n",
    "    \"size\":{\"h\":10, 'w':10, \"uom\":'cm'}},\n",
    "{\n",
    "    \"item\":\"glue\",\n",
    "    \"price\":200,\n",
    "    \"size\":{\"h\":100, 'w':100, \"uom\":'cm'}},\n",
    "{\n",
    "    \"item\":\"hammer\",\n",
    "    \"price\":500,\n",
    "    \"size\":{\"h\":20, 'w':20, \"uom\":'cm'}},\n",
    "{\n",
    "    \"item\":\"paper\",\n",
    "    \"price\":200,\n",
    "    \"size\":{\"h\":10, 'w':10, \"uom\":'cm'}},\n",
    "{\n",
    "    \"item\":\"stapler\",\n",
    "    \"price\":200,\n",
    "    \"size\":{\"h\":100, 'w':100, \"uom\":'cm'}},\n",
    "{\n",
    "    \"item\":\"hammer\",\n",
    "    \"price\":500,\n",
    "    \"size\":{\"h\":20, 'w':20, \"uom\":'cm'}}]"
   ]
  },
  {
   "cell_type": "code",
   "execution_count": 67,
   "metadata": {},
   "outputs": [
    {
     "data": {
      "text/plain": [
       "<pymongo.results.InsertManyResult at 0x1e0f3356b40>"
      ]
     },
     "execution_count": 67,
     "metadata": {},
     "output_type": "execute_result"
    }
   ],
   "source": [
    "inventory.insert_many(invent1)"
   ]
  },
  {
   "cell_type": "code",
   "execution_count": 69,
   "metadata": {},
   "outputs": [
    {
     "name": "stdout",
     "output_type": "stream",
     "text": [
      "{'_id': ObjectId('6163494d785b8af376273359'), 'item': 'stapler', 'price': 200, 'size': {'h': 100, 'w': 100, 'uom': 'cm'}}\n",
      "{'_id': ObjectId('61634bd1785b8af37627335c'), 'item': 'stapler', 'price': 200, 'size': {'h': 100, 'w': 100, 'uom': 'cm'}}\n",
      "{'_id': ObjectId('61634bd1785b8af37627335f'), 'item': 'stapler', 'price': 200, 'size': {'h': 100, 'w': 100, 'uom': 'cm'}}\n",
      "{'_id': ObjectId('61634cc3785b8af376273362'), 'item': 'glue', 'price': 200, 'size': {'h': 100, 'w': 100, 'uom': 'cm'}}\n",
      "{'_id': ObjectId('61634cc3785b8af376273365'), 'item': 'stapler', 'price': 200, 'size': {'h': 100, 'w': 100, 'uom': 'cm'}}\n"
     ]
    }
   ],
   "source": [
    "for record in inventory.find({'price':200, 'size':{'h':100, 'w':100, 'uom':'cm'}}):\n",
    "    print(record)"
   ]
  },
  {
   "cell_type": "code",
   "execution_count": 75,
   "metadata": {},
   "outputs": [
    {
     "data": {
      "text/plain": [
       "<pymongo.results.UpdateResult at 0x1e0f3408180>"
      ]
     },
     "execution_count": 75,
     "metadata": {},
     "output_type": "execute_result"
    }
   ],
   "source": [
    "salaries.replace_one({\"item\":'hammer'},\n",
    "\n",
    "{'item':'hammer', \n",
    "\"price\":500,\n",
    "\"size\":\n",
    "[{\"h\":30, 'w':20, \"uom\":'cm'},\n",
    "{\"h\":10, 'w':10, \"uom\":'cm'}]})"
   ]
  },
  {
   "cell_type": "code",
   "execution_count": null,
   "metadata": {},
   "outputs": [],
   "source": []
  },
  {
   "cell_type": "code",
   "execution_count": null,
   "metadata": {},
   "outputs": [],
   "source": []
  },
  {
   "cell_type": "code",
   "execution_count": null,
   "metadata": {},
   "outputs": [],
   "source": []
  }
 ],
 "metadata": {
  "interpreter": {
   "hash": "8838a666ac9c2290597b80ab1cf019ded2b912c4323ce37bcb680abbd4239d60"
  },
  "kernelspec": {
   "display_name": "Python 3.10.0 64-bit ('databases': conda)",
   "name": "python3"
  },
  "language_info": {
   "codemirror_mode": {
    "name": "ipython",
    "version": 3
   },
   "file_extension": ".py",
   "mimetype": "text/x-python",
   "name": "python",
   "nbconvert_exporter": "python",
   "pygments_lexer": "ipython3",
   "version": "3.10.0"
  },
  "orig_nbformat": 4
 },
 "nbformat": 4,
 "nbformat_minor": 2
}
