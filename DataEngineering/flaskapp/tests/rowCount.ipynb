{
 "cells": [
  {
   "cell_type": "code",
   "execution_count": 4,
   "metadata": {},
   "outputs": [],
   "source": [
    "from sqlalchemy import create_engine\n",
    "from sqlalchemy.engine import URL\n",
    "import pandas as pd\n",
    "import psycopg2\n",
    "import os\n",
    "import time\n",
    "import csv\n",
    "import datetime\n",
    "from sqlalchemy.orm import Session\n",
    "import csv\n",
    "from sqlalchemy import Table, Column, Integer, String, MetaData, BIGINT, ForeignKey\n",
    "from sqlalchemy.types import DateTime\n",
    "from sqlalchemy.types import Integer, Float, String, JSON, DateTime, BINARY, LargeBinary,Boolean\n",
    "from pangres import upsert\n",
    "from sqlalchemy.orm import  relationship\n",
    "import os\n",
    "\n",
    "import psycopg2\n",
    "import numpy as np\n",
    "import psycopg2.extras as extras\n",
    "from io import StringIO\n",
    "import sys\n",
    "# %load_ext blackcellmagic"
   ]
  },
  {
   "cell_type": "markdown",
   "metadata": {},
   "source": [
    "### connection\n"
   ]
  },
  {
   "cell_type": "code",
   "execution_count": 5,
   "metadata": {},
   "outputs": [
    {
     "name": "stdout",
     "output_type": "stream",
     "text": [
      "connection successful\n"
     ]
    }
   ],
   "source": [
    "try:\n",
    "  connection_url_mysql = URL.create(\n",
    "    'mysql+pymysql',\n",
    "    username='root',\n",
    "    password='spts@3311',\n",
    "    host='10.0.0.9',\n",
    "    port=3306,\n",
    "    database='sooperwizer'\n",
    "  )\n",
    "  engine_mysql = create_engine(connection_url_mysql)\n",
    "  # engine.connect()\n",
    "  session_mysql = Session(engine_mysql, future=True)\n",
    "\n",
    "except Exception as e:\n",
    "  print(e)\n",
    "  \n",
    "else:\n",
    "  print('connection successful')"
   ]
  },
  {
   "cell_type": "code",
   "execution_count": 6,
   "metadata": {},
   "outputs": [
    {
     "name": "stdout",
     "output_type": "stream",
     "text": [
      "connection successful\n"
     ]
    }
   ],
   "source": [
    "\n",
    "# ------------------------------------------------------------------------\n",
    "#COMPANY_CONNECTION\n",
    "try: \n",
    "  connection_url_postgres = URL.create(\n",
    "    'postgresql+psycopg2',\n",
    "    username='postgres',\n",
    "    password='spts@3311',\n",
    "    host='10.0.0.9',\n",
    "    port=5432,\n",
    "    database='postgres'\n",
    "  )\n",
    "  engine_postgres = create_engine(connection_url_postgres)\n",
    "  session_postgres = Session(engine_postgres, future=True)\n",
    "except Exception as e:\n",
    "  print(e)\n",
    "else:\n",
    "  print('connection successful')\n",
    "\n"
   ]
  },
  {
   "cell_type": "markdown",
   "metadata": {},
   "source": [
    "### postgres rowcount"
   ]
  },
  {
   "cell_type": "code",
   "execution_count": 7,
   "metadata": {},
   "outputs": [
    {
     "data": {
      "text/plain": [
       "14"
      ]
     },
     "execution_count": 7,
     "metadata": {},
     "output_type": "execute_result"
    }
   ],
   "source": [
    "table='line'\n",
    "session_postgres.execute(f'select count(*) from public.{table}').all()[0][0]"
   ]
  },
  {
   "cell_type": "markdown",
   "metadata": {},
   "source": [
    "### mysql rowcount"
   ]
  },
  {
   "cell_type": "code",
   "execution_count": 8,
   "metadata": {},
   "outputs": [
    {
     "data": {
      "text/plain": [
       "14"
      ]
     },
     "execution_count": 8,
     "metadata": {},
     "output_type": "execute_result"
    }
   ],
   "source": [
    "session_mysql.execute(f'select count(*) from sooperwizer.{table}').all()[0][0]"
   ]
  },
  {
   "cell_type": "code",
   "execution_count": null,
   "metadata": {},
   "outputs": [],
   "source": []
  },
  {
   "cell_type": "code",
   "execution_count": 9,
   "metadata": {},
   "outputs": [],
   "source": [
    "from sqlalchemy import create_engine\n",
    "from sqlalchemy.engine import URL\n",
    "import pandas as pd\n",
    "# import psycopg2\n",
    "# import os\n",
    "# import time\n",
    "# import csv\n",
    "# import datetime\n",
    "from sqlalchemy.orm import Session\n",
    "import csv\n",
    "from sqlalchemy import Table, Column, Integer, String, MetaData, BIGINT, ForeignKey\n",
    "from sqlalchemy.types import DateTime\n",
    "from sqlalchemy.types import Integer, Float, String, JSON, DateTime, BINARY, LargeBinary,Boolean\n",
    "from pangres import upsert\n",
    "from sqlalchemy.orm import  relationship\n",
    "import os\n",
    "import psycopg2\n",
    "import numpy as np\n",
    "import psycopg2.extras as extras\n",
    "from io import StringIO\n",
    "import sys\n",
    "# %load_ext blackcellmagic\n",
    "\n",
    "try:\n",
    "  connection_url_mysql = URL.create(\n",
    "    'mysql+pymysql',\n",
    "    username='root',\n",
    "    password='spts@3311',\n",
    "    host='10.0.0.9',\n",
    "    port=3306,\n",
    "    database='sooperwizer'\n",
    "  )\n",
    "  engine_mysql = create_engine(connection_url_mysql)\n",
    "  # engine.connect()\n",
    "  session_mysql = Session(engine_mysql, future=True)\n",
    "\n",
    "except Exception as e:\n",
    "  print(e)\n",
    "  \n",
    "# else:\n",
    "#   print('connection successful')\n",
    "\n",
    "\n",
    "db_mysql='sooperwizer'\n",
    "def mysqlRowcount(table):\n",
    "    rowCount=session_mysql.execute(f'select count(*) from {db_mysql}.{table}').all()[0][0]\n",
    "    # print(rowCount)\n",
    "    return rowCount\n",
    "\n",
    "db_postgres='sooperwizer'\n",
    "def postgresRowcount(table):\n",
    "    rowCount=session_mysql.execute(f'select count(*) from {db_postgres}.{table}').all()[0][0]\n",
    "    # print(rowCount)\n",
    "    return rowCount\n",
    "\n",
    "\n"
   ]
  },
  {
   "cell_type": "markdown",
   "metadata": {},
   "source": [
    "### creating csv file for rowCounts"
   ]
  },
  {
   "cell_type": "code",
   "execution_count": 10,
   "metadata": {},
   "outputs": [],
   "source": [
    "if os.path.exists(\"../dataframe_mysql.csv\")==False:\n",
    "    data_mysql={\"line\":[mysqlRowcount(\"line\")],\n",
    "    \"module\":[mysqlRowcount(\"module\")],\n",
    "    \"userpermission\":[mysqlRowcount(\"userpermission\")],\n",
    "    \"worker\":[mysqlRowcount(\"worker\")],\n",
    "    \"machine_type\":[mysqlRowcount(\"machine_type\")],\n",
    "    \"machine\":[mysqlRowcount(\"machine\")],\n",
    "    \"sale_order\":[mysqlRowcount(\"sale_order\")],\n",
    "    \"section\":[mysqlRowcount(\"section\")],\n",
    "    \"user\":[mysqlRowcount(\"user\")],\n",
    "    \"operation\":[mysqlRowcount(\"operation\")],\n",
    "    \"worker_scan\":[mysqlRowcount(\"worker_scan\")],\n",
    "    \"style_template\":[mysqlRowcount(\"style_template\")],\n",
    "    \"style_bulletin\":[mysqlRowcount(\"style_bulletin\")],\n",
    "    \"production_order\":[mysqlRowcount(\"production_order\")],\n",
    "    \"marker\":[mysqlRowcount(\"marker\")],\n",
    "    \"cut_job\":[mysqlRowcount(\"cut_job\")],\n",
    "    \"cut_report\":[mysqlRowcount(\"cut_report\")],\n",
    "    \"tag\":[mysqlRowcount(\"tag\")],\n",
    "    \"scan\":[mysqlRowcount(\"scan\")],\n",
    "    \"piece_wise_scan\":[mysqlRowcount(\"piece_wise_scan\")],\n",
    "    \"piece_wise_cut_report\":[mysqlRowcount(\"piece_wise_cut_report\")]}\n",
    "    mysql_df = pd.DataFrame(data_mysql)"
   ]
  },
  {
   "cell_type": "code",
   "execution_count": null,
   "metadata": {},
   "outputs": [],
   "source": [
    "row={\"timestamp\":pd.Timestamp.now(),\"line\":mysqlRowcount(\"line\"),\n",
    "\"module\":mysqlRowcount(\"module\"),\n",
    "\"userpermission\":mysqlRowcount(\"userpermission\"),\n",
    "\"worker\":mysqlRowcount(\"worker\"),\n",
    "\"machine_type\":mysqlRowcount(\"machine_type\"),\n",
    "\"machine\":mysqlRowcount(\"machine\"),\n",
    "\"sale_order\":mysqlRowcount(\"sale_order\"),\n",
    "\"section\":mysqlRowcount(\"section\"),\n",
    "\"user\":mysqlRowcount(\"user\"),\n",
    "\"operation\":mysqlRowcount(\"operation\"),\n",
    "\"worker_scan\":mysqlRowcount(\"worker_scan\"),\n",
    "\"style_template\":mysqlRowcount(\"style_template\"),\n",
    "\"style_bulletin\":mysqlRowcount(\"style_bulletin\"),\n",
    "\"production_order\":mysqlRowcount(\"production_order\"),\n",
    "\"marker\":mysqlRowcount(\"marker\"),\n",
    "\"cut_job\":mysqlRowcount(\"cut_job\"),\n",
    "\"cut_report\":mysqlRowcount(\"cut_report\"),\n",
    "\"tag\":mysqlRowcount(\"tag\"),\n",
    "\"scan\":mysqlRowcount(\"scan\"),\n",
    "\"piece_wise_scan\":mysqlRowcount(\"piece_wise_scan\"),\n",
    "\"piece_wise_cut_report\":mysqlRowcount(\"piece_wise_cut_report\")}\n",
    "row = pd.Series(row)"
   ]
  },
  {
   "cell_type": "code",
   "execution_count": null,
   "metadata": {},
   "outputs": [],
   "source": []
  },
  {
   "cell_type": "code",
   "execution_count": null,
   "metadata": {},
   "outputs": [],
   "source": [
    "mysql_df= mysql_df.append(row,ignore_index=True)\n",
    "tmp_mysql='../dataframe_mysql.csv'\n",
    "mysql_df.to_csv(tmp_mysql)"
   ]
  },
  {
   "cell_type": "code",
   "execution_count": null,
   "metadata": {},
   "outputs": [],
   "source": [
    "if os.path.exists(\"../dataframe_postgres.csv\")==False:\n",
    "    data_postgres={\n",
    "        \"line\":[postgresRowcount(\"line\")],\n",
    "    \"module\":[postgresRowcount(\"module\")],\n",
    "    \"userpermission\":[postgresRowcount(\"userpermission\")],\n",
    "    \"worker\":[postgresRowcount(\"worker\")],\n",
    "    \"machine_type\":[postgresRowcount(\"machine_type\")],\n",
    "    \"machine\":[postgresRowcount(\"machine\")],\n",
    "    \"sale_order\":[postgresRowcount(\"sale_order\")],\n",
    "    \"section\":[postgresRowcount(\"section\")],\n",
    "    \"user\":[postgresRowcount(\"user\")],\n",
    "    \"operation\":[postgresRowcount(\"operation\")],\n",
    "    \"worker_scan\":[postgresRowcount(\"worker_scan\")],\n",
    "    \"style_template\":[postgresRowcount(\"style_template\")],\n",
    "    \"style_bulletin\":[postgresRowcount(\"style_bulletin\")],\n",
    "    \"production_order\":[postgresRowcount(\"production_order\")],\n",
    "    \"marker\":[postgresRowcount(\"marker\")],\n",
    "    \"cut_job\":[postgresRowcount(\"cut_job\")],\n",
    "    \"cut_report\":[postgresRowcount(\"cut_report\")],\n",
    "    \"tag\":[postgresRowcount(\"tag\")],\n",
    "    \"scan\":[postgresRowcount(\"scan\")],\n",
    "    \"piece_wise_scan\":[postgresRowcount(\"piece_wise_scan\")],\n",
    "    \"piece_wise_cut_report\":[postgresRowcount(\"piece_wise_cut_report\")]}\n",
    "    postgres_df = pd.DataFrame(data_postgres)"
   ]
  },
  {
   "cell_type": "code",
   "execution_count": null,
   "metadata": {},
   "outputs": [],
   "source": [
    "row={\"timestamp\":pd.Timestamp.now(),\n",
    "    \"line\":mysqlRowcount(\"line\"),\n",
    "\"module\":mysqlRowcount(\"module\"),\n",
    "\"userpermission\":mysqlRowcount(\"userpermission\"),\n",
    "\"worker\":mysqlRowcount(\"worker\"),\n",
    "\"machine_type\":mysqlRowcount(\"machine_type\"),\n",
    "\"machine\":mysqlRowcount(\"machine\"),\n",
    "\"sale_order\":mysqlRowcount(\"sale_order\"),\n",
    "\"section\":mysqlRowcount(\"section\"),\n",
    "\"user\":mysqlRowcount(\"user\"),\n",
    "\"operation\":mysqlRowcount(\"operation\"),\n",
    "\"worker_scan\":mysqlRowcount(\"worker_scan\"),\n",
    "\"style_template\":mysqlRowcount(\"style_template\"),\n",
    "\"style_bulletin\":mysqlRowcount(\"style_bulletin\"),\n",
    "\"production_order\":mysqlRowcount(\"production_order\"),\n",
    "\"marker\":mysqlRowcount(\"marker\"),\n",
    "\"cut_job\":mysqlRowcount(\"cut_job\"),\n",
    "\"cut_report\":mysqlRowcount(\"cut_report\"),\n",
    "\"tag\":mysqlRowcount(\"tag\"),\n",
    "\"scan\":mysqlRowcount(\"scan\"),\n",
    "\"piece_wise_scan\":mysqlRowcount(\"piece_wise_scan\"),\n",
    "\"piece_wise_cut_report\":mysqlRowcount(\"piece_wise_cut_report\"),\n",
    "}\n",
    "row = pd.Series(row)"
   ]
  },
  {
   "cell_type": "code",
   "execution_count": null,
   "metadata": {},
   "outputs": [],
   "source": [
    "postgres_df= postgres_df.append(row,ignore_index=True)\n",
    "tmp_postgres='../dataframe_postgres.csv'\n",
    "postgres_df.to_csv(tmp_postgres)"
   ]
  },
  {
   "cell_type": "code",
   "execution_count": null,
   "metadata": {},
   "outputs": [],
   "source": []
  },
  {
   "cell_type": "code",
   "execution_count": null,
   "metadata": {},
   "outputs": [],
   "source": []
  },
  {
   "cell_type": "markdown",
   "metadata": {},
   "source": [
    "### Extra code"
   ]
  },
  {
   "cell_type": "code",
   "execution_count": 20,
   "metadata": {},
   "outputs": [
    {
     "data": {
      "text/plain": [
       "Timestamp('2022-02-14 12:14:13.442788')"
      ]
     },
     "execution_count": 20,
     "metadata": {},
     "output_type": "execute_result"
    }
   ],
   "source": [
    "pd.Timestamp.now() "
   ]
  },
  {
   "cell_type": "code",
   "execution_count": 55,
   "metadata": {},
   "outputs": [
    {
     "data": {
      "text/plain": [
       "True"
      ]
     },
     "execution_count": 55,
     "metadata": {},
     "output_type": "execute_result"
    }
   ],
   "source": [
    "os.path.exists('../dataframe_postgres.csv')"
   ]
  },
  {
   "cell_type": "code",
   "execution_count": null,
   "metadata": {},
   "outputs": [],
   "source": []
  },
  {
   "cell_type": "code",
   "execution_count": null,
   "metadata": {},
   "outputs": [],
   "source": []
  },
  {
   "cell_type": "code",
   "execution_count": null,
   "metadata": {},
   "outputs": [],
   "source": []
  },
  {
   "cell_type": "code",
   "execution_count": null,
   "metadata": {},
   "outputs": [],
   "source": []
  },
  {
   "cell_type": "code",
   "execution_count": null,
   "metadata": {},
   "outputs": [],
   "source": []
  }
 ],
 "metadata": {
  "interpreter": {
   "hash": "fcfc9949a14fe7892b0cf9ad003855b0569737ac7a9bf3d5806f2a6cf60c7fc3"
  },
  "kernelspec": {
   "display_name": "Python 3.9.7 ('denorm_env')",
   "language": "python",
   "name": "python3"
  },
  "language_info": {
   "codemirror_mode": {
    "name": "ipython",
    "version": 3
   },
   "file_extension": ".py",
   "mimetype": "text/x-python",
   "name": "python",
   "nbconvert_exporter": "python",
   "pygments_lexer": "ipython3",
   "version": "3.9.7"
  },
  "orig_nbformat": 4
 },
 "nbformat": 4,
 "nbformat_minor": 2
}
