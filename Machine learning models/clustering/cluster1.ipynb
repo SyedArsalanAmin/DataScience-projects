{
 "cells": [
  {
   "cell_type": "markdown",
   "metadata": {},
   "source": [
    "# Loading libraries"
   ]
  },
  {
   "cell_type": "code",
   "execution_count": 13,
   "metadata": {},
   "outputs": [],
   "source": [
    "from pycaret.clustering import *\n",
    "from pycaret.datasets import get_data\n",
    "import pandas as pd\n",
    "import seaborn as sns\n",
    "import matplotlib.pyplot as plt"
   ]
  },
  {
   "cell_type": "code",
   "execution_count": 14,
   "metadata": {},
   "outputs": [
    {
     "data": {
      "text/html": [
       "<div>\n",
       "<style scoped>\n",
       "    .dataframe tbody tr th:only-of-type {\n",
       "        vertical-align: middle;\n",
       "    }\n",
       "\n",
       "    .dataframe tbody tr th {\n",
       "        vertical-align: top;\n",
       "    }\n",
       "\n",
       "    .dataframe thead th {\n",
       "        text-align: right;\n",
       "    }\n",
       "</style>\n",
       "<table border=\"1\" class=\"dataframe\">\n",
       "  <thead>\n",
       "    <tr style=\"text-align: right;\">\n",
       "      <th></th>\n",
       "      <th>Col1</th>\n",
       "      <th>Col2</th>\n",
       "      <th>Col3</th>\n",
       "      <th>Col4</th>\n",
       "      <th>Col5</th>\n",
       "      <th>Col6</th>\n",
       "      <th>Col7</th>\n",
       "      <th>Col8</th>\n",
       "      <th>Col9</th>\n",
       "      <th>Col10</th>\n",
       "    </tr>\n",
       "  </thead>\n",
       "  <tbody>\n",
       "    <tr>\n",
       "      <th>0</th>\n",
       "      <td>0.263995</td>\n",
       "      <td>0.764929</td>\n",
       "      <td>0.138424</td>\n",
       "      <td>0.935242</td>\n",
       "      <td>0.605867</td>\n",
       "      <td>0.518790</td>\n",
       "      <td>0.912225</td>\n",
       "      <td>0.608234</td>\n",
       "      <td>0.723782</td>\n",
       "      <td>0.733591</td>\n",
       "    </tr>\n",
       "    <tr>\n",
       "      <th>1</th>\n",
       "      <td>0.546092</td>\n",
       "      <td>0.653975</td>\n",
       "      <td>0.065575</td>\n",
       "      <td>0.227772</td>\n",
       "      <td>0.845269</td>\n",
       "      <td>0.837066</td>\n",
       "      <td>0.272379</td>\n",
       "      <td>0.331679</td>\n",
       "      <td>0.429297</td>\n",
       "      <td>0.367422</td>\n",
       "    </tr>\n",
       "    <tr>\n",
       "      <th>2</th>\n",
       "      <td>0.336714</td>\n",
       "      <td>0.538842</td>\n",
       "      <td>0.192801</td>\n",
       "      <td>0.553563</td>\n",
       "      <td>0.074515</td>\n",
       "      <td>0.332993</td>\n",
       "      <td>0.365792</td>\n",
       "      <td>0.861309</td>\n",
       "      <td>0.899017</td>\n",
       "      <td>0.088600</td>\n",
       "    </tr>\n",
       "    <tr>\n",
       "      <th>3</th>\n",
       "      <td>0.092108</td>\n",
       "      <td>0.995017</td>\n",
       "      <td>0.014465</td>\n",
       "      <td>0.176371</td>\n",
       "      <td>0.241530</td>\n",
       "      <td>0.514724</td>\n",
       "      <td>0.562208</td>\n",
       "      <td>0.158963</td>\n",
       "      <td>0.073715</td>\n",
       "      <td>0.208463</td>\n",
       "    </tr>\n",
       "    <tr>\n",
       "      <th>4</th>\n",
       "      <td>0.325261</td>\n",
       "      <td>0.805968</td>\n",
       "      <td>0.957033</td>\n",
       "      <td>0.331665</td>\n",
       "      <td>0.307923</td>\n",
       "      <td>0.355315</td>\n",
       "      <td>0.501899</td>\n",
       "      <td>0.558449</td>\n",
       "      <td>0.885169</td>\n",
       "      <td>0.182754</td>\n",
       "    </tr>\n",
       "  </tbody>\n",
       "</table>\n",
       "</div>"
      ],
      "text/plain": [
       "       Col1      Col2      Col3      Col4      Col5      Col6      Col7  \\\n",
       "0  0.263995  0.764929  0.138424  0.935242  0.605867  0.518790  0.912225   \n",
       "1  0.546092  0.653975  0.065575  0.227772  0.845269  0.837066  0.272379   \n",
       "2  0.336714  0.538842  0.192801  0.553563  0.074515  0.332993  0.365792   \n",
       "3  0.092108  0.995017  0.014465  0.176371  0.241530  0.514724  0.562208   \n",
       "4  0.325261  0.805968  0.957033  0.331665  0.307923  0.355315  0.501899   \n",
       "\n",
       "       Col8      Col9     Col10  \n",
       "0  0.608234  0.723782  0.733591  \n",
       "1  0.331679  0.429297  0.367422  \n",
       "2  0.861309  0.899017  0.088600  \n",
       "3  0.158963  0.073715  0.208463  \n",
       "4  0.558449  0.885169  0.182754  "
      ]
     },
     "metadata": {},
     "output_type": "display_data"
    }
   ],
   "source": [
    "df = get_data(\"anomaly\")"
   ]
  },
  {
   "cell_type": "markdown",
   "metadata": {},
   "source": [
    "# Exploring data"
   ]
  },
  {
   "cell_type": "code",
   "execution_count": 15,
   "metadata": {},
   "outputs": [
    {
     "data": {
      "text/plain": [
       "<PandasArray>\n",
       "['Col1', 'Col2', 'Col3', 'Col4', 'Col5', 'Col6', 'Col7', 'Col8', 'Col9',\n",
       " 'Col10']\n",
       "Length: 10, dtype: object"
      ]
     },
     "execution_count": 15,
     "metadata": {},
     "output_type": "execute_result"
    }
   ],
   "source": [
    "df.columns.array"
   ]
  },
  {
   "cell_type": "code",
   "execution_count": 16,
   "metadata": {},
   "outputs": [
    {
     "data": {
      "text/plain": [
       "(1000, 10)"
      ]
     },
     "execution_count": 16,
     "metadata": {},
     "output_type": "execute_result"
    }
   ],
   "source": [
    "df.shape"
   ]
  },
  {
   "cell_type": "code",
   "execution_count": 17,
   "metadata": {},
   "outputs": [
    {
     "data": {
      "text/html": [
       "<div>\n",
       "<style scoped>\n",
       "    .dataframe tbody tr th:only-of-type {\n",
       "        vertical-align: middle;\n",
       "    }\n",
       "\n",
       "    .dataframe tbody tr th {\n",
       "        vertical-align: top;\n",
       "    }\n",
       "\n",
       "    .dataframe thead th {\n",
       "        text-align: right;\n",
       "    }\n",
       "</style>\n",
       "<table border=\"1\" class=\"dataframe\">\n",
       "  <thead>\n",
       "    <tr style=\"text-align: right;\">\n",
       "      <th></th>\n",
       "      <th>Col1</th>\n",
       "      <th>Col2</th>\n",
       "      <th>Col3</th>\n",
       "      <th>Col4</th>\n",
       "      <th>Col5</th>\n",
       "      <th>Col6</th>\n",
       "      <th>Col7</th>\n",
       "      <th>Col8</th>\n",
       "      <th>Col9</th>\n",
       "      <th>Col10</th>\n",
       "    </tr>\n",
       "  </thead>\n",
       "  <tbody>\n",
       "    <tr>\n",
       "      <th>count</th>\n",
       "      <td>1000.000000</td>\n",
       "      <td>1000.000000</td>\n",
       "      <td>1000.000000</td>\n",
       "      <td>1000.000000</td>\n",
       "      <td>1000.000000</td>\n",
       "      <td>1000.000000</td>\n",
       "      <td>1000.000000</td>\n",
       "      <td>1000.000000</td>\n",
       "      <td>1000.000000</td>\n",
       "      <td>1000.000000</td>\n",
       "    </tr>\n",
       "    <tr>\n",
       "      <th>mean</th>\n",
       "      <td>0.491362</td>\n",
       "      <td>0.490200</td>\n",
       "      <td>0.509077</td>\n",
       "      <td>0.497362</td>\n",
       "      <td>0.586120</td>\n",
       "      <td>0.514636</td>\n",
       "      <td>0.508270</td>\n",
       "      <td>0.457541</td>\n",
       "      <td>0.477685</td>\n",
       "      <td>0.495760</td>\n",
       "    </tr>\n",
       "    <tr>\n",
       "      <th>std</th>\n",
       "      <td>0.259138</td>\n",
       "      <td>0.251931</td>\n",
       "      <td>0.256606</td>\n",
       "      <td>0.263562</td>\n",
       "      <td>0.334658</td>\n",
       "      <td>0.317470</td>\n",
       "      <td>0.278483</td>\n",
       "      <td>0.220129</td>\n",
       "      <td>0.241432</td>\n",
       "      <td>0.211677</td>\n",
       "    </tr>\n",
       "    <tr>\n",
       "      <th>min</th>\n",
       "      <td>0.000000</td>\n",
       "      <td>0.000000</td>\n",
       "      <td>0.000000</td>\n",
       "      <td>0.000000</td>\n",
       "      <td>0.000000</td>\n",
       "      <td>0.000000</td>\n",
       "      <td>0.000000</td>\n",
       "      <td>0.000000</td>\n",
       "      <td>0.000000</td>\n",
       "      <td>0.014495</td>\n",
       "    </tr>\n",
       "    <tr>\n",
       "      <th>25%</th>\n",
       "      <td>0.287458</td>\n",
       "      <td>0.291449</td>\n",
       "      <td>0.337802</td>\n",
       "      <td>0.256147</td>\n",
       "      <td>0.169680</td>\n",
       "      <td>0.142587</td>\n",
       "      <td>0.246021</td>\n",
       "      <td>0.245539</td>\n",
       "      <td>0.291452</td>\n",
       "      <td>0.329904</td>\n",
       "    </tr>\n",
       "    <tr>\n",
       "      <th>50%</th>\n",
       "      <td>0.492070</td>\n",
       "      <td>0.488656</td>\n",
       "      <td>0.510077</td>\n",
       "      <td>0.497537</td>\n",
       "      <td>0.782019</td>\n",
       "      <td>0.537953</td>\n",
       "      <td>0.465679</td>\n",
       "      <td>0.515619</td>\n",
       "      <td>0.387753</td>\n",
       "      <td>0.488891</td>\n",
       "    </tr>\n",
       "    <tr>\n",
       "      <th>75%</th>\n",
       "      <td>0.694192</td>\n",
       "      <td>0.686531</td>\n",
       "      <td>0.686914</td>\n",
       "      <td>0.731949</td>\n",
       "      <td>0.847956</td>\n",
       "      <td>0.856512</td>\n",
       "      <td>0.804935</td>\n",
       "      <td>0.626757</td>\n",
       "      <td>0.723674</td>\n",
       "      <td>0.659528</td>\n",
       "    </tr>\n",
       "    <tr>\n",
       "      <th>max</th>\n",
       "      <td>0.994431</td>\n",
       "      <td>1.000000</td>\n",
       "      <td>1.000000</td>\n",
       "      <td>1.000000</td>\n",
       "      <td>1.000000</td>\n",
       "      <td>1.000000</td>\n",
       "      <td>1.000000</td>\n",
       "      <td>1.000000</td>\n",
       "      <td>0.988732</td>\n",
       "      <td>1.000000</td>\n",
       "    </tr>\n",
       "  </tbody>\n",
       "</table>\n",
       "</div>"
      ],
      "text/plain": [
       "              Col1         Col2         Col3         Col4         Col5  \\\n",
       "count  1000.000000  1000.000000  1000.000000  1000.000000  1000.000000   \n",
       "mean      0.491362     0.490200     0.509077     0.497362     0.586120   \n",
       "std       0.259138     0.251931     0.256606     0.263562     0.334658   \n",
       "min       0.000000     0.000000     0.000000     0.000000     0.000000   \n",
       "25%       0.287458     0.291449     0.337802     0.256147     0.169680   \n",
       "50%       0.492070     0.488656     0.510077     0.497537     0.782019   \n",
       "75%       0.694192     0.686531     0.686914     0.731949     0.847956   \n",
       "max       0.994431     1.000000     1.000000     1.000000     1.000000   \n",
       "\n",
       "              Col6         Col7         Col8         Col9        Col10  \n",
       "count  1000.000000  1000.000000  1000.000000  1000.000000  1000.000000  \n",
       "mean      0.514636     0.508270     0.457541     0.477685     0.495760  \n",
       "std       0.317470     0.278483     0.220129     0.241432     0.211677  \n",
       "min       0.000000     0.000000     0.000000     0.000000     0.014495  \n",
       "25%       0.142587     0.246021     0.245539     0.291452     0.329904  \n",
       "50%       0.537953     0.465679     0.515619     0.387753     0.488891  \n",
       "75%       0.856512     0.804935     0.626757     0.723674     0.659528  \n",
       "max       1.000000     1.000000     1.000000     0.988732     1.000000  "
      ]
     },
     "execution_count": 17,
     "metadata": {},
     "output_type": "execute_result"
    }
   ],
   "source": [
    "df.describe()"
   ]
  },
  {
   "cell_type": "markdown",
   "metadata": {},
   "source": [
    "## Looking into the missing values"
   ]
  },
  {
   "cell_type": "code",
   "execution_count": 18,
   "metadata": {},
   "outputs": [
    {
     "data": {
      "text/plain": [
       "<AxesSubplot:>"
      ]
     },
     "execution_count": 18,
     "metadata": {},
     "output_type": "execute_result"
    },
    {
     "data": {
      "image/png": "[encoded data removed]",
      "text/plain": [
       "<Figure size 1152x504 with 2 Axes>"
      ]
     },
     "metadata": {
      "needs_background": "light"
     },
     "output_type": "display_data"
    }
   ],
   "source": [
    "plt.figure(figsize=(16,7)) # seems like our data have missing values !\n",
    "sns.heatmap(df.isna().transpose())"
   ]
  },
  {
   "cell_type": "code",
   "execution_count": 19,
   "metadata": {},
   "outputs": [
    {
     "data": {
      "text/html": [
       "<div>\n",
       "<style scoped>\n",
       "    .dataframe tbody tr th:only-of-type {\n",
       "        vertical-align: middle;\n",
       "    }\n",
       "\n",
       "    .dataframe tbody tr th {\n",
       "        vertical-align: top;\n",
       "    }\n",
       "\n",
       "    .dataframe thead th {\n",
       "        text-align: right;\n",
       "    }\n",
       "</style>\n",
       "<table border=\"1\" class=\"dataframe\">\n",
       "  <thead>\n",
       "    <tr style=\"text-align: right;\">\n",
       "      <th></th>\n",
       "      <th>Col1</th>\n",
       "      <th>Col2</th>\n",
       "      <th>Col3</th>\n",
       "      <th>Col4</th>\n",
       "      <th>Col5</th>\n",
       "      <th>Col6</th>\n",
       "      <th>Col7</th>\n",
       "      <th>Col8</th>\n",
       "      <th>Col9</th>\n",
       "      <th>Col10</th>\n",
       "    </tr>\n",
       "  </thead>\n",
       "  <tbody>\n",
       "    <tr>\n",
       "      <th>0</th>\n",
       "      <td>0.263995</td>\n",
       "      <td>0.764929</td>\n",
       "      <td>0.138424</td>\n",
       "      <td>0.935242</td>\n",
       "      <td>0.605867</td>\n",
       "      <td>0.518790</td>\n",
       "      <td>0.912225</td>\n",
       "      <td>0.608234</td>\n",
       "      <td>0.723782</td>\n",
       "      <td>0.733591</td>\n",
       "    </tr>\n",
       "    <tr>\n",
       "      <th>1</th>\n",
       "      <td>0.546092</td>\n",
       "      <td>0.653975</td>\n",
       "      <td>0.065575</td>\n",
       "      <td>0.227772</td>\n",
       "      <td>0.845269</td>\n",
       "      <td>0.837066</td>\n",
       "      <td>0.272379</td>\n",
       "      <td>0.331679</td>\n",
       "      <td>0.429297</td>\n",
       "      <td>0.367422</td>\n",
       "    </tr>\n",
       "    <tr>\n",
       "      <th>2</th>\n",
       "      <td>0.336714</td>\n",
       "      <td>0.538842</td>\n",
       "      <td>0.192801</td>\n",
       "      <td>0.553563</td>\n",
       "      <td>0.074515</td>\n",
       "      <td>0.332993</td>\n",
       "      <td>0.365792</td>\n",
       "      <td>0.861309</td>\n",
       "      <td>0.899017</td>\n",
       "      <td>0.088600</td>\n",
       "    </tr>\n",
       "    <tr>\n",
       "      <th>3</th>\n",
       "      <td>0.092108</td>\n",
       "      <td>0.995017</td>\n",
       "      <td>0.014465</td>\n",
       "      <td>0.176371</td>\n",
       "      <td>0.241530</td>\n",
       "      <td>0.514724</td>\n",
       "      <td>0.562208</td>\n",
       "      <td>0.158963</td>\n",
       "      <td>0.073715</td>\n",
       "      <td>0.208463</td>\n",
       "    </tr>\n",
       "    <tr>\n",
       "      <th>4</th>\n",
       "      <td>0.325261</td>\n",
       "      <td>0.805968</td>\n",
       "      <td>0.957033</td>\n",
       "      <td>0.331665</td>\n",
       "      <td>0.307923</td>\n",
       "      <td>0.355315</td>\n",
       "      <td>0.501899</td>\n",
       "      <td>0.558449</td>\n",
       "      <td>0.885169</td>\n",
       "      <td>0.182754</td>\n",
       "    </tr>\n",
       "  </tbody>\n",
       "</table>\n",
       "</div>"
      ],
      "text/plain": [
       "       Col1      Col2      Col3      Col4      Col5      Col6      Col7  \\\n",
       "0  0.263995  0.764929  0.138424  0.935242  0.605867  0.518790  0.912225   \n",
       "1  0.546092  0.653975  0.065575  0.227772  0.845269  0.837066  0.272379   \n",
       "2  0.336714  0.538842  0.192801  0.553563  0.074515  0.332993  0.365792   \n",
       "3  0.092108  0.995017  0.014465  0.176371  0.241530  0.514724  0.562208   \n",
       "4  0.325261  0.805968  0.957033  0.331665  0.307923  0.355315  0.501899   \n",
       "\n",
       "       Col8      Col9     Col10  \n",
       "0  0.608234  0.723782  0.733591  \n",
       "1  0.331679  0.429297  0.367422  \n",
       "2  0.861309  0.899017  0.088600  \n",
       "3  0.158963  0.073715  0.208463  \n",
       "4  0.558449  0.885169  0.182754  "
      ]
     },
     "execution_count": 19,
     "metadata": {},
     "output_type": "execute_result"
    }
   ],
   "source": [
    "df.head()"
   ]
  },
  {
   "cell_type": "code",
   "execution_count": 20,
   "metadata": {},
   "outputs": [
    {
     "data": {
      "text/html": [
       "<style type=\"text/css\">\n",
       "</style>\n",
       "<table id=\"T_17ba6_\">\n",
       "  <thead>\n",
       "    <tr>\n",
       "      <th class=\"blank level0\" >&nbsp;</th>\n",
       "      <th class=\"col_heading level0 col0\" >Description</th>\n",
       "      <th class=\"col_heading level0 col1\" >Value</th>\n",
       "    </tr>\n",
       "  </thead>\n",
       "  <tbody>\n",
       "    <tr>\n",
       "      <th id=\"T_17ba6_level0_row0\" class=\"row_heading level0 row0\" >0</th>\n",
       "      <td id=\"T_17ba6_row0_col0\" class=\"data row0 col0\" >session_id</td>\n",
       "      <td id=\"T_17ba6_row0_col1\" class=\"data row0 col1\" >725</td>\n",
       "    </tr>\n",
       "    <tr>\n",
       "      <th id=\"T_17ba6_level0_row1\" class=\"row_heading level0 row1\" >1</th>\n",
       "      <td id=\"T_17ba6_row1_col0\" class=\"data row1 col0\" >Original Data</td>\n",
       "      <td id=\"T_17ba6_row1_col1\" class=\"data row1 col1\" >(1000, 10)</td>\n",
       "    </tr>\n",
       "    <tr>\n",
       "      <th id=\"T_17ba6_level0_row2\" class=\"row_heading level0 row2\" >2</th>\n",
       "      <td id=\"T_17ba6_row2_col0\" class=\"data row2 col0\" >Missing Values</td>\n",
       "      <td id=\"T_17ba6_row2_col1\" class=\"data row2 col1\" >False</td>\n",
       "    </tr>\n",
       "    <tr>\n",
       "      <th id=\"T_17ba6_level0_row3\" class=\"row_heading level0 row3\" >3</th>\n",
       "      <td id=\"T_17ba6_row3_col0\" class=\"data row3 col0\" >Numeric Features</td>\n",
       "      <td id=\"T_17ba6_row3_col1\" class=\"data row3 col1\" >10</td>\n",
       "    </tr>\n",
       "    <tr>\n",
       "      <th id=\"T_17ba6_level0_row4\" class=\"row_heading level0 row4\" >4</th>\n",
       "      <td id=\"T_17ba6_row4_col0\" class=\"data row4 col0\" >Categorical Features</td>\n",
       "      <td id=\"T_17ba6_row4_col1\" class=\"data row4 col1\" >0</td>\n",
       "    </tr>\n",
       "    <tr>\n",
       "      <th id=\"T_17ba6_level0_row5\" class=\"row_heading level0 row5\" >5</th>\n",
       "      <td id=\"T_17ba6_row5_col0\" class=\"data row5 col0\" >Ordinal Features</td>\n",
       "      <td id=\"T_17ba6_row5_col1\" class=\"data row5 col1\" >False</td>\n",
       "    </tr>\n",
       "    <tr>\n",
       "      <th id=\"T_17ba6_level0_row6\" class=\"row_heading level0 row6\" >6</th>\n",
       "      <td id=\"T_17ba6_row6_col0\" class=\"data row6 col0\" >High Cardinality Features</td>\n",
       "      <td id=\"T_17ba6_row6_col1\" class=\"data row6 col1\" >False</td>\n",
       "    </tr>\n",
       "    <tr>\n",
       "      <th id=\"T_17ba6_level0_row7\" class=\"row_heading level0 row7\" >7</th>\n",
       "      <td id=\"T_17ba6_row7_col0\" class=\"data row7 col0\" >High Cardinality Method</td>\n",
       "      <td id=\"T_17ba6_row7_col1\" class=\"data row7 col1\" >None</td>\n",
       "    </tr>\n",
       "    <tr>\n",
       "      <th id=\"T_17ba6_level0_row8\" class=\"row_heading level0 row8\" >8</th>\n",
       "      <td id=\"T_17ba6_row8_col0\" class=\"data row8 col0\" >Transformed Data</td>\n",
       "      <td id=\"T_17ba6_row8_col1\" class=\"data row8 col1\" >(1000, 10)</td>\n",
       "    </tr>\n",
       "    <tr>\n",
       "      <th id=\"T_17ba6_level0_row9\" class=\"row_heading level0 row9\" >9</th>\n",
       "      <td id=\"T_17ba6_row9_col0\" class=\"data row9 col0\" >CPU Jobs</td>\n",
       "      <td id=\"T_17ba6_row9_col1\" class=\"data row9 col1\" >-1</td>\n",
       "    </tr>\n",
       "    <tr>\n",
       "      <th id=\"T_17ba6_level0_row10\" class=\"row_heading level0 row10\" >10</th>\n",
       "      <td id=\"T_17ba6_row10_col0\" class=\"data row10 col0\" >Use GPU</td>\n",
       "      <td id=\"T_17ba6_row10_col1\" class=\"data row10 col1\" >False</td>\n",
       "    </tr>\n",
       "    <tr>\n",
       "      <th id=\"T_17ba6_level0_row11\" class=\"row_heading level0 row11\" >11</th>\n",
       "      <td id=\"T_17ba6_row11_col0\" class=\"data row11 col0\" >Log Experiment</td>\n",
       "      <td id=\"T_17ba6_row11_col1\" class=\"data row11 col1\" >False</td>\n",
       "    </tr>\n",
       "    <tr>\n",
       "      <th id=\"T_17ba6_level0_row12\" class=\"row_heading level0 row12\" >12</th>\n",
       "      <td id=\"T_17ba6_row12_col0\" class=\"data row12 col0\" >Experiment Name</td>\n",
       "      <td id=\"T_17ba6_row12_col1\" class=\"data row12 col1\" >cluster-default-name</td>\n",
       "    </tr>\n",
       "    <tr>\n",
       "      <th id=\"T_17ba6_level0_row13\" class=\"row_heading level0 row13\" >13</th>\n",
       "      <td id=\"T_17ba6_row13_col0\" class=\"data row13 col0\" >USI</td>\n",
       "      <td id=\"T_17ba6_row13_col1\" class=\"data row13 col1\" >9bdf</td>\n",
       "    </tr>\n",
       "    <tr>\n",
       "      <th id=\"T_17ba6_level0_row14\" class=\"row_heading level0 row14\" >14</th>\n",
       "      <td id=\"T_17ba6_row14_col0\" class=\"data row14 col0\" >Imputation Type</td>\n",
       "      <td id=\"T_17ba6_row14_col1\" class=\"data row14 col1\" >simple</td>\n",
       "    </tr>\n",
       "    <tr>\n",
       "      <th id=\"T_17ba6_level0_row15\" class=\"row_heading level0 row15\" >15</th>\n",
       "      <td id=\"T_17ba6_row15_col0\" class=\"data row15 col0\" >Iterative Imputation Iteration</td>\n",
       "      <td id=\"T_17ba6_row15_col1\" class=\"data row15 col1\" >None</td>\n",
       "    </tr>\n",
       "    <tr>\n",
       "      <th id=\"T_17ba6_level0_row16\" class=\"row_heading level0 row16\" >16</th>\n",
       "      <td id=\"T_17ba6_row16_col0\" class=\"data row16 col0\" >Numeric Imputer</td>\n",
       "      <td id=\"T_17ba6_row16_col1\" class=\"data row16 col1\" >mean</td>\n",
       "    </tr>\n",
       "    <tr>\n",
       "      <th id=\"T_17ba6_level0_row17\" class=\"row_heading level0 row17\" >17</th>\n",
       "      <td id=\"T_17ba6_row17_col0\" class=\"data row17 col0\" >Iterative Imputation Numeric Model</td>\n",
       "      <td id=\"T_17ba6_row17_col1\" class=\"data row17 col1\" >None</td>\n",
       "    </tr>\n",
       "    <tr>\n",
       "      <th id=\"T_17ba6_level0_row18\" class=\"row_heading level0 row18\" >18</th>\n",
       "      <td id=\"T_17ba6_row18_col0\" class=\"data row18 col0\" >Categorical Imputer</td>\n",
       "      <td id=\"T_17ba6_row18_col1\" class=\"data row18 col1\" >mode</td>\n",
       "    </tr>\n",
       "    <tr>\n",
       "      <th id=\"T_17ba6_level0_row19\" class=\"row_heading level0 row19\" >19</th>\n",
       "      <td id=\"T_17ba6_row19_col0\" class=\"data row19 col0\" >Iterative Imputation Categorical Model</td>\n",
       "      <td id=\"T_17ba6_row19_col1\" class=\"data row19 col1\" >None</td>\n",
       "    </tr>\n",
       "    <tr>\n",
       "      <th id=\"T_17ba6_level0_row20\" class=\"row_heading level0 row20\" >20</th>\n",
       "      <td id=\"T_17ba6_row20_col0\" class=\"data row20 col0\" >Unknown Categoricals Handling</td>\n",
       "      <td id=\"T_17ba6_row20_col1\" class=\"data row20 col1\" >least_frequent</td>\n",
       "    </tr>\n",
       "    <tr>\n",
       "      <th id=\"T_17ba6_level0_row21\" class=\"row_heading level0 row21\" >21</th>\n",
       "      <td id=\"T_17ba6_row21_col0\" class=\"data row21 col0\" >Normalize</td>\n",
       "      <td id=\"T_17ba6_row21_col1\" class=\"data row21 col1\" >False</td>\n",
       "    </tr>\n",
       "    <tr>\n",
       "      <th id=\"T_17ba6_level0_row22\" class=\"row_heading level0 row22\" >22</th>\n",
       "      <td id=\"T_17ba6_row22_col0\" class=\"data row22 col0\" >Normalize Method</td>\n",
       "      <td id=\"T_17ba6_row22_col1\" class=\"data row22 col1\" >None</td>\n",
       "    </tr>\n",
       "    <tr>\n",
       "      <th id=\"T_17ba6_level0_row23\" class=\"row_heading level0 row23\" >23</th>\n",
       "      <td id=\"T_17ba6_row23_col0\" class=\"data row23 col0\" >Transformation</td>\n",
       "      <td id=\"T_17ba6_row23_col1\" class=\"data row23 col1\" >False</td>\n",
       "    </tr>\n",
       "    <tr>\n",
       "      <th id=\"T_17ba6_level0_row24\" class=\"row_heading level0 row24\" >24</th>\n",
       "      <td id=\"T_17ba6_row24_col0\" class=\"data row24 col0\" >Transformation Method</td>\n",
       "      <td id=\"T_17ba6_row24_col1\" class=\"data row24 col1\" >None</td>\n",
       "    </tr>\n",
       "    <tr>\n",
       "      <th id=\"T_17ba6_level0_row25\" class=\"row_heading level0 row25\" >25</th>\n",
       "      <td id=\"T_17ba6_row25_col0\" class=\"data row25 col0\" >PCA</td>\n",
       "      <td id=\"T_17ba6_row25_col1\" class=\"data row25 col1\" >False</td>\n",
       "    </tr>\n",
       "    <tr>\n",
       "      <th id=\"T_17ba6_level0_row26\" class=\"row_heading level0 row26\" >26</th>\n",
       "      <td id=\"T_17ba6_row26_col0\" class=\"data row26 col0\" >PCA Method</td>\n",
       "      <td id=\"T_17ba6_row26_col1\" class=\"data row26 col1\" >None</td>\n",
       "    </tr>\n",
       "    <tr>\n",
       "      <th id=\"T_17ba6_level0_row27\" class=\"row_heading level0 row27\" >27</th>\n",
       "      <td id=\"T_17ba6_row27_col0\" class=\"data row27 col0\" >PCA Components</td>\n",
       "      <td id=\"T_17ba6_row27_col1\" class=\"data row27 col1\" >None</td>\n",
       "    </tr>\n",
       "    <tr>\n",
       "      <th id=\"T_17ba6_level0_row28\" class=\"row_heading level0 row28\" >28</th>\n",
       "      <td id=\"T_17ba6_row28_col0\" class=\"data row28 col0\" >Ignore Low Variance</td>\n",
       "      <td id=\"T_17ba6_row28_col1\" class=\"data row28 col1\" >False</td>\n",
       "    </tr>\n",
       "    <tr>\n",
       "      <th id=\"T_17ba6_level0_row29\" class=\"row_heading level0 row29\" >29</th>\n",
       "      <td id=\"T_17ba6_row29_col0\" class=\"data row29 col0\" >Combine Rare Levels</td>\n",
       "      <td id=\"T_17ba6_row29_col1\" class=\"data row29 col1\" >False</td>\n",
       "    </tr>\n",
       "    <tr>\n",
       "      <th id=\"T_17ba6_level0_row30\" class=\"row_heading level0 row30\" >30</th>\n",
       "      <td id=\"T_17ba6_row30_col0\" class=\"data row30 col0\" >Rare Level Threshold</td>\n",
       "      <td id=\"T_17ba6_row30_col1\" class=\"data row30 col1\" >None</td>\n",
       "    </tr>\n",
       "    <tr>\n",
       "      <th id=\"T_17ba6_level0_row31\" class=\"row_heading level0 row31\" >31</th>\n",
       "      <td id=\"T_17ba6_row31_col0\" class=\"data row31 col0\" >Numeric Binning</td>\n",
       "      <td id=\"T_17ba6_row31_col1\" class=\"data row31 col1\" >False</td>\n",
       "    </tr>\n",
       "    <tr>\n",
       "      <th id=\"T_17ba6_level0_row32\" class=\"row_heading level0 row32\" >32</th>\n",
       "      <td id=\"T_17ba6_row32_col0\" class=\"data row32 col0\" >Remove Outliers</td>\n",
       "      <td id=\"T_17ba6_row32_col1\" class=\"data row32 col1\" >False</td>\n",
       "    </tr>\n",
       "    <tr>\n",
       "      <th id=\"T_17ba6_level0_row33\" class=\"row_heading level0 row33\" >33</th>\n",
       "      <td id=\"T_17ba6_row33_col0\" class=\"data row33 col0\" >Outliers Threshold</td>\n",
       "      <td id=\"T_17ba6_row33_col1\" class=\"data row33 col1\" >None</td>\n",
       "    </tr>\n",
       "    <tr>\n",
       "      <th id=\"T_17ba6_level0_row34\" class=\"row_heading level0 row34\" >34</th>\n",
       "      <td id=\"T_17ba6_row34_col0\" class=\"data row34 col0\" >Remove Multicollinearity</td>\n",
       "      <td id=\"T_17ba6_row34_col1\" class=\"data row34 col1\" >False</td>\n",
       "    </tr>\n",
       "    <tr>\n",
       "      <th id=\"T_17ba6_level0_row35\" class=\"row_heading level0 row35\" >35</th>\n",
       "      <td id=\"T_17ba6_row35_col0\" class=\"data row35 col0\" >Multicollinearity Threshold</td>\n",
       "      <td id=\"T_17ba6_row35_col1\" class=\"data row35 col1\" >None</td>\n",
       "    </tr>\n",
       "    <tr>\n",
       "      <th id=\"T_17ba6_level0_row36\" class=\"row_heading level0 row36\" >36</th>\n",
       "      <td id=\"T_17ba6_row36_col0\" class=\"data row36 col0\" >Remove Perfect Collinearity</td>\n",
       "      <td id=\"T_17ba6_row36_col1\" class=\"data row36 col1\" >False</td>\n",
       "    </tr>\n",
       "    <tr>\n",
       "      <th id=\"T_17ba6_level0_row37\" class=\"row_heading level0 row37\" >37</th>\n",
       "      <td id=\"T_17ba6_row37_col0\" class=\"data row37 col0\" >Clustering</td>\n",
       "      <td id=\"T_17ba6_row37_col1\" class=\"data row37 col1\" >False</td>\n",
       "    </tr>\n",
       "    <tr>\n",
       "      <th id=\"T_17ba6_level0_row38\" class=\"row_heading level0 row38\" >38</th>\n",
       "      <td id=\"T_17ba6_row38_col0\" class=\"data row38 col0\" >Clustering Iteration</td>\n",
       "      <td id=\"T_17ba6_row38_col1\" class=\"data row38 col1\" >None</td>\n",
       "    </tr>\n",
       "    <tr>\n",
       "      <th id=\"T_17ba6_level0_row39\" class=\"row_heading level0 row39\" >39</th>\n",
       "      <td id=\"T_17ba6_row39_col0\" class=\"data row39 col0\" >Polynomial Features</td>\n",
       "      <td id=\"T_17ba6_row39_col1\" class=\"data row39 col1\" >False</td>\n",
       "    </tr>\n",
       "    <tr>\n",
       "      <th id=\"T_17ba6_level0_row40\" class=\"row_heading level0 row40\" >40</th>\n",
       "      <td id=\"T_17ba6_row40_col0\" class=\"data row40 col0\" >Polynomial Degree</td>\n",
       "      <td id=\"T_17ba6_row40_col1\" class=\"data row40 col1\" >None</td>\n",
       "    </tr>\n",
       "    <tr>\n",
       "      <th id=\"T_17ba6_level0_row41\" class=\"row_heading level0 row41\" >41</th>\n",
       "      <td id=\"T_17ba6_row41_col0\" class=\"data row41 col0\" >Trignometry Features</td>\n",
       "      <td id=\"T_17ba6_row41_col1\" class=\"data row41 col1\" >False</td>\n",
       "    </tr>\n",
       "    <tr>\n",
       "      <th id=\"T_17ba6_level0_row42\" class=\"row_heading level0 row42\" >42</th>\n",
       "      <td id=\"T_17ba6_row42_col0\" class=\"data row42 col0\" >Polynomial Threshold</td>\n",
       "      <td id=\"T_17ba6_row42_col1\" class=\"data row42 col1\" >None</td>\n",
       "    </tr>\n",
       "    <tr>\n",
       "      <th id=\"T_17ba6_level0_row43\" class=\"row_heading level0 row43\" >43</th>\n",
       "      <td id=\"T_17ba6_row43_col0\" class=\"data row43 col0\" >Group Features</td>\n",
       "      <td id=\"T_17ba6_row43_col1\" class=\"data row43 col1\" >False</td>\n",
       "    </tr>\n",
       "    <tr>\n",
       "      <th id=\"T_17ba6_level0_row44\" class=\"row_heading level0 row44\" >44</th>\n",
       "      <td id=\"T_17ba6_row44_col0\" class=\"data row44 col0\" >Feature Selection</td>\n",
       "      <td id=\"T_17ba6_row44_col1\" class=\"data row44 col1\" >False</td>\n",
       "    </tr>\n",
       "    <tr>\n",
       "      <th id=\"T_17ba6_level0_row45\" class=\"row_heading level0 row45\" >45</th>\n",
       "      <td id=\"T_17ba6_row45_col0\" class=\"data row45 col0\" >Feature Selection Method</td>\n",
       "      <td id=\"T_17ba6_row45_col1\" class=\"data row45 col1\" >classic</td>\n",
       "    </tr>\n",
       "    <tr>\n",
       "      <th id=\"T_17ba6_level0_row46\" class=\"row_heading level0 row46\" >46</th>\n",
       "      <td id=\"T_17ba6_row46_col0\" class=\"data row46 col0\" >Features Selection Threshold</td>\n",
       "      <td id=\"T_17ba6_row46_col1\" class=\"data row46 col1\" >None</td>\n",
       "    </tr>\n",
       "    <tr>\n",
       "      <th id=\"T_17ba6_level0_row47\" class=\"row_heading level0 row47\" >47</th>\n",
       "      <td id=\"T_17ba6_row47_col0\" class=\"data row47 col0\" >Feature Interaction</td>\n",
       "      <td id=\"T_17ba6_row47_col1\" class=\"data row47 col1\" >False</td>\n",
       "    </tr>\n",
       "    <tr>\n",
       "      <th id=\"T_17ba6_level0_row48\" class=\"row_heading level0 row48\" >48</th>\n",
       "      <td id=\"T_17ba6_row48_col0\" class=\"data row48 col0\" >Feature Ratio</td>\n",
       "      <td id=\"T_17ba6_row48_col1\" class=\"data row48 col1\" >False</td>\n",
       "    </tr>\n",
       "    <tr>\n",
       "      <th id=\"T_17ba6_level0_row49\" class=\"row_heading level0 row49\" >49</th>\n",
       "      <td id=\"T_17ba6_row49_col0\" class=\"data row49 col0\" >Interaction Threshold</td>\n",
       "      <td id=\"T_17ba6_row49_col1\" class=\"data row49 col1\" >None</td>\n",
       "    </tr>\n",
       "  </tbody>\n",
       "</table>\n"
      ],
      "text/plain": [
       "<pandas.io.formats.style.Styler at 0x20f7870c5e0>"
      ]
     },
     "metadata": {},
     "output_type": "display_data"
    }
   ],
   "source": [
    "anom1 = setup(data = df)"
   ]
  },
  {
   "cell_type": "code",
   "execution_count": 21,
   "metadata": {},
   "outputs": [
    {
     "data": {
      "text/html": [
       "<div>\n",
       "<style scoped>\n",
       "    .dataframe tbody tr th:only-of-type {\n",
       "        vertical-align: middle;\n",
       "    }\n",
       "\n",
       "    .dataframe tbody tr th {\n",
       "        vertical-align: top;\n",
       "    }\n",
       "\n",
       "    .dataframe thead th {\n",
       "        text-align: right;\n",
       "    }\n",
       "</style>\n",
       "<table border=\"1\" class=\"dataframe\">\n",
       "  <thead>\n",
       "    <tr style=\"text-align: right;\">\n",
       "      <th></th>\n",
       "      <th>Name</th>\n",
       "      <th>Reference</th>\n",
       "    </tr>\n",
       "    <tr>\n",
       "      <th>ID</th>\n",
       "      <th></th>\n",
       "      <th></th>\n",
       "    </tr>\n",
       "  </thead>\n",
       "  <tbody>\n",
       "    <tr>\n",
       "      <th>kmeans</th>\n",
       "      <td>K-Means Clustering</td>\n",
       "      <td>sklearn.cluster._kmeans.KMeans</td>\n",
       "    </tr>\n",
       "    <tr>\n",
       "      <th>ap</th>\n",
       "      <td>Affinity Propagation</td>\n",
       "      <td>sklearn.cluster._affinity_propagation.Affinity...</td>\n",
       "    </tr>\n",
       "    <tr>\n",
       "      <th>meanshift</th>\n",
       "      <td>Mean Shift Clustering</td>\n",
       "      <td>sklearn.cluster._mean_shift.MeanShift</td>\n",
       "    </tr>\n",
       "    <tr>\n",
       "      <th>sc</th>\n",
       "      <td>Spectral Clustering</td>\n",
       "      <td>sklearn.cluster._spectral.SpectralClustering</td>\n",
       "    </tr>\n",
       "    <tr>\n",
       "      <th>hclust</th>\n",
       "      <td>Agglomerative Clustering</td>\n",
       "      <td>sklearn.cluster._agglomerative.AgglomerativeCl...</td>\n",
       "    </tr>\n",
       "    <tr>\n",
       "      <th>dbscan</th>\n",
       "      <td>Density-Based Spatial Clustering</td>\n",
       "      <td>sklearn.cluster._dbscan.DBSCAN</td>\n",
       "    </tr>\n",
       "    <tr>\n",
       "      <th>optics</th>\n",
       "      <td>OPTICS Clustering</td>\n",
       "      <td>sklearn.cluster._optics.OPTICS</td>\n",
       "    </tr>\n",
       "    <tr>\n",
       "      <th>birch</th>\n",
       "      <td>Birch Clustering</td>\n",
       "      <td>sklearn.cluster._birch.Birch</td>\n",
       "    </tr>\n",
       "    <tr>\n",
       "      <th>kmodes</th>\n",
       "      <td>K-Modes Clustering</td>\n",
       "      <td>kmodes.kmodes.KModes</td>\n",
       "    </tr>\n",
       "  </tbody>\n",
       "</table>\n",
       "</div>"
      ],
      "text/plain": [
       "                                       Name  \\\n",
       "ID                                            \n",
       "kmeans                   K-Means Clustering   \n",
       "ap                     Affinity Propagation   \n",
       "meanshift             Mean Shift Clustering   \n",
       "sc                      Spectral Clustering   \n",
       "hclust             Agglomerative Clustering   \n",
       "dbscan     Density-Based Spatial Clustering   \n",
       "optics                    OPTICS Clustering   \n",
       "birch                      Birch Clustering   \n",
       "kmodes                   K-Modes Clustering   \n",
       "\n",
       "                                                   Reference  \n",
       "ID                                                            \n",
       "kmeans                        sklearn.cluster._kmeans.KMeans  \n",
       "ap         sklearn.cluster._affinity_propagation.Affinity...  \n",
       "meanshift              sklearn.cluster._mean_shift.MeanShift  \n",
       "sc              sklearn.cluster._spectral.SpectralClustering  \n",
       "hclust     sklearn.cluster._agglomerative.AgglomerativeCl...  \n",
       "dbscan                        sklearn.cluster._dbscan.DBSCAN  \n",
       "optics                        sklearn.cluster._optics.OPTICS  \n",
       "birch                           sklearn.cluster._birch.Birch  \n",
       "kmodes                                  kmodes.kmodes.KModes  "
      ]
     },
     "execution_count": 21,
     "metadata": {},
     "output_type": "execute_result"
    }
   ],
   "source": [
    "models()\n"
   ]
  },
  {
   "cell_type": "code",
   "execution_count": 24,
   "metadata": {},
   "outputs": [
    {
     "data": {
      "text/html": [
       "<div>\n",
       "<style scoped>\n",
       "    .dataframe tbody tr th:only-of-type {\n",
       "        vertical-align: middle;\n",
       "    }\n",
       "\n",
       "    .dataframe tbody tr th {\n",
       "        vertical-align: top;\n",
       "    }\n",
       "\n",
       "    .dataframe thead th {\n",
       "        text-align: right;\n",
       "    }\n",
       "</style>\n",
       "<table border=\"1\" class=\"dataframe\">\n",
       "  <thead>\n",
       "    <tr style=\"text-align: right;\">\n",
       "      <th></th>\n",
       "      <th>Silhouette</th>\n",
       "      <th>Calinski-Harabasz</th>\n",
       "      <th>Davies-Bouldin</th>\n",
       "      <th>Homogeneity</th>\n",
       "      <th>Rand Index</th>\n",
       "      <th>Completeness</th>\n",
       "    </tr>\n",
       "  </thead>\n",
       "  <tbody>\n",
       "    <tr>\n",
       "      <th>0</th>\n",
       "      <td>0.2237</td>\n",
       "      <td>245.9363</td>\n",
       "      <td>1.6375</td>\n",
       "      <td>0</td>\n",
       "      <td>0</td>\n",
       "      <td>0</td>\n",
       "    </tr>\n",
       "  </tbody>\n",
       "</table>\n",
       "</div>"
      ],
      "text/plain": [
       "   Silhouette  Calinski-Harabasz  Davies-Bouldin  Homogeneity  Rand Index  \\\n",
       "0      0.2237           245.9363          1.6375            0           0   \n",
       "\n",
       "   Completeness  \n",
       "0             0  "
      ]
     },
     "metadata": {},
     "output_type": "display_data"
    }
   ],
   "source": [
    "model = pycaret.clustering.create_model('kmeans')"
   ]
  },
  {
   "cell_type": "code",
   "execution_count": 26,
   "metadata": {},
   "outputs": [
    {
     "data": {
      "application/vnd.plotly.v1+json": {
       "config": {
        "plotlyServerURL": "https://plot.ly"
       },
       "data": [
        {
         "customdata": [
          [
           0.263995357
          ],
          [
           0.301463054
          ],
          [
           0.694492121
          ],
          [
           0.396112685
          ],
          [
           0.078182281
          ],
          [
           0.724176488
          ],
          [
           0.237986115
          ],
          [
           0.777165379
          ],
          [
           0.579641592
          ],
          [
           0.280882054
          ],
          [
           0.092014087
          ],
          [
           0.070163044
          ],
          [
           0.634154867
          ],
          [
           0.422535109
          ],
          [
           0.559409515
          ],
          [
           0.706949589
          ],
          [
           0.319067345
          ],
          [
           0.42155819
          ],
          [
           0.591665146
          ],
          [
           0.918201584
          ],
          [
           0.440356144
          ],
          [
           0.054933913
          ],
          [
           0.265349549
          ],
          [
           0.261283603
          ],
          [
           0.297496875
          ],
          [
           0.956303031
          ],
          [
           0.155458996
          ],
          [
           0.296480415
          ],
          [
           0.335271141
          ],
          [
           0.622143843
          ],
          [
           0.116999171
          ],
          [
           0.411145245
          ],
          [
           0.497364052
          ],
          [
           0.600213807
          ],
          [
           0.331750941
          ],
          [
           0.055822991
          ],
          [
           0.71002775
          ],
          [
           0.468711853
          ],
          [
           0.574609024
          ],
          [
           0.514849806
          ],
          [
           0.14647302
          ],
          [
           0.072559853
          ],
          [
           0.640112102
          ],
          [
           0.732123386
          ],
          [
           0.73553424
          ],
          [
           0.388549207
          ],
          [
           0.486250073
          ],
          [
           0.529675785
          ],
          [
           0.744653087
          ],
          [
           0.27978062
          ],
          [
           0.746020922
          ],
          [
           0.867652984
          ],
          [
           0.408440236
          ],
          [
           0.221115312
          ],
          [
           0.787174286
          ],
          [
           0.098792281
          ],
          [
           0.580708108
          ],
          [
           0.160251854
          ],
          [
           0.134381075
          ],
          [
           0.329063619
          ],
          [
           0.59951107
          ],
          [
           0.245235627
          ],
          [
           0.391496379
          ],
          [
           0.7321109
          ],
          [
           0.465231269
          ],
          [
           0.635148967
          ],
          [
           0.04492903
          ],
          [
           0.130980216
          ],
          [
           0.674883265
          ],
          [
           0.822843584
          ],
          [
           0.59588355
          ],
          [
           0.698859621
          ],
          [
           0.732279108
          ],
          [
           0.257401434
          ],
          [
           0.606443965
          ],
          [
           0.733006927
          ],
          [
           0.703554284
          ],
          [
           0.39581257
          ],
          [
           0.617703921
          ],
          [
           0.694157143
          ],
          [
           0.619844009
          ],
          [
           0.879902171
          ],
          [
           0.58830141
          ],
          [
           0.221882453
          ],
          [
           0.752020991
          ],
          [
           0.96696247
          ],
          [
           0.943701921
          ],
          [
           0.687797396
          ],
          [
           0.9515026
          ],
          [
           0.252618554
          ],
          [
           0.569363476
          ],
          [
           0.053875998
          ],
          [
           0.221856234
          ],
          [
           0.290184964
          ],
          [
           0.665014804
          ],
          [
           0.628628926
          ],
          [
           0.287671353
          ],
          [
           0.48039136
          ],
          [
           0.967405608
          ],
          [
           0.512248622
          ],
          [
           0.535356114
          ],
          [
           0.721647006
          ],
          [
           0.097207945
          ],
          [
           0.245049023
          ],
          [
           0.592520516
          ],
          [
           0.221581064
          ],
          [
           0.876798106
          ],
          [
           0.885936316
          ],
          [
           0.892879338
          ],
          [
           0.475345002
          ],
          [
           0.732654598
          ],
          [
           0.093656447
          ],
          [
           0.302221978
          ],
          [
           0.338571357
          ],
          [
           0.508255233
          ],
          [
           0.290875487
          ],
          [
           0.611850232
          ],
          [
           0.568054311
          ],
          [
           0.585134549
          ],
          [
           0.661308553
          ],
          [
           0.556754471
          ],
          [
           0.960361937
          ],
          [
           0.278843351
          ],
          [
           0.25096706
          ],
          [
           0.305055078
          ],
          [
           0.841132341
          ],
          [
           0.87529545
          ],
          [
           0.158689619
          ],
          [
           0.386240112
          ],
          [
           0.276699543
          ],
          [
           0.211917931
          ],
          [
           0.705691827
          ],
          [
           0.906783648
          ],
          [
           0.498120658
          ],
          [
           0.66419695
          ],
          [
           0.1252641
          ],
          [
           0.566183532
          ],
          [
           0.539395562
          ],
          [
           0.735409395
          ],
          [
           0.411587673
          ],
          [
           0.286234562
          ],
          [
           0.83324725
          ],
          [
           0.437252296
          ],
          [
           0.437234696
          ],
          [
           0.674977683
          ],
          [
           0.688728689
          ],
          [
           0.966992448
          ],
          [
           0.70101144
          ],
          [
           0.435296009
          ],
          [
           0.66033077
          ],
          [
           0.635843383
          ],
          [
           0.318133669
          ],
          [
           0.596240398
          ],
          [
           0.882822186
          ],
          [
           0.052789653
          ],
          [
           0.43482839
          ],
          [
           0.357312419
          ],
          [
           0.114757161
          ],
          [
           0.707693234
          ],
          [
           0.089653503
          ],
          [
           0.963150123
          ],
          [
           0.316419561
          ],
          [
           0.364138746
          ],
          [
           0.146479192
          ],
          [
           0.31082252
          ],
          [
           0.485587085
          ],
          [
           0.666193327
          ],
          [
           0.424703209
          ],
          [
           0.908582921
          ],
          [
           0.326494313
          ],
          [
           0.073385869
          ],
          [
           0.757786135
          ],
          [
           0.671968208
          ],
          [
           0.474126377
          ],
          [
           0.172517997
          ],
          [
           0.473010134
          ],
          [
           0.908684108
          ],
          [
           0.705312368
          ],
          [
           0.856423023
          ],
          [
           0.401828915
          ],
          [
           0.146454724
          ],
          [
           0.323974831
          ],
          [
           0.462531569
          ],
          [
           0.651295625
          ],
          [
           0.708034516
          ],
          [
           0.568835082
          ],
          [
           0.99443072
          ],
          [
           0.74282591
          ],
          [
           0.266194806
          ],
          [
           0.306013869
          ],
          [
           0.371520495
          ],
          [
           0.23877568
          ],
          [
           0.364338275
          ],
          [
           0.313726015
          ],
          [
           0.704743233
          ],
          [
           0.27113158
          ],
          [
           0.40519133
          ],
          [
           0.853755364
          ],
          [
           0.291404174
          ],
          [
           0.747338468
          ],
          [
           0.760343967
          ],
          [
           0.592704906
          ],
          [
           0.13837621
          ],
          [
           0.691351375
          ],
          [
           0.935555275
          ],
          [
           0.292984504
          ],
          [
           0.740253126
          ],
          [
           0.67636067
          ],
          [
           0.693528924
          ],
          [
           0.537472516
          ],
          [
           0.80183695
          ],
          [
           0.706495497
          ],
          [
           0.53639864
          ],
          [
           0.613660351
          ],
          [
           0.273530633
          ],
          [
           0.665359476
          ],
          [
           0.661938199
          ],
          [
           0.729838445
          ],
          [
           0.550148559
          ],
          [
           0.544328519
          ],
          [
           0.578553536
          ],
          [
           0.363462248
          ],
          [
           0.336968524
          ],
          [
           0.32825045
          ],
          [
           0.687572404
          ],
          [
           0.259559174
          ],
          [
           0.510288468
          ],
          [
           0.930568042
          ],
          [
           0.876088593
          ],
          [
           0.937857107
          ],
          [
           0.975500682
          ],
          [
           0.295806058
          ],
          [
           0.326123655
          ],
          [
           0.328227724
          ],
          [
           0.48126734
          ],
          [
           0.870214512
          ]
         ],
         "hovertemplate": "Cluster=Cluster 0<br>PCA1=%{x}<br>PCA2=%{y}<br>Feature=%{customdata[0]}<extra></extra>",
         "legendgroup": "Cluster 0",
         "marker": {
          "color": "#636efa",
          "opacity": 0.5,
          "symbol": "circle"
         },
         "mode": "markers",
         "name": "Cluster 0",
         "orientation": "v",
         "showlegend": true,
         "textposition": "top center",
         "type": "scatter",
         "x": [
          -0.09205722063779831,
          -0.3047858774662018,
          -0.3897494077682495,
          -0.3654935359954834,
          -0.38822776079177856,
          -0.35428300499916077,
          -0.3254697620868683,
          -0.3068057596683502,
          -0.39403507113456726,
          -0.588017463684082,
          -0.3112871050834656,
          -0.3065085709095001,
          -0.4653822183609009,
          -0.6047655344009399,
          -0.552093505859375,
          -0.35228103399276733,
          -0.30998003482818604,
          -0.42730867862701416,
          -0.36876943707466125,
          -0.3420628011226654,
          -0.22360745072364807,
          -0.5513420701026917,
          -0.23764538764953613,
          -0.3955652713775635,
          -0.23258505761623383,
          -0.3715003430843353,
          -0.527501106262207,
          -0.290668785572052,
          -0.4232994019985199,
          -0.5539239048957825,
          -0.3569757640361786,
          -0.5494399666786194,
          -0.30135855078697205,
          -0.45608386397361755,
          -0.25049665570259094,
          -0.5596081614494324,
          -0.48095136880874634,
          -0.2875240743160248,
          -0.5825362205505371,
          -0.4501942992210388,
          -0.318285197019577,
          -0.5022866129875183,
          -0.33616724610328674,
          -0.3709274232387543,
          -0.6395419239997864,
          -0.20031744241714478,
          -0.2549132704734802,
          -0.5027779340744019,
          -0.61957186460495,
          -0.3559272587299347,
          -0.42475488781929016,
          -0.29824966192245483,
          -0.3129192888736725,
          -0.292635440826416,
          -0.5514978766441345,
          -0.535729706287384,
          -0.6009013056755066,
          -0.3095875680446625,
          -0.6447866559028625,
          -0.26734253764152527,
          -0.6425255537033081,
          -0.3244481086730957,
          -0.21557103097438812,
          -0.3340417444705963,
          -0.48699915409088135,
          -0.6046708822250366,
          -0.5637958645820618,
          -0.5640975832939148,
          -0.6270713210105896,
          -0.5373674631118774,
          -0.5176910161972046,
          -0.2692219614982605,
          -0.30500558018684387,
          -0.39009904861450195,
          -0.3212974965572357,
          -0.3455256521701813,
          -0.4276571571826935,
          -0.4787020683288574,
          -0.3044796884059906,
          -0.2329523265361786,
          -0.5988820791244507,
          -0.3071953356266022,
          -0.32700470089912415,
          -0.3569341003894806,
          -0.5134301781654358,
          -0.4951419532299042,
          -0.6161127686500549,
          -0.246604785323143,
          -0.1849568784236908,
          -0.2901355028152466,
          -0.5248823761940002,
          -0.31998878717422485,
          -0.5739371180534363,
          -0.5637730360031128,
          -0.26777657866477966,
          -0.6249237060546875,
          -0.490993857383728,
          -0.4843735992908478,
          -0.4684315323829651,
          -0.4216291606426239,
          -0.5889437794685364,
          -0.5881339311599731,
          -0.3474763333797455,
          -0.37986502051353455,
          -0.3759390115737915,
          -0.2784913182258606,
          -0.34607526659965515,
          -0.42976805567741394,
          -0.5831030011177063,
          -0.5202159881591797,
          -0.5169011950492859,
          -0.5828801393508911,
          -0.4896838665008545,
          -0.562554657459259,
          -0.2713133990764618,
          -0.5924268364906311,
          -0.5034034252166748,
          -0.31777942180633545,
          -0.5605949759483337,
          -0.453358918428421,
          -0.29331734776496887,
          -0.5360791683197021,
          -0.4242759644985199,
          -0.5738205313682556,
          -0.5916981101036072,
          -0.2905726134777069,
          -0.29027920961380005,
          -0.3030426502227783,
          -0.33255085349082947,
          -0.6483749151229858,
          -0.5581207275390625,
          -0.5886583924293518,
          -0.32588058710098267,
          -0.517668604850769,
          -0.3832090497016907,
          -0.6294413208961487,
          -0.3222791850566864,
          -0.27349716424942017,
          -0.291961133480072,
          -0.33666539192199707,
          -0.4157480001449585,
          -0.57154381275177,
          -0.5969215035438538,
          -0.3263082206249237,
          -0.517668604850769,
          -0.5130792260169983,
          -0.32767441868782043,
          -0.32440951466560364,
          -0.31685641407966614,
          -0.6051137447357178,
          0.05206725001335144,
          -0.12961673736572266,
          -0.2197171002626419,
          -0.24658940732479095,
          -0.3021065294742584,
          -0.4974678158760071,
          -0.059989187866449356,
          -0.30067935585975647,
          -0.28057968616485596,
          -0.46390244364738464,
          -0.2859135568141937,
          -0.3144857585430145,
          -0.567923367023468,
          -0.33745941519737244,
          -0.27020034193992615,
          -0.5488717555999756,
          -0.3877559006214142,
          -0.7101026773452759,
          -0.29398852586746216,
          -0.3085949122905731,
          -0.5207570195198059,
          -0.5591877698898315,
          -0.28117483854293823,
          -0.5667892098426819,
          -0.29222387075424194,
          -0.33969244360923767,
          -0.3440731465816498,
          -0.6639182567596436,
          -0.2994759678840637,
          -0.46266838908195496,
          -0.45769941806793213,
          -0.5577346682548523,
          -0.34857481718063354,
          -0.6208755373954773,
          -0.7067855596542358,
          -0.36816123127937317,
          -0.29881051182746887,
          -0.3183059096336365,
          -0.6163790822029114,
          -0.6038047671318054,
          -0.28221917152404785,
          -0.5441644191741943,
          -0.6052975654602051,
          -0.30253827571868896,
          -0.5475751757621765,
          -0.6511008143424988,
          -0.5136873126029968,
          -0.47238579392433167,
          -0.019634060561656952,
          -0.5183122754096985,
          -0.23056046664714813,
          -0.44698402285575867,
          -0.5675187110900879,
          -0.5284549593925476,
          -0.5956050753593445,
          -0.09484561532735825,
          -0.2612765431404114,
          -0.2719801068305969,
          -0.3635748028755188,
          -0.22775211930274963,
          -0.010527539998292923,
          -0.30466383695602417,
          -0.5888556838035583,
          -0.029501158744096756,
          -0.4019083082675934,
          -0.29081979393959045,
          -0.611832857131958,
          -0.11618319898843765,
          -0.6047706007957458,
          -0.08934132009744644,
          -0.5358108878135681,
          -0.2606984078884125,
          -0.3763887286186218,
          -0.4687705338001251,
          -0.5864123106002808,
          -0.5543380379676819,
          -0.1253868192434311,
          -0.5817093253135681,
          -0.6541159749031067,
          -0.42763349413871765,
          -0.1314207762479782,
          -0.30868399143218994,
          -0.6198838353157043,
          -0.2689671814441681,
          -0.2336207926273346,
          -0.5382280349731445
         ],
         "xaxis": "x",
         "y": [
          0.3436742126941681,
          0.41747531294822693,
          0.5818799138069153,
          0.36490485072135925,
          0.3867606520652771,
          0.6104061603546143,
          0.30411943793296814,
          0.4251808226108551,
          0.4604864716529846,
          0.5221019387245178,
          0.5084368586540222,
          0.4599166214466095,
          0.29783865809440613,
          0.5661494135856628,
          0.4289633333683014,
          0.5043303966522217,
          0.6356438398361206,
          0.5085161328315735,
          0.4961019456386566,
          0.5439592003822327,
          0.5693713426589966,
          0.3866829574108124,
          0.5291998386383057,
          0.022882120683789253,
          0.2962381839752197,
          0.5204502940177917,
          0.06440560519695282,
          0.490560382604599,
          0.6704933643341064,
          0.01951657235622406,
          0.5924902558326721,
          0.5758857131004333,
          0.32056787610054016,
          0.30629754066467285,
          0.4963320195674896,
          0.3948809802532196,
          0.32646632194519043,
          0.4445805549621582,
          0.29214316606521606,
          0.39742591977119446,
          0.33765342831611633,
          0.5228801369667053,
          0.5425353050231934,
          0.6973634362220764,
          0.531220555305481,
          0.3735257089138031,
          0.3466489017009735,
          0.3366962969303131,
          0.4942134618759155,
          0.49065500497817993,
          0.5049830675125122,
          0.5847171545028687,
          0.5272006392478943,
          0.41284453868865967,
          0.3381190001964569,
          0.4941557049751282,
          0.4315686821937561,
          0.3798261284828186,
          0.2947535216808319,
          0.5222076177597046,
          0.38972410559654236,
          0.5564987659454346,
          0.1332729458808899,
          0.5979848504066467,
          0.2601756453514099,
          0.611029326915741,
          0.5848519206047058,
          0.3819175660610199,
          0.5684806704521179,
          0.41357672214508057,
          0.49839237332344055,
          0.5356780290603638,
          0.3626626133918762,
          0.5054377317428589,
          0.40433430671691895,
          0.45759835839271545,
          0.296180784702301,
          0.292382150888443,
          0.39775827527046204,
          0.28956571221351624,
          0.5072716474533081,
          0.6861876845359802,
          0.3843608796596527,
          0.418197900056839,
          0.5673003792762756,
          0.43193674087524414,
          0.46277952194213867,
          0.3378383219242096,
          0.10887878388166428,
          0.591196596622467,
          0.3331039547920227,
          0.43603381514549255,
          0.41510888934135437,
          0.2425743043422699,
          0.4470580518245697,
          0.35953667759895325,
          0.04717516526579857,
          0.20423850417137146,
          0.31904444098472595,
          0.5822208523750305,
          0.5342338681221008,
          0.3886583745479584,
          0.48135581612586975,
          0.5334520936012268,
          0.48823845386505127,
          0.4352014362812042,
          0.422193318605423,
          0.25243526697158813,
          0.5058856010437012,
          0.2590857148170471,
          0.16350525617599487,
          0.32666802406311035,
          0.5543645620346069,
          0.29818010330200195,
          0.35012853145599365,
          0.45574262738227844,
          0.5017628073692322,
          0.5139909982681274,
          0.3727491497993469,
          0.3178214728832245,
          0.1376466453075409,
          0.44510361552238464,
          0.3413569927215576,
          0.35591286420822144,
          0.40540504455566406,
          0.5042210221290588,
          0.5825676321983337,
          0.48113352060317993,
          0.6353986859321594,
          0.4379291236400604,
          0.2751788794994354,
          0.21437543630599976,
          0.6504909992218018,
          0.4866489768028259,
          0.5341365933418274,
          0.3362671136856079,
          0.4238568842411041,
          0.43308183550834656,
          0.5182605385780334,
          0.4510534405708313,
          0.3907458782196045,
          0.5408014059066772,
          0.3337908685207367,
          0.4687333106994629,
          0.4643103778362274,
          0.540785551071167,
          0.3756173253059387,
          0.5449833273887634,
          0.30752894282341003,
          0.3085934519767761,
          0.09951320290565491,
          0.061932507902383804,
          0.2039169818162918,
          0.05968547612428665,
          0.12598639726638794,
          0.32056164741516113,
          0.2187681645154953,
          0.34625720977783203,
          0.5233327150344849,
          0.4187015891075134,
          0.48159027099609375,
          0.21710819005966187,
          0.3108835518360138,
          0.4415605962276459,
          0.3713429272174835,
          0.4354957342147827,
          0.42175474762916565,
          0.5372006893157959,
          0.48040688037872314,
          0.46771666407585144,
          0.3310738801956177,
          0.2988547682762146,
          0.31435802578926086,
          0.38486918807029724,
          0.6212023496627808,
          0.2778553366661072,
          0.5162981748580933,
          0.49946266412734985,
          0.6485866904258728,
          0.4700327515602112,
          0.20932984352111816,
          0.369296133518219,
          0.5801588892936707,
          0.4048371911048889,
          0.6478225588798523,
          0.628740131855011,
          0.5293722152709961,
          0.6440414190292358,
          0.35112419724464417,
          0.375303715467453,
          0.3548785150051117,
          0.5202288031578064,
          0.47576361894607544,
          0.30507388710975647,
          0.44997069239616394,
          0.5724101662635803,
          0.29004329442977905,
          0.08037262409925461,
          0.15743842720985413,
          0.40642666816711426,
          0.11232492327690125,
          0.3521251380443573,
          0.37697359919548035,
          0.49820762872695923,
          0.485519140958786,
          0.15981392562389374,
          0.34625524282455444,
          0.3084419071674347,
          0.7117584943771362,
          0.5028359293937683,
          0.2615986764431,
          0.5174130201339722,
          0.4777831435203552,
          0.16717173159122467,
          0.5218052268028259,
          0.22910259664058685,
          0.3876028060913086,
          0.273720920085907,
          0.44825804233551025,
          0.18967893719673157,
          0.3013335168361664,
          0.24281372129917145,
          0.5485939383506775,
          0.4425196945667267,
          0.37199538946151733,
          0.4226604402065277,
          0.23394253849983215,
          0.380583792924881,
          0.4240105450153351,
          0.16593322157859802,
          0.21463336050510406,
          0.4354054927825928,
          0.5125006437301636,
          0.34785571694374084,
          0.600870668888092,
          0.41864442825317383
         ],
         "yaxis": "y"
        },
        {
         "customdata": [
          [
           0.039296071
          ],
          [
           0.613701727
          ],
          [
           0.560124266
          ],
          [
           0.426531904
          ],
          [
           0.387766262
          ],
          [
           0.675626741
          ],
          [
           0.332168927
          ],
          [
           0.074280797
          ],
          [
           0.981018141
          ],
          [
           0.254879417
          ],
          [
           0.544322236
          ],
          [
           0.268527767
          ],
          [
           0.388499664
          ],
          [
           0.789109796
          ],
          [
           0.110773401
          ],
          [
           0.418795386
          ],
          [
           0.572939678
          ],
          [
           0.69661064
          ],
          [
           0.394729993
          ],
          [
           0.214980724
          ],
          [
           0.685608559
          ],
          [
           0.659450594
          ],
          [
           0.229794416
          ],
          [
           0.718049628
          ],
          [
           0.647596537
          ],
          [
           0.83301411
          ],
          [
           0.525540416
          ],
          [
           0.331479643
          ],
          [
           0.556586265
          ],
          [
           0.962585273
          ],
          [
           0.876481735
          ],
          [
           0.049030963
          ],
          [
           0.486677843
          ],
          [
           0.311888815
          ],
          [
           0.81825094
          ],
          [
           0.139182814
          ],
          [
           0.697163103
          ],
          [
           0.065893153
          ],
          [
           0.806145726
          ],
          [
           0.396611907
          ],
          [
           0.080004635
          ],
          [
           0.491457065
          ],
          [
           0.537578886
          ],
          [
           0.339221439
          ],
          [
           0.723657021
          ],
          [
           0.664664437
          ],
          [
           0.419776521
          ],
          [
           0.479965451
          ],
          [
           0.667629785
          ],
          [
           0.731124201
          ],
          [
           0.26742308
          ],
          [
           0.268026042
          ],
          [
           0.567603305
          ],
          [
           0.549974653
          ],
          [
           0.633897303
          ],
          [
           0.432302347
          ],
          [
           0.87619819
          ],
          [
           0.33552403
          ],
          [
           0.320004605
          ],
          [
           0.312514453
          ],
          [
           0.674131879
          ],
          [
           0.724342512
          ],
          [
           0.10920046
          ],
          [
           0.092333532
          ],
          [
           0.167420363
          ],
          [
           0.868729818
          ],
          [
           0.382642009
          ],
          [
           0.825058925
          ],
          [
           0.777332009
          ],
          [
           0.658281368
          ],
          [
           0.742900474
          ],
          [
           0.345145446
          ],
          [
           0.497916521
          ],
          [
           0.812677205
          ],
          [
           0.488548917
          ],
          [
           0.901692589
          ],
          [
           0.299165673
          ],
          [
           0.821697261
          ],
          [
           0.710596116
          ],
          [
           0.650337401
          ],
          [
           0.847559722
          ],
          [
           0.622767949
          ],
          [
           0.114057311
          ],
          [
           0.425487963
          ],
          [
           0.294594677
          ],
          [
           0.321752928
          ],
          [
           0.551783393
          ],
          [
           0.435517841
          ],
          [
           0.178172988
          ],
          [
           0.926096887
          ],
          [
           0.43991232
          ],
          [
           0.234698933
          ],
          [
           0.964409284
          ],
          [
           0.618347428
          ],
          [
           0.184401415
          ],
          [
           0.376380921
          ],
          [
           0.762697513
          ],
          [
           0.386742279
          ],
          [
           0.715520198
          ],
          [
           0.395246531
          ],
          [
           0.3413454
          ],
          [
           0.299318521
          ],
          [
           0.318293946
          ],
          [
           0.26866354
          ],
          [
           0.324300602
          ],
          [
           0.890114985
          ],
          [
           0.285732652
          ],
          [
           0.51981893
          ],
          [
           0.097664329
          ],
          [
           0.313097752
          ],
          [
           0.079666942
          ],
          [
           0.917950393
          ],
          [
           0.613258767
          ],
          [
           0.249796488
          ],
          [
           0.373849065
          ],
          [
           0.378318951
          ],
          [
           0.273633667
          ],
          [
           0.800004713
          ],
          [
           0.26951927
          ],
          [
           0.070231142
          ],
          [
           0.186795565
          ],
          [
           0.648387061
          ],
          [
           0.370592719
          ],
          [
           0.274539351
          ],
          [
           0.066348638
          ],
          [
           0.066591188
          ],
          [
           0.669867361
          ],
          [
           0.40932365
          ],
          [
           0.687540723
          ],
          [
           0.538595767
          ],
          [
           0.299343986
          ],
          [
           0.223316889
          ],
          [
           0.716716981
          ],
          [
           0.566025273
          ],
          [
           0.090110371
          ],
          [
           0.776252291
          ],
          [
           0.470216633
          ],
          [
           0.772350538
          ],
          [
           0.839301048
          ],
          [
           0.331047258
          ],
          [
           0.373079772
          ],
          [
           0.408359618
          ],
          [
           0.495705441
          ],
          [
           0.256134531
          ],
          [
           0.434638338
          ],
          [
           0.654668307
          ],
          [
           0.032326387
          ],
          [
           0.986681065
          ],
          [
           0.67639834
          ],
          [
           0.689992335
          ],
          [
           0.315781109
          ],
          [
           0.539521117
          ],
          [
           0.761112484
          ],
          [
           0.566905093
          ],
          [
           0.637526619
          ],
          [
           0.680984256
          ],
          [
           0.334829646
          ],
          [
           0.306075181
          ],
          [
           0.596452977
          ],
          [
           0.396292746
          ],
          [
           0.746950848
          ],
          [
           0.341890141
          ],
          [
           0.917835245
          ],
          [
           0.44651012
          ],
          [
           0.319249574
          ],
          [
           0.514579807
          ],
          [
           0.781903153
          ],
          [
           0.361766138
          ],
          [
           0.625000704
          ],
          [
           0.443173922
          ],
          [
           0.316287401
          ],
          [
           0.540869628
          ],
          [
           0.260853706
          ],
          [
           0.286817071
          ],
          [
           0.508474436
          ],
          [
           0.817893411
          ],
          [
           0.891649583
          ],
          [
           0.974051999
          ],
          [
           0.670298282
          ],
          [
           0.052495426
          ],
          [
           0.080423835
          ],
          [
           0.065711219
          ],
          [
           0.164236639
          ],
          [
           0.791478237
          ],
          [
           0.583924357
          ],
          [
           0.801182233
          ],
          [
           0.050390366
          ],
          [
           0.140257137
          ],
          [
           0.081620681
          ],
          [
           0.31040327
          ],
          [
           0.916359535
          ],
          [
           0.45377248
          ],
          [
           0.279073124
          ],
          [
           0.751353621
          ],
          [
           0.509681253
          ],
          [
           0.277680817
          ],
          [
           0.258329663
          ],
          [
           0.206075222
          ],
          [
           0.435533461
          ],
          [
           0.051129385
          ],
          [
           0.052223775
          ],
          [
           0.214549744
          ],
          [
           0.093325377
          ],
          [
           0.281044822
          ],
          [
           0.702499044
          ],
          [
           0.58897535
          ],
          [
           0.565242962
          ],
          [
           0.577916714
          ],
          [
           0.631244736
          ],
          [
           0.73530076
          ],
          [
           0.01991825
          ],
          [
           0.301225108
          ],
          [
           0.255310561
          ],
          [
           0.282108144
          ],
          [
           0.468940008
          ],
          [
           0.069837569
          ],
          [
           0.07708393
          ],
          [
           0.019467671
          ],
          [
           0.708804554
          ],
          [
           0.634081093
          ],
          [
           0.658730088
          ],
          [
           0.674795186
          ],
          [
           0.070993366
          ],
          [
           0.433713763
          ],
          [
           0.348926542
          ],
          [
           0.279601492
          ],
          [
           0.739369477
          ],
          [
           0.437247429
          ],
          [
           0.755578334
          ],
          [
           0.8058956
          ],
          [
           0.719576193
          ],
          [
           0.365592376
          ],
          [
           0.281135347
          ],
          [
           0.925423095
          ],
          [
           0.886720033
          ],
          [
           0.719157884
          ],
          [
           0.93032134
          ],
          [
           0.832919932
          ],
          [
           0.683260954
          ],
          [
           0.513887424
          ],
          [
           0.291512674
          ],
          [
           0.602259755
          ],
          [
           0.447677638
          ],
          [
           0.647000631
          ],
          [
           0.21893726
          ],
          [
           0.89332545
          ],
          [
           0.903603337
          ],
          [
           0.704154263
          ],
          [
           0.260527707
          ],
          [
           0.162824858
          ],
          [
           0.493724207
          ],
          [
           0.317521477
          ],
          [
           0.726833965
          ],
          [
           0.495667033
          ],
          [
           0.676936933
          ],
          [
           0.319671917
          ],
          [
           0.762013168
          ],
          [
           0.585984497
          ],
          [
           0.235842084
          ],
          [
           0.674344598
          ],
          [
           0.543776817
          ],
          [
           0.528253719
          ],
          [
           0.355087459
          ],
          [
           0.706071361
          ],
          [
           0.322067067
          ],
          [
           0.459326013
          ],
          [
           0.693682186
          ],
          [
           0.479975377
          ],
          [
           0.385446564
          ],
          [
           0.305761846
          ],
          [
           0.463744506
          ],
          [
           0.632149831
          ],
          [
           0.741544275
          ],
          [
           0.687733351
          ],
          [
           0.538284443
          ],
          [
           0.490188944
          ],
          [
           0.271658852
          ],
          [
           0.586103584
          ],
          [
           0.258565714
          ],
          [
           0.560914449
          ],
          [
           0.530882486
          ],
          [
           0.511328036
          ],
          [
           0.719151612
          ],
          [
           0.214499855
          ],
          [
           0.762803224
          ],
          [
           0.569161656
          ],
          [
           0.344480551
          ],
          [
           0.488614799
          ],
          [
           0.292951715
          ],
          [
           0.625538582
          ],
          [
           0.373476759
          ],
          [
           0.709725227
          ],
          [
           0.090640352
          ],
          [
           0.187493723
          ],
          [
           0.855234998
          ],
          [
           0.060545771
          ],
          [
           0.812626991
          ],
          [
           0.546092303
          ],
          [
           0.066577785
          ],
          [
           0.526902249
          ],
          [
           0.085120869
          ],
          [
           0.958888961
          ],
          [
           0.077895127
          ],
          [
           0.266961634
          ],
          [
           0.644231853
          ],
          [
           0.341392461
          ],
          [
           0.720463632
          ],
          [
           0.372361682
          ],
          [
           0.747084187
          ],
          [
           0.643427879
          ],
          [
           0.68445706
          ],
          [
           0.027851097
          ],
          [
           0.945014638
          ],
          [
           0.171187866
          ],
          [
           0.348599859
          ],
          [
           0.434309675
          ],
          [
           0.610028339
          ],
          [
           0.071413953
          ],
          [
           0.35984929
          ],
          [
           0.385366225
          ],
          [
           0.062259591
          ],
          [
           0.731946604
          ],
          [
           0.115383158
          ],
          [
           0.373874305
          ],
          [
           0.404672015
          ],
          [
           0.739731184
          ],
          [
           0.672459395
          ],
          [
           0.633652055
          ],
          [
           0.808205949
          ],
          [
           0.890221131
          ],
          [
           0.23414609
          ],
          [
           0.160126862
          ],
          [
           0.402878236
          ],
          [
           0.197077957
          ],
          [
           0.515466972
          ],
          [
           0.573493847
          ],
          [
           0.082087436
          ],
          [
           0.933040208
          ],
          [
           0.518729378
          ],
          [
           0.711212291
          ],
          [
           0.052342373
          ],
          [
           0.302558708
          ],
          [
           0.432432881
          ],
          [
           0.080097855
          ],
          [
           0.049412228
          ],
          [
           0.253753693
          ],
          [
           0.710332374
          ],
          [
           0.58317282
          ],
          [
           0.437846654
          ],
          [
           0.291511278
          ],
          [
           0.359002573
          ],
          [
           0.468883999
          ],
          [
           0.543820644
          ],
          [
           0.467857701
          ],
          [
           0.880887227
          ],
          [
           0.655522647
          ],
          [
           0.950809853
          ],
          [
           0.582932673
          ],
          [
           0.60168653
          ],
          [
           0.379204782
          ],
          [
           0.67395061
          ],
          [
           0.444352467
          ],
          [
           0.583394621
          ],
          [
           0.871172692
          ],
          [
           0.594297695
          ],
          [
           0.873326081
          ],
          [
           0.249775993
          ],
          [
           0.290254057
          ],
          [
           0.394627555
          ],
          [
           0.447397526
          ],
          [
           0.170459071
          ],
          [
           0.761026394
          ],
          [
           0.632202332
          ],
          [
           0.954726948
          ],
          [
           0.733567326
          ],
          [
           0.720332673
          ],
          [
           0.088368123
          ],
          [
           0.408813429
          ],
          [
           0.303467328
          ],
          [
           0.721804145
          ],
          [
           0.228634015
          ],
          [
           0.497349509
          ],
          [
           0.714896449
          ],
          [
           0.90986815
          ],
          [
           0.437511156
          ],
          [
           0.738293805
          ],
          [
           0.706467551
          ],
          [
           0.428767078
          ],
          [
           0.625896253
          ],
          [
           0.314161447
          ],
          [
           0.072217715
          ],
          [
           0.572121173
          ],
          [
           0.220348103
          ],
          [
           0.850650179
          ],
          [
           0.673984307
          ],
          [
           0.133399703
          ],
          [
           0.67763282
          ],
          [
           0.348226142
          ],
          [
           0.057883661
          ],
          [
           0.265045463
          ],
          [
           0.513484576
          ],
          [
           0.143857535
          ],
          [
           0.936571901
          ],
          [
           0.752938227
          ],
          [
           0.100645606
          ],
          [
           0.926157705
          ],
          [
           0.054033081
          ],
          [
           0.890959718
          ],
          [
           0.579539754
          ],
          [
           0.241387521
          ],
          [
           0.802481439
          ],
          [
           0.649249197
          ],
          [
           0.299097002
          ],
          [
           0.285463743
          ],
          [
           0.251280378
          ],
          [
           0
          ],
          [
           0.839157508
          ]
         ],
         "hovertemplate": "Cluster=Cluster 1<br>PCA1=%{x}<br>PCA2=%{y}<br>Feature=%{customdata[0]}<extra></extra>",
         "legendgroup": "Cluster 1",
         "marker": {
          "color": "#EF553B",
          "opacity": 0.5,
          "symbol": "circle"
         },
         "mode": "markers",
         "name": "Cluster 1",
         "orientation": "v",
         "showlegend": true,
         "textposition": "top center",
         "type": "scatter",
         "x": [
          -0.16670767962932587,
          0.14278671145439148,
          -0.4672044515609741,
          -0.19132423400878906,
          -0.1891324669122696,
          -0.17111502587795258,
          -0.5247317552566528,
          -0.3846096098423004,
          -0.2704492509365082,
          -0.27235469222068787,
          -0.0266650952398777,
          -0.08761022984981537,
          -0.12271665036678314,
          -0.3483039140701294,
          -0.3282833993434906,
          -0.09129270166158676,
          -0.4478262662887573,
          -0.10454154759645462,
          -0.3477693200111389,
          -0.3623932898044586,
          -0.21895267069339752,
          -0.0862303078174591,
          -0.30375999212265015,
          -0.10462363064289093,
          -0.09985792636871338,
          -0.4992443025112152,
          -0.43583810329437256,
          -0.2994912266731262,
          -0.05245479941368103,
          -0.19466879963874817,
          -0.04992241784930229,
          -0.4198538661003113,
          -0.13499167561531067,
          -0.20465165376663208,
          -0.46259286999702454,
          -0.025614328682422638,
          -0.4183202087879181,
          -0.3778076171875,
          -0.2722000777721405,
          -0.3632197082042694,
          -0.3861382305622101,
          -0.42435339093208313,
          -0.030029887333512306,
          -0.41292449831962585,
          -0.06667628884315491,
          -0.40007954835891724,
          -0.03737552464008331,
          -0.38000714778900146,
          -0.025290440768003464,
          -0.18145403265953064,
          -0.11507248878479004,
          -0.35049721598625183,
          -0.3640725612640381,
          -0.189335897564888,
          0.13153137266635895,
          -0.4218654930591583,
          -0.06869189441204071,
          -0.07053744792938232,
          -0.09324922412633896,
          -0.23343317210674286,
          -0.3619559407234192,
          -0.12671694159507751,
          -0.07640882581472397,
          -0.43009650707244873,
          0.08925114572048187,
          -0.448642373085022,
          -0.1024889349937439,
          -0.4159015715122223,
          -0.21938396990299225,
          -0.0368378721177578,
          -0.20821937918663025,
          -0.20243634283542633,
          -0.2730778157711029,
          -0.09464690089225769,
          -0.3005714416503906,
          -0.39173924922943115,
          -0.09579093754291534,
          0.007640424184501171,
          -0.4328037202358246,
          -0.3512907326221466,
          -0.1362418830394745,
          -0.13783062994480133,
          -0.11041533946990967,
          -0.0902022048830986,
          -0.4483720064163208,
          -0.40744519233703613,
          -0.12388843297958374,
          -0.21370281279087067,
          0.10403244942426682,
          -0.39297834038734436,
          -0.45603859424591064,
          -0.3522111475467682,
          -0.29267963767051697,
          -0.1526341438293457,
          -0.23663212358951569,
          -0.21881933510303497,
          -0.07279980182647705,
          -0.39268922805786133,
          -0.07364477217197418,
          -0.33656665682792664,
          -0.05498668923974037,
          -0.2650226354598999,
          -0.3032171130180359,
          -0.10213053971529007,
          -0.0789756327867508,
          -0.32158908247947693,
          -0.39136257767677307,
          -0.1386338174343109,
          -0.03082561120390892,
          -0.2971034049987793,
          -0.1489163488149643,
          -0.2433481514453888,
          -0.19706293940544128,
          -0.12207258492708206,
          -0.3989141881465912,
          -0.4615596830844879,
          0.009646390564739704,
          -0.2642374634742737,
          -0.37389886379241943,
          -0.2969287037849426,
          -0.2931763529777527,
          -0.047289445996284485,
          -0.13871042430400848,
          -0.17398826777935028,
          -0.12217389047145844,
          -0.28848645091056824,
          -0.22325913608074188,
          -0.15619415044784546,
          -0.3375290334224701,
          -0.20875920355319977,
          -0.46500328183174133,
          -0.4179002344608307,
          -0.2998183071613312,
          -0.2760804295539856,
          -0.15007294714450836,
          0.12348438799381256,
          0.10315962135791779,
          -0.18194977939128876,
          0.052238866686820984,
          -0.19449752569198608,
          -0.45146438479423523,
          -0.16587188839912415,
          0.10738033801317215,
          -0.3912998139858246,
          -0.4448387622833252,
          -0.2020961344242096,
          0.1929660439491272,
          -0.11797748506069183,
          0.14103715121746063,
          -0.31316232681274414,
          -0.3953441381454468,
          -0.16085171699523926,
          0.05356665700674057,
          -0.03839397802948952,
          -0.11405476927757263,
          -0.07882759720087051,
          -0.20676279067993164,
          -0.13248510658740997,
          -0.2730253040790558,
          -0.16812632977962494,
          -0.17198774218559265,
          -0.28472039103507996,
          -0.2084439992904663,
          -0.36312195658683777,
          -0.03425581380724907,
          -0.13606330752372742,
          -0.5042079091072083,
          -0.2759125232696533,
          -0.24045789241790771,
          -0.32231077551841736,
          -0.39661696553230286,
          -0.07737709581851959,
          -0.2723326086997986,
          -0.18047919869422913,
          -0.3616711497306824,
          -0.12151602655649185,
          -0.17860499024391174,
          -0.21078597009181976,
          -0.4885265827178955,
          -0.27317526936531067,
          -0.27883127331733704,
          -0.48072484135627747,
          -0.10360055416822433,
          -0.4041765034198761,
          -0.028631901368498802,
          -0.4429319500923157,
          -0.33464697003364563,
          -0.48842430114746094,
          -0.2650662660598755,
          -0.09792064875364304,
          -0.4151611030101776,
          -0.4376446306705475,
          -0.1574169397354126,
          -0.3405788242816925,
          -0.16039326786994934,
          -0.4406656324863434,
          -0.12979725003242493,
          -0.34727731347084045,
          -0.13740621507167816,
          -0.34255608916282654,
          -0.30967041850090027,
          0.1569828987121582,
          -0.32180753350257874,
          -0.35183653235435486,
          -0.11907358467578888,
          -0.49402686953544617,
          -0.09902166575193405,
          -0.29547590017318726,
          -0.3650148808956146,
          -0.07462892681360245,
          -0.08629607409238815,
          -0.08711562305688858,
          -0.10530326515436172,
          -0.12162881344556808,
          -0.20586130023002625,
          -0.35763102769851685,
          -0.30617374181747437,
          -0.13618408143520355,
          -0.36192914843559265,
          -0.16412973403930664,
          -0.29280319809913635,
          -0.30536186695098877,
          -0.15442097187042236,
          -0.34017452597618103,
          -0.15817345678806305,
          -0.225799560546875,
          -0.15018817782402039,
          -0.1406567394733429,
          -0.4129228889942169,
          -0.19029559195041656,
          -0.13562124967575073,
          -0.38575994968414307,
          -0.35735389590263367,
          -0.2960348427295685,
          -0.35436803102493286,
          -0.35631904006004333,
          -0.40553444623947144,
          -0.30673491954803467,
          -0.0538911372423172,
          -0.16104081273078918,
          -0.08215849846601486,
          -0.3714568614959717,
          -0.126590296626091,
          -0.07763934135437012,
          -0.3234129250049591,
          -0.049924302846193314,
          -0.10448095202445984,
          -0.29312798380851746,
          -0.3113359212875366,
          -0.13497097790241241,
          0.003380776382982731,
          -0.1258811056613922,
          -0.15231360495090485,
          -0.08954896777868271,
          -0.36064356565475464,
          -0.22115954756736755,
          -0.24821512401103973,
          -0.23504070937633514,
          -0.39618340134620667,
          -0.09727272391319275,
          -0.16218359768390656,
          -0.0487380288541317,
          -0.3566495478153229,
          -0.22360262274742126,
          -0.3814332187175751,
          -0.08840151876211166,
          -0.15524350106716156,
          -0.08793292194604874,
          -0.13862845301628113,
          -0.30219489336013794,
          -0.4027892053127289,
          -0.499188095331192,
          0.12044405937194824,
          -0.10899846255779266,
          -0.02391098439693451,
          -0.23129236698150635,
          0.061683591455221176,
          -0.19895008206367493,
          -0.4631015658378601,
          -0.46092987060546875,
          -0.3776758313179016,
          -0.2639838755130768,
          -0.08652890473604202,
          -0.22399091720581055,
          -0.29503852128982544,
          -0.42785173654556274,
          -0.07697571814060211,
          -0.08226408809423447,
          -0.3038337826728821,
          -0.04237271845340729,
          -0.12183775007724762,
          -0.39708924293518066,
          -0.36835798621177673,
          -0.14157263934612274,
          -0.10930997878313065,
          -0.09537079185247421,
          -0.4016449749469757,
          -0.33906102180480957,
          -0.14840669929981232,
          -0.17662499845027924,
          -0.14949195086956024,
          -0.3831931948661804,
          -0.3997357487678528,
          -0.2765243351459503,
          -0.2815507650375366,
          -0.44248974323272705,
          -0.3686318099498749,
          -0.025836730375885963,
          -0.3242018520832062,
          -0.13930316269397736,
          -0.26021912693977356,
          -0.17874173820018768,
          -0.1104031354188919,
          -0.4182068407535553,
          -0.49519190192222595,
          -0.39397379755973816,
          -0.4423981308937073,
          -0.06986679881811142,
          -0.41383856534957886,
          -0.43978652358055115,
          -0.3016268312931061,
          -0.10947643965482712,
          -0.49581483006477356,
          -0.1966886967420578,
          -0.3061530888080597,
          -0.20892423391342163,
          -0.3432757258415222,
          -0.3204437792301178,
          -0.29264509677886963,
          -0.08280157297849655,
          -0.16708216071128845,
          -0.38563182950019836,
          -0.28542178869247437,
          0.06500806659460068,
          -0.46457886695861816,
          -0.13357482850551605,
          -0.2848356068134308,
          -0.2918958365917206,
          -0.12844733893871307,
          -0.372145414352417,
          -0.209008127450943,
          -0.3951667249202728,
          -0.0983552411198616,
          -0.0816841647028923,
          -0.15040887892246246,
          -0.2740648090839386,
          -0.40665093064308167,
          -0.4122500717639923,
          -0.09975838661193848,
          0.011810162104666233,
          -0.4355953335762024,
          -0.1288299262523651,
          -0.4033304750919342,
          -0.21083956956863403,
          -0.3623347282409668,
          -0.11582717299461365,
          -0.3736315071582794,
          -0.20434176921844482,
          -0.21995621919631958,
          -0.162790909409523,
          -0.3504774570465088,
          -0.35722967982292175,
          -0.14536616206169128,
          -0.29739779233932495,
          -0.13275642693042755,
          -0.38657838106155396,
          -0.17788080871105194,
          -0.44007888436317444,
          -0.0374440997838974,
          -0.41284871101379395,
          -0.18342772126197815,
          -0.12088838964700699,
          -0.30623456835746765,
          -0.10780724138021469,
          -0.4027416408061981,
          -0.28215306997299194,
          -0.17955175042152405,
          -0.3777649998664856,
          -0.34245744347572327,
          -0.3014417588710785,
          -0.2186736911535263,
          -0.32606640458106995,
          -0.2672404646873474,
          -0.1339038461446762,
          -0.16691046953201294,
          -0.42428869009017944,
          -0.3896552622318268,
          -0.39941227436065674,
          -0.28838062286376953,
          -0.18663686513900757,
          -0.34679025411605835,
          -0.25356608629226685,
          -0.09205173701047897,
          -0.1788039654493332,
          -0.34210214018821716,
          -0.4333675503730774,
          -0.30144214630126953,
          -0.1067403256893158,
          -0.05552214756608009,
          -0.05161702260375023,
          -0.08758699148893356,
          -0.44795703887939453,
          -0.43081191182136536,
          -0.1717534065246582,
          -0.1166437417268753,
          -0.2063237875699997,
          -0.11203094571828842,
          -0.10877026617527008,
          -0.2025035172700882,
          -0.4211515188217163,
          -0.4610427916049957,
          -0.20225748419761658,
          -0.0679105669260025,
          -0.11991695314645767,
          -0.41318026185035706,
          -0.4102051556110382,
          -0.44536900520324707
         ],
         "xaxis": "x",
         "y": [
          -0.05489692836999893,
          -0.051118139177560806,
          -0.09446226060390472,
          -0.06523898243904114,
          -0.3477095365524292,
          -0.2270205318927765,
          -0.2791368067264557,
          -0.330912709236145,
          -0.5785228610038757,
          -0.22055205702781677,
          -0.7332452535629272,
          -0.5381841063499451,
          -0.1308411955833435,
          -0.49140867590904236,
          -0.1932954639196396,
          -0.4119229316711426,
          -0.36182570457458496,
          -0.4035453200340271,
          -0.392596572637558,
          -0.4666547179222107,
          -0.6395277976989746,
          -0.4191802442073822,
          -0.49732890725135803,
          -0.4418688416481018,
          -0.42927002906799316,
          -0.3650221526622772,
          -0.3999820351600647,
          -0.6525008082389832,
          -0.3074157238006592,
          0.041894882917404175,
          -0.5683308839797974,
          -0.29726073145866394,
          -0.380217045545578,
          -0.09355803579092026,
          -0.2070668786764145,
          -0.4064977169036865,
          -0.24111074209213257,
          -0.4805241823196411,
          -0.21619223058223724,
          -0.17887406051158905,
          -0.6141833066940308,
          -0.256870299577713,
          -0.61139976978302,
          -0.39846381545066833,
          -0.27918004989624023,
          -0.31165632605552673,
          -0.4812602698802948,
          -0.43211424350738525,
          -0.49892544746398926,
          -0.2934148907661438,
          -0.11974883079528809,
          -0.28769582509994507,
          -0.3140811026096344,
          -0.17312313616275787,
          -0.24565280973911285,
          -0.2731858491897583,
          -0.46170708537101746,
          -0.0499144047498703,
          -0.13533242046833038,
          -0.6636079549789429,
          -0.3218942880630493,
          -0.2221696972846985,
          -0.32291367650032043,
          -0.3733435869216919,
          -0.14579832553863525,
          -0.10639385133981705,
          -0.39848095178604126,
          -0.4641033709049225,
          -0.332597941160202,
          -0.4413195848464966,
          -0.24260130524635315,
          -0.1015186607837677,
          -0.3321394622325897,
          -0.3836830258369446,
          -0.549456775188446,
          -0.04415810480713844,
          -0.5213621854782104,
          -0.40208131074905396,
          -0.042430173605680466,
          -0.4821697771549225,
          -0.3794603645801544,
          -0.2113526165485382,
          -0.3194417953491211,
          -0.23787184059619904,
          -0.10129895806312561,
          -0.2378985434770584,
          -0.36641114950180054,
          -0.3168737292289734,
          -0.15017884969711304,
          -0.17908549308776855,
          -0.5391016602516174,
          -0.5534474849700928,
          -0.5702856183052063,
          -0.4640735983848572,
          -0.6756510734558105,
          -0.25977790355682373,
          -0.5100727081298828,
          -0.47923600673675537,
          -0.23792260885238647,
          -0.5520831942558289,
          -0.6106561422348022,
          0.023084361106157303,
          -0.33023133873939514,
          -0.29066652059555054,
          -0.27942991256713867,
          -0.5248969197273254,
          -0.06465350836515427,
          -0.34007561206817627,
          -0.6867398023605347,
          -0.5928866267204285,
          -0.1897408664226532,
          -0.11859109997749329,
          0.008780524134635925,
          -0.22304747998714447,
          -0.308641254901886,
          -0.14447574317455292,
          -0.6930378675460815,
          -0.555417537689209,
          -0.48488903045654297,
          -0.6327763795852661,
          -0.6770398020744324,
          -0.06365321576595306,
          -0.3305608332157135,
          -0.12368810921907425,
          -0.1762961596250534,
          -0.6372700333595276,
          -0.3837168514728546,
          -0.33396509289741516,
          -0.2426992803812027,
          -0.014735614880919456,
          -0.13177132606506348,
          -0.2760349214076996,
          -0.35654720664024353,
          -0.4171738922595978,
          -0.3698776066303253,
          -0.35979676246643066,
          -0.4963321089744568,
          -0.41047418117523193,
          0.006559859961271286,
          -0.2302500605583191,
          -0.2652534246444702,
          -0.3201597332954407,
          -0.20682287216186523,
          -0.33238717913627625,
          -0.03447969630360603,
          -0.0409344881772995,
          -0.1988724172115326,
          -0.370670348405838,
          -0.15237247943878174,
          -0.19920431077480316,
          -0.35239583253860474,
          -0.023517683148384094,
          -0.41997790336608887,
          -0.5035953521728516,
          -0.3516799211502075,
          -0.2507250905036926,
          -0.5509095191955566,
          -0.04583679139614105,
          -0.07751655578613281,
          -0.012067216448485851,
          -0.1819109469652176,
          -0.5302630066871643,
          -0.08492373675107956,
          -0.3561258018016815,
          -0.332511842250824,
          -0.38259536027908325,
          -0.2143363505601883,
          -0.0036271000280976295,
          -0.07290222495794296,
          -0.42726650834083557,
          -0.4668136537075043,
          -0.766498863697052,
          -0.4958154261112213,
          -0.09668800979852676,
          -0.1872057318687439,
          -0.45374536514282227,
          -0.3234504461288452,
          -0.16323009133338928,
          -0.0165135245770216,
          -0.17144250869750977,
          -0.4067327082157135,
          -0.012249543331563473,
          -0.4301055371761322,
          -0.4103124141693115,
          -0.3143956661224365,
          -0.5031564235687256,
          -0.31665465235710144,
          0.015789711847901344,
          -0.28886404633522034,
          -0.3840342164039612,
          -0.3808009624481201,
          -0.16438880562782288,
          -0.3790135383605957,
          -0.30877748131752014,
          -0.03768409788608551,
          -0.5793325901031494,
          -0.3429660201072693,
          -0.2746056020259857,
          -0.22098015248775482,
          -0.311769962310791,
          -0.35487452149391174,
          -0.1385217159986496,
          -0.5361027121543884,
          -0.15309157967567444,
          -0.35903090238571167,
          -0.18105703592300415,
          -0.5263785123825073,
          -0.3899349272251129,
          -0.36990344524383545,
          -0.3868921995162964,
          -0.2462671399116516,
          -0.6448667049407959,
          -0.35961392521858215,
          -0.2741239666938782,
          -0.10319916158914566,
          -0.08848440647125244,
          -0.1565929502248764,
          -0.4426348805427551,
          -0.39528584480285645,
          -0.3906877338886261,
          -0.38626354932785034,
          -0.5047773122787476,
          -0.3378680348396301,
          -0.41888195276260376,
          -0.4564293920993805,
          -0.011106566525995731,
          -0.011732117272913456,
          0.0199909470975399,
          -0.20735713839530945,
          -0.6577271819114685,
          -0.18690672516822815,
          -0.42321649193763733,
          -0.492520272731781,
          -0.510709822177887,
          -0.2844034433364868,
          -0.5150694251060486,
          -0.1259748488664627,
          -0.48138707876205444,
          -0.3445926010608673,
          -0.18724806606769562,
          -0.44668513536453247,
          -0.432685524225235,
          -0.23529285192489624,
          -0.20241999626159668,
          -0.31685397028923035,
          -0.3980265259742737,
          -0.22703774273395538,
          -0.32431888580322266,
          -0.6130692958831787,
          -0.16373592615127563,
          -0.4429217576980591,
          -0.4767034649848938,
          -0.07143299281597137,
          -0.382741242647171,
          -0.4047762453556061,
          -0.3766942024230957,
          -0.37044593691825867,
          0.014543779194355011,
          -0.21516215801239014,
          -0.5492104887962341,
          -0.35987144708633423,
          -0.27071529626846313,
          -0.4543682932853699,
          0.07487446069717407,
          -0.3553796112537384,
          -0.43938085436820984,
          -0.17432545125484467,
          -0.5082943439483643,
          -0.5483101010322571,
          -0.34219372272491455,
          -0.4658143222332001,
          -0.03432351350784302,
          -0.4598610997200012,
          -0.2524109482765198,
          -0.5169851779937744,
          -0.29174500703811646,
          -0.5459442138671875,
          -0.21408487856388092,
          -0.47832414507865906,
          -0.3510822057723999,
          -0.5127038955688477,
          -0.05972812697291374,
          -0.30753594636917114,
          -0.4403838515281677,
          -0.5101321935653687,
          -0.4925789535045624,
          -0.4525425136089325,
          -0.30243903398513794,
          -0.5039395093917847,
          -0.3830517530441284,
          -0.036310188472270966,
          -0.17035682499408722,
          -0.4810968041419983,
          -0.30724096298217773,
          -0.3924330770969391,
          -0.30820944905281067,
          -0.2688179016113281,
          -0.2775181829929352,
          -0.5117061734199524,
          -0.2588771879673004,
          -0.13089358806610107,
          -0.07788747549057007,
          -0.2299669235944748,
          -0.37931889295578003,
          -0.002441305434331298,
          -0.3963562548160553,
          -0.572754442691803,
          -0.5765061974525452,
          -0.49041324853897095,
          -0.2789326012134552,
          -0.5081734657287598,
          0.05877912417054176,
          -0.26822230219841003,
          -0.24055051803588867,
          -0.1650577187538147,
          -0.21338067948818207,
          -0.4386194944381714,
          -0.31911447644233704,
          -0.11544287204742432,
          -0.09869170933961868,
          -0.4465475082397461,
          -0.4077426791191101,
          -0.052486222237348557,
          -0.14686474204063416,
          -0.41794684529304504,
          -0.44744110107421875,
          -0.4482825696468353,
          -0.40375959873199463,
          -0.4649326801300049,
          -0.2424534559249878,
          -0.30096435546875,
          -0.2888774871826172,
          -0.6203120946884155,
          -0.060340702533721924,
          -0.2844705879688263,
          0.031413424760103226,
          -0.6373769044876099,
          -0.5746931433677673,
          -0.3025861978530884,
          -0.4656722843647003,
          0.0006039015715941787,
          -0.270930677652359,
          -0.3483639359474182,
          -0.2845466136932373,
          -0.4690636694431305,
          -0.6996138691902161,
          -0.2647513449192047,
          -0.06494248658418655,
          -0.20073899626731873,
          -0.44424715638160706,
          -0.3212418556213379,
          -0.3814765512943268,
          0.0027372653130441904,
          -0.12560762465000153,
          -0.41832780838012695,
          -0.21361619234085083,
          -0.4007444381713867,
          -0.024426294490695,
          -0.08058547973632812,
          -0.34200263023376465,
          -0.44233840703964233,
          -0.37300917506217957,
          -0.07382054626941681,
          -0.4166676104068756,
          -0.2693277597427368,
          -0.31344127655029297,
          -0.16832900047302246,
          -0.35928675532341003,
          -0.37720629572868347,
          -0.23257696628570557,
          -0.46301376819610596,
          -0.08954397588968277,
          -0.5069644451141357,
          -0.2701364755630493,
          -0.02978123351931572,
          -0.5109567642211914,
          -0.5412997603416443,
          -0.24389727413654327,
          -0.46502864360809326,
          -0.5716160535812378,
          -0.2493680864572525,
          -0.5691673755645752,
          -0.5208282470703125,
          -0.29900792241096497,
          -0.11334864050149918,
          -0.4375738799571991,
          -0.24941547214984894,
          -0.4778687357902527,
          -0.6610769629478455,
          -0.2258121371269226,
          -0.056544382125139236,
          -0.6284682154655457,
          -0.2674713134765625,
          -0.45348021388053894,
          -0.4098546504974365,
          -0.12857948243618011,
          -0.4539009928703308,
          -0.45912235975265503,
          -0.1420227289199829,
          -0.4135482907295227,
          -0.5254650115966797,
          0.012974504381418228,
          -0.13334347307682037,
          -0.4005332291126251,
          -0.20168069005012512,
          -0.39685899019241333,
          -0.2084583044052124,
          -0.2503013014793396,
          -0.23377013206481934,
          -0.42325741052627563,
          -0.4553871750831604,
          -0.14347366988658905,
          -0.35090509057044983,
          -0.20340125262737274,
          -0.3179980218410492,
          -0.30951419472694397,
          -0.454495370388031
         ],
         "yaxis": "y"
        },
        {
         "customdata": [
          [
           0.669766511
          ],
          [
           0.977561989
          ],
          [
           0.459496733
          ],
          [
           0.299579429
          ],
          [
           0.277081671
          ],
          [
           0.212464853
          ],
          [
           0.551504258
          ],
          [
           0.699302998
          ],
          [
           0.359012234
          ],
          [
           0.834860657
          ],
          [
           0.097157938
          ],
          [
           0.944910252
          ],
          [
           0.337597387
          ],
          [
           0.555951416
          ],
          [
           0.439385032
          ],
          [
           0.608452351
          ],
          [
           0.747143148
          ],
          [
           0.655971865
          ],
          [
           0.281575597
          ],
          [
           0.805035676
          ],
          [
           0.452898486
          ],
          [
           0.368216396
          ],
          [
           0.684176639
          ],
          [
           0.894997386
          ],
          [
           0.513047859
          ],
          [
           0.664514943
          ],
          [
           0.092107835
          ],
          [
           0.485942349
          ],
          [
           0.16813774
          ],
          [
           0.273081458
          ],
          [
           0.649380949
          ],
          [
           0.372139363
          ],
          [
           0.983535597
          ],
          [
           0.52081245
          ],
          [
           0.394362449
          ],
          [
           0.944158855
          ],
          [
           0.878295021
          ],
          [
           0.331185868
          ],
          [
           0.678373225
          ],
          [
           0.281389999
          ],
          [
           0.766037189
          ],
          [
           0.252318018
          ],
          [
           0.707010837
          ],
          [
           0.045577011
          ],
          [
           0.040488789
          ],
          [
           0.445534827
          ],
          [
           0.394863946
          ],
          [
           0.86461997
          ],
          [
           0.779067041
          ],
          [
           0.088435529
          ],
          [
           0.719625619
          ],
          [
           0.52517902
          ],
          [
           0.601479585
          ],
          [
           0.321796672
          ],
          [
           0.817490537
          ],
          [
           0.273352065
          ],
          [
           0.349621385
          ],
          [
           0.952174402
          ],
          [
           0.390877336
          ],
          [
           0.657559694
          ],
          [
           0.233806762
          ],
          [
           0.433498634
          ],
          [
           0.080204492
          ],
          [
           0.336346337
          ],
          [
           0.034440667
          ],
          [
           0.296538373
          ],
          [
           0.65456992
          ],
          [
           0.039564764
          ],
          [
           0.379899131
          ],
          [
           0.633960424
          ],
          [
           0.594375103
          ],
          [
           0.869236755
          ],
          [
           0.056849545
          ],
          [
           0.233249065
          ],
          [
           0.605916669
          ],
          [
           0.397733466
          ],
          [
           0.837802698
          ],
          [
           0.631037864
          ],
          [
           0.294839683
          ],
          [
           0.602929443
          ],
          [
           0.972168554
          ],
          [
           0.093643561
          ],
          [
           0.678770917
          ],
          [
           0.063633094
          ],
          [
           0.82178316
          ],
          [
           0.87015202
          ],
          [
           0.399235601
          ],
          [
           0.605442195
          ],
          [
           0.092598817
          ],
          [
           0.464487258
          ],
          [
           0.855990155
          ],
          [
           0.907729251
          ],
          [
           0.502435578
          ],
          [
           0.262940591
          ],
          [
           0.875226264
          ],
          [
           0.647857744
          ],
          [
           0.260812592
          ],
          [
           0.281745925
          ],
          [
           0.175894581
          ],
          [
           0.094587802
          ],
          [
           0.526005909
          ],
          [
           0.68880424
          ],
          [
           0.588043346
          ],
          [
           0.39600217
          ],
          [
           0.854402708
          ],
          [
           0.639000922
          ],
          [
           0.500017182
          ],
          [
           0.314515565
          ],
          [
           0.304517943
          ],
          [
           0.961644609
          ],
          [
           0.910521937
          ],
          [
           0.241714974
          ],
          [
           0.307141704
          ],
          [
           0.054838642
          ],
          [
           0.178014532
          ],
          [
           0.082751144
          ],
          [
           0.93482964
          ],
          [
           0.752734459
          ],
          [
           0.68698771
          ],
          [
           0.374904431
          ],
          [
           0.122224944
          ],
          [
           0.431632036
          ],
          [
           0.733845785
          ],
          [
           0.42181486
          ],
          [
           0.04577339
          ],
          [
           0.149262385
          ],
          [
           0.155841557
          ],
          [
           0.816325524
          ],
          [
           0.687663508
          ],
          [
           0.596496607
          ],
          [
           0.727960353
          ],
          [
           0.18203988
          ],
          [
           0.108878312
          ],
          [
           0.272005242
          ],
          [
           0.529645971
          ],
          [
           0.364695946
          ],
          [
           0.481068222
          ],
          [
           0.728378695
          ],
          [
           0.37705984
          ],
          [
           0.492766033
          ],
          [
           0.528197693
          ],
          [
           0.292320271
          ],
          [
           0.277032672
          ],
          [
           0.416721817
          ],
          [
           0.946707459
          ],
          [
           0.702513961
          ],
          [
           0.313322389
          ],
          [
           0.594750236
          ],
          [
           0.053483902
          ],
          [
           0.268989899
          ],
          [
           0.6942953
          ],
          [
           0.577042754
          ],
          [
           0.709030966
          ],
          [
           0.892219314
          ],
          [
           0.86610579
          ],
          [
           0.935175765
          ],
          [
           0.626927584
          ],
          [
           0.224394
          ],
          [
           0.956780449
          ],
          [
           0.737363977
          ],
          [
           0.508527882
          ],
          [
           0.3813543
          ],
          [
           0.103399542
          ],
          [
           0.537436778
          ],
          [
           0.425284413
          ],
          [
           0.664485096
          ],
          [
           0.300460841
          ],
          [
           0.3121767
          ],
          [
           0.548753945
          ],
          [
           0.278228358
          ],
          [
           0.476073127
          ],
          [
           0.736828221
          ],
          [
           0.080334377
          ],
          [
           0.968888992
          ],
          [
           0.771975959
          ],
          [
           0.492682896
          ],
          [
           0.25121407
          ],
          [
           0.501812291
          ],
          [
           0.299730324
          ],
          [
           0.372956798
          ],
          [
           0.26654207
          ],
          [
           0.946158087
          ],
          [
           0.594032877
          ],
          [
           0.711923941
          ],
          [
           0.477558204
          ],
          [
           0.074927
          ],
          [
           0.72207806
          ],
          [
           0.242170835
          ],
          [
           0.300558071
          ],
          [
           0.465815039
          ],
          [
           0.054036682
          ],
          [
           0.730297124
          ],
          [
           0.363330957
          ],
          [
           0.233284267
          ],
          [
           0.078585688
          ],
          [
           0.986900166
          ],
          [
           0.62510543
          ],
          [
           0.858365688
          ],
          [
           0.306791514
          ],
          [
           0.159681797
          ],
          [
           0.631300647
          ],
          [
           0.3413685
          ],
          [
           0.320610701
          ],
          [
           0.927431873
          ],
          [
           0.505863613
          ],
          [
           0.247504474
          ],
          [
           0.711365605
          ],
          [
           0.636416037
          ],
          [
           0.699335734
          ],
          [
           0.142460864
          ],
          [
           0.126121828
          ],
          [
           0.806240837
          ],
          [
           0.566346135
          ],
          [
           0.3630266
          ],
          [
           0.306957691
          ],
          [
           0.040045728
          ],
          [
           0.439359853
          ],
          [
           0.065791238
          ],
          [
           0.685462839
          ],
          [
           0.418298728
          ],
          [
           0.654262182
          ],
          [
           0.659122429
          ],
          [
           0.602063986
          ],
          [
           0.948993132
          ],
          [
           0.483886213
          ],
          [
           0.064264924
          ],
          [
           0.060366911
          ],
          [
           0.633196521
          ],
          [
           0.293992717
          ],
          [
           0.594896327
          ],
          [
           0.320729467
          ],
          [
           0.896616832
          ],
          [
           0.057155299
          ],
          [
           0.038113352
          ],
          [
           0.744040641
          ],
          [
           0.906220031
          ],
          [
           0.435403602
          ]
         ],
         "hovertemplate": "Cluster=Cluster 2<br>PCA1=%{x}<br>PCA2=%{y}<br>Feature=%{customdata[0]}<extra></extra>",
         "legendgroup": "Cluster 2",
         "marker": {
          "color": "#00cc96",
          "opacity": 0.5,
          "symbol": "circle"
         },
         "mode": "markers",
         "name": "Cluster 2",
         "orientation": "v",
         "showlegend": true,
         "textposition": "top center",
         "type": "scatter",
         "x": [
          0.4225766956806183,
          0.26323580741882324,
          0.6970555782318115,
          0.599159836769104,
          0.640290379524231,
          0.25075069069862366,
          0.5846251845359802,
          0.6589527726173401,
          0.712406575679779,
          0.23413990437984467,
          0.7066714763641357,
          0.6786128878593445,
          0.6709890365600586,
          0.5427643656730652,
          0.6229926943778992,
          0.6648215651512146,
          0.7279412746429443,
          0.5512539744377136,
          0.6924789547920227,
          0.67192542552948,
          0.6865383386611938,
          0.6816247701644897,
          0.6182835102081299,
          0.6791053414344788,
          0.6688726544380188,
          0.3788546025753021,
          0.30851948261260986,
          0.6654029488563538,
          0.6841731071472168,
          0.2788034975528717,
          0.5792412161827087,
          0.5449817776679993,
          0.6298213005065918,
          0.6702842116355896,
          0.745222270488739,
          0.6811047196388245,
          0.6724137663841248,
          0.6265701651573181,
          0.7130950689315796,
          0.710909366607666,
          0.5196873545646667,
          0.6642667055130005,
          0.6910147666931152,
          0.5252857804298401,
          0.7311652898788452,
          0.49902045726776123,
          0.7154155969619751,
          0.3777933120727539,
          0.7631563544273376,
          0.5696689486503601,
          0.6581734418869019,
          0.6510750651359558,
          0.5374467372894287,
          0.40313228964805603,
          0.1766817420721054,
          0.670746922492981,
          0.14882303774356842,
          0.7365087270736694,
          0.32779189944267273,
          0.743955135345459,
          0.7121638059616089,
          0.5927570462226868,
          0.7618125081062317,
          0.27404817938804626,
          0.43767327070236206,
          0.5093345046043396,
          0.683753252029419,
          0.6981003284454346,
          0.485591322183609,
          0.34676098823547363,
          0.6813226938247681,
          0.6386321187019348,
          0.560298502445221,
          0.6137748956680298,
          0.5972490906715393,
          0.6137250065803528,
          0.5069137215614319,
          0.6676905155181885,
          0.5396527647972107,
          0.5887636542320251,
          0.6582046747207642,
          0.5747089982032776,
          0.6368906497955322,
          0.809531033039093,
          0.3806054890155792,
          0.6499553918838501,
          0.6144821047782898,
          0.6219528317451477,
          0.7513315081596375,
          0.648718535900116,
          0.6311256885528564,
          0.6857562065124512,
          0.7040212154388428,
          0.7751320004463196,
          0.6556352972984314,
          0.603434145450592,
          0.5569794178009033,
          0.6303049325942993,
          0.6338251829147339,
          0.654740571975708,
          0.7027297616004944,
          0.6878432035446167,
          0.6940445899963379,
          0.5714338421821594,
          0.6464024782180786,
          0.7372639179229736,
          0.7085371613502502,
          0.6674904227256775,
          0.5320478081703186,
          0.5883275270462036,
          0.7241063117980957,
          0.5655369758605957,
          0.7370412349700928,
          0.6107198596000671,
          0.6608562469482422,
          0.7637289762496948,
          0.7292205095291138,
          0.6189141869544983,
          0.6714538931846619,
          0.7368695735931396,
          0.7244167923927307,
          0.660095751285553,
          0.7577638626098633,
          0.7783795595169067,
          0.6861569881439209,
          0.6514203548431396,
          0.596713125705719,
          0.687034010887146,
          0.6653198599815369,
          0.6044567823410034,
          0.6977276802062988,
          0.6214486956596375,
          0.7387387752532959,
          0.6402850151062012,
          0.73082435131073,
          0.6475875377655029,
          0.7237151861190796,
          0.7029665112495422,
          0.5851137638092041,
          0.5718913078308105,
          0.6220051646232605,
          0.6178361773490906,
          0.5707118511199951,
          0.666214108467102,
          0.5580064654350281,
          0.5826059579849243,
          0.7034593224525452,
          0.649522066116333,
          0.8088778257369995,
          0.6229128837585449,
          0.6245570778846741,
          0.7018970847129822,
          0.6389931440353394,
          0.6248951554298401,
          0.6178466081619263,
          0.6511614918708801,
          0.5964607000350952,
          0.6952406764030457,
          0.6086307168006897,
          0.7149971127510071,
          0.6715667843818665,
          0.6905688047409058,
          0.6509701609611511,
          0.6089236736297607,
          0.6863207817077637,
          0.7300727963447571,
          0.7226009368896484,
          0.6122580170631409,
          0.7162883877754211,
          0.6883447170257568,
          0.6865652203559875,
          0.6731998920440674,
          0.5405331254005432,
          0.6805443167686462,
          0.6660165786743164,
          0.6662604212760925,
          0.6433449387550354,
          0.7106724381446838,
          0.7153764963150024,
          0.7441136240959167,
          0.8324110507965088,
          0.6326590776443481,
          0.7608901262283325,
          0.6248738169670105,
          0.7010690569877625,
          0.7036275267601013,
          0.5936620831489563,
          0.6588531732559204,
          0.6705420613288879,
          0.6227501630783081,
          0.7148950099945068,
          0.5756161212921143,
          0.39398613572120667,
          0.522560179233551,
          0.6812357902526855,
          0.640651285648346,
          0.25306764245033264,
          0.7275378704071045,
          0.6607321500778198,
          0.352007120847702,
          0.6679405570030212,
          0.3181271255016327,
          0.40331506729125977,
          0.16157904267311096,
          0.2359810322523117,
          0.5242388844490051,
          0.5131970047950745,
          0.5668402314186096,
          0.6217595934867859,
          0.5700448751449585,
          0.6813712120056152,
          0.689426064491272,
          0.6114147305488586,
          0.6344355344772339,
          0.5807167291641235,
          0.5833751559257507,
          0.6618403792381287,
          0.7274605631828308,
          0.7185229659080505,
          0.6877046823501587,
          0.7213684916496277,
          0.715349018573761,
          0.6154602766036987,
          0.652535617351532,
          0.6343538761138916,
          0.6812998652458191,
          0.6147393584251404,
          0.6263745427131653,
          0.5054489970207214,
          0.685501754283905,
          0.6543269753456116,
          0.6147906184196472,
          0.736402690410614,
          0.738505482673645,
          0.751511812210083,
          0.5791777968406677,
          0.5350480675697327
         ],
         "xaxis": "x",
         "y": [
          -0.10270760953426361,
          0.07696811854839325,
          -0.20471802353858948,
          0.03779291734099388,
          0.1042187511920929,
          -0.19183965027332306,
          -0.12833797931671143,
          0.06541533768177032,
          -0.11285646259784698,
          0.1842692345380783,
          -0.2573988437652588,
          -0.21586193144321442,
          0.10487445443868637,
          0.0757647305727005,
          -0.3441019058227539,
          -0.22025878727436066,
          -0.26587754487991333,
          -0.03834627941250801,
          -0.06868625432252884,
          -0.22718417644500732,
          -0.3711979389190674,
          -0.3660441040992737,
          -0.19797325134277344,
          -0.21450139582157135,
          -0.08314240723848343,
          0.18564800918102264,
          -0.13556069135665894,
          -0.07334957271814346,
          -0.25287866592407227,
          -0.23870757222175598,
          -0.219760924577713,
          0.12327371537685394,
          0.16725149750709534,
          -0.2935522794723511,
          -0.47216758131980896,
          -0.27280986309051514,
          -0.17416711151599884,
          0.1402595192193985,
          -0.2327401489019394,
          -0.29221776127815247,
          0.022781820967793465,
          -0.07542277872562408,
          -0.3512799143791199,
          -0.16550292074680328,
          -0.26684001088142395,
          0.18696916103363037,
          -0.29809555411338806,
          0.07067742198705673,
          -0.41903916001319885,
          0.048199933022260666,
          -0.11385944485664368,
          0.05266780033707619,
          -0.1447812169790268,
          -0.05657166987657547,
          0.10403421521186829,
          -0.18105129897594452,
          0.08684767782688141,
          -0.32999780774116516,
          -0.22985145449638367,
          -0.2345879226922989,
          -0.22576108574867249,
          -0.1686183363199234,
          -0.23705372214317322,
          -0.006333775818347931,
          -0.10758820176124573,
          0.10245761275291443,
          -0.20847059786319733,
          -0.18632452189922333,
          -0.15823888778686523,
          -0.10538081079721451,
          -0.0805044025182724,
          0.025529894977808,
          0.1816360205411911,
          0.09628228843212128,
          0.26178157329559326,
          -0.029978293925523758,
          -0.3531814515590668,
          0.06033382564783096,
          0.1239914521574974,
          0.0032238992862403393,
          -0.08157743513584137,
          0.10045449435710907,
          0.13506808876991272,
          -0.4310559630393982,
          -0.12437707930803299,
          -0.41593724489212036,
          -0.11677419394254684,
          -0.008816908113658428,
          -0.2661365270614624,
          0.12064162641763687,
          -0.07300050556659698,
          -0.005892836023122072,
          -0.2160966694355011,
          -0.24250583350658417,
          -0.3417971134185791,
          0.2385304719209671,
          -0.11074717342853546,
          -0.00473568681627512,
          -0.03027733974158764,
          -0.10052672028541565,
          -0.31467947363853455,
          -0.26793357729911804,
          -0.3015408217906952,
          -0.11606943607330322,
          0.19910606741905212,
          -0.26041164994239807,
          -0.002913984702900052,
          -0.35718098282814026,
          0.029531076550483704,
          -0.4362856447696686,
          -0.24690406024456024,
          -0.0022594297770410776,
          -0.26493799686431885,
          -0.2522975504398346,
          -0.33515384793281555,
          -0.3520544171333313,
          -0.029210040345788002,
          -0.13103815913200378,
          -0.39950621128082275,
          -0.17119649052619934,
          -0.0546470545232296,
          0.0009208585834130645,
          -0.20923203229904175,
          -0.22780542075634003,
          -0.3236279785633087,
          -0.11032798886299133,
          0.06750623881816864,
          -0.2416335940361023,
          -0.046731676906347275,
          0.11459966003894806,
          -0.14167331159114838,
          0.007285165600478649,
          -0.2290881872177124,
          -0.22795574367046356,
          -0.2119111567735672,
          -0.12429900467395782,
          -0.037902384996414185,
          -0.40432947874069214,
          0.029898827895522118,
          0.19023840129375458,
          0.14575150609016418,
          -0.32486051321029663,
          -0.085969477891922,
          -0.1253529191017151,
          0.09199554473161697,
          -0.012692020274698734,
          -0.19772502779960632,
          -0.2525704503059387,
          -0.46620962023735046,
          -0.38668903708457947,
          -0.12745536863803864,
          -0.3044966459274292,
          -0.09977255016565323,
          -0.06215130165219307,
          -0.1443297564983368,
          -0.19212549924850464,
          -0.007865476422011852,
          -0.024740617722272873,
          0.10012597590684891,
          -0.3522131145000458,
          0.10460995882749557,
          -0.15730394423007965,
          -0.21704095602035522,
          -0.25215399265289307,
          -0.29721665382385254,
          -0.08026367425918579,
          -0.25073766708374023,
          -0.21233095228672028,
          -0.27908408641815186,
          -0.23018582165241241,
          -0.1429494023323059,
          -0.21040678024291992,
          0.22902661561965942,
          0.02095058746635914,
          -0.09415657818317413,
          0.14667916297912598,
          0.06570125371217728,
          -0.24103975296020508,
          -0.25260981917381287,
          -0.47792118787765503,
          -0.41976332664489746,
          -0.01768656075000763,
          -0.21791930496692657,
          -0.039625413715839386,
          -0.13172507286071777,
          -0.23420390486717224,
          0.18429404497146606,
          -0.26803940534591675,
          -0.011760263703763485,
          -0.11217936873435974,
          -0.1464918851852417,
          -0.14778763055801392,
          0.17236845195293427,
          -0.2863151729106903,
          -0.00198336411267519,
          -0.02431590110063553,
          -0.4492051601409912,
          -0.2616795301437378,
          -0.0677090659737587,
          -0.14331519603729248,
          0.023935949429869652,
          -0.10544729977846146,
          -0.5305851101875305,
          0.09158001840114594,
          0.05711003765463829,
          0.20151007175445557,
          -0.0959940254688263,
          0.20634952187538147,
          -0.03933132812380791,
          0.21063898503780365,
          -0.2727471590042114,
          -0.2298477292060852,
          -0.11925818026065826,
          0.03558582440018654,
          -0.15499895811080933,
          0.21909549832344055,
          -0.1562497913837433,
          -0.3111506402492523,
          -0.006477724760770798,
          -0.30689477920532227,
          -0.3906463086605072,
          -0.14971007406711578,
          -0.2500455677509308,
          -0.29329627752304077,
          0.043176498264074326,
          -0.11256971210241318,
          0.1642347127199173,
          -0.3048945665359497,
          0.05433737859129906,
          0.12225347757339478,
          -0.07620470970869064,
          -0.2519395351409912,
          -0.3031442165374756,
          -0.25059425830841064,
          -0.19374091923236847,
          -0.019457846879959106,
          -0.026965675875544548
         ],
         "yaxis": "y"
        },
        {
         "customdata": [
          [
           0.336714104
          ],
          [
           0.325261175
          ],
          [
           0.684982907
          ],
          [
           0.841506738
          ],
          [
           0.33292081
          ],
          [
           0.18443265
          ],
          [
           0.063201124
          ],
          [
           0.936338898
          ],
          [
           0.187734303
          ],
          [
           0.255342095
          ],
          [
           0.028645255
          ],
          [
           0.501587947
          ],
          [
           0.282649594
          ],
          [
           0.468363088
          ],
          [
           0.270540486
          ],
          [
           0.738470804
          ],
          [
           0.293064767
          ],
          [
           0.311085435
          ],
          [
           0.624241636
          ],
          [
           0.091209694
          ],
          [
           0.25612815
          ],
          [
           0.950744566
          ],
          [
           0.254716562
          ],
          [
           0.204932484
          ],
          [
           0.347170389
          ],
          [
           0.602170884
          ],
          [
           0.739083306
          ],
          [
           0.056111251
          ],
          [
           0.389719491
          ],
          [
           0.265790738
          ],
          [
           0.465713341
          ],
          [
           0.756514381
          ],
          [
           0.943529051
          ],
          [
           0.796622959
          ],
          [
           0.523763344
          ],
          [
           0.656086992
          ],
          [
           0.62837389
          ],
          [
           0.594378011
          ],
          [
           0.990857417
          ],
          [
           0.047239021
          ],
          [
           0.630850584
          ],
          [
           0.72241535
          ],
          [
           0.645973276
          ],
          [
           0.224645267
          ],
          [
           0.763479069
          ],
          [
           0.222825901
          ],
          [
           0.297877816
          ],
          [
           0.420439161
          ],
          [
           0.344140513
          ],
          [
           0.379294893
          ],
          [
           0.380054711
          ],
          [
           0.065927945
          ],
          [
           0.813464394
          ],
          [
           0.653304374
          ],
          [
           0.284473981
          ],
          [
           0.375889792
          ],
          [
           0.386295207
          ],
          [
           0.52959065
          ],
          [
           0.424999093
          ],
          [
           0.064359251
          ],
          [
           0.273716188
          ],
          [
           0.541899775
          ],
          [
           0.187486519
          ],
          [
           0.6583894
          ],
          [
           0.283412082
          ],
          [
           0.010984428
          ],
          [
           0.880202196
          ],
          [
           0.981708854
          ],
          [
           0.716604052
          ],
          [
           0.662117416
          ],
          [
           0.303847999
          ],
          [
           0.170194553
          ],
          [
           0.677443529
          ],
          [
           0.902587935
          ],
          [
           0.532527349
          ],
          [
           0.642134651
          ],
          [
           0.681054822
          ],
          [
           0.638593691
          ],
          [
           0.920739529
          ],
          [
           0.569481665
          ],
          [
           0.853097486
          ],
          [
           0.953329459
          ],
          [
           0.58612345
          ],
          [
           0.27709612
          ],
          [
           0.659627472
          ],
          [
           0.92665363
          ],
          [
           0.690324025
          ],
          [
           0.476445464
          ],
          [
           0.029838065
          ],
          [
           0.115714007
          ],
          [
           0.91553156
          ],
          [
           0.08272289
          ],
          [
           0.779008053
          ],
          [
           0.912937812
          ],
          [
           0.85563814
          ],
          [
           0.270251765
          ],
          [
           0.142522971
          ],
          [
           0.647905797
          ],
          [
           0.039113261
          ],
          [
           0.647682781
          ],
          [
           0.891551577
          ],
          [
           0.598231057
          ],
          [
           0.681888094
          ],
          [
           0.340303024
          ],
          [
           0.546595316
          ],
          [
           0.476104526
          ],
          [
           0.49548916
          ],
          [
           0.353558973
          ],
          [
           0.511591027
          ],
          [
           0.457990741
          ]
         ],
         "hovertemplate": "Cluster=Cluster 3<br>PCA1=%{x}<br>PCA2=%{y}<br>Feature=%{customdata[0]}<extra></extra>",
         "legendgroup": "Cluster 3",
         "marker": {
          "color": "#ab63fa",
          "opacity": 0.5,
          "symbol": "circle"
         },
         "mode": "markers",
         "name": "Cluster 3",
         "orientation": "v",
         "showlegend": true,
         "textposition": "top center",
         "type": "scatter",
         "x": [
          0.4006631076335907,
          0.210537850856781,
          0.46351370215415955,
          0.3504398465156555,
          0.43415820598602295,
          0.12136784940958023,
          0.36470216512680054,
          0.4475118815898895,
          0.5726487040519714,
          0.49572494626045227,
          0.504159688949585,
          0.39290130138397217,
          0.44806376099586487,
          0.49498850107192993,
          0.4894868731498718,
          0.4153293967247009,
          0.4600488245487213,
          0.47361433506011963,
          0.4173218607902527,
          0.545886754989624,
          0.3976786434650421,
          0.06819672882556915,
          0.5991435647010803,
          0.4353708326816559,
          0.49608367681503296,
          0.477339506149292,
          0.4328592121601105,
          0.4904608130455017,
          0.3922175168991089,
          0.41769298911094666,
          0.4444400370121002,
          0.44990965723991394,
          0.5701237916946411,
          0.06834350526332855,
          0.4499806761741638,
          0.4409872889518738,
          0.09545328468084335,
          0.4912634789943695,
          0.4922654628753662,
          0.486642062664032,
          0.5430449843406677,
          0.44014137983322144,
          0.5531183481216431,
          0.4572199285030365,
          0.596805989742279,
          0.47031736373901367,
          0.36760416626930237,
          0.5902271866798401,
          0.263850599527359,
          0.5407814979553223,
          0.386254221200943,
          0.4453725814819336,
          0.549873411655426,
          0.43451598286628723,
          0.44252216815948486,
          0.45115137100219727,
          0.40024054050445557,
          0.11723961681127548,
          0.4078710377216339,
          0.2517916262149811,
          0.528207004070282,
          0.19775621592998505,
          0.5089513659477234,
          0.4926077723503113,
          0.44246283173561096,
          0.47916704416275024,
          0.4753551483154297,
          0.08377738296985626,
          0.460498571395874,
          0.41656291484832764,
          0.4088532328605652,
          0.4386696517467499,
          0.4959980547428131,
          0.5395328998565674,
          0.1014595478773117,
          0.37756243348121643,
          0.4667105972766876,
          0.5749855637550354,
          0.4613926112651825,
          0.41227397322654724,
          0.3795149028301239,
          0.4599131643772125,
          0.5084232091903687,
          0.4034098982810974,
          0.5368402004241943,
          0.4648178517818451,
          0.593216061592102,
          0.4165724813938141,
          0.5011938810348511,
          0.5366958975791931,
          0.36570748686790466,
          0.5280855298042297,
          0.4137497842311859,
          0.5473795533180237,
          0.37523573637008667,
          0.39331987500190735,
          0.5099148154258728,
          0.3810209035873413,
          0.47136592864990234,
          0.4770375192165375,
          0.5209992527961731,
          0.3723260760307312,
          0.45029112696647644,
          0.34154823422431946,
          0.44188639521598816,
          0.37463366985321045,
          0.42518308758735657,
          0.534889817237854,
          0.5014698505401611,
          0.45294347405433655
         ],
         "xaxis": "x",
         "y": [
          0.5069071054458618,
          0.44760507345199585,
          0.5743334889411926,
          0.7525780200958252,
          0.5056520700454712,
          0.164448544383049,
          0.7639921307563782,
          0.7981234192848206,
          0.581659197807312,
          0.6815818548202515,
          0.552625298500061,
          0.5562835931777954,
          0.754284143447876,
          0.6647482514381409,
          0.673545241355896,
          0.6818855404853821,
          0.6784979701042175,
          0.6272567510604858,
          0.6561577916145325,
          0.6596925854682922,
          0.7395688891410828,
          0.2900504171848297,
          0.2777665853500366,
          0.7181447744369507,
          0.5220556855201721,
          0.7337913513183594,
          0.5404940247535706,
          0.6425032019615173,
          0.5367012023925781,
          0.8090822696685791,
          0.5727521181106567,
          0.5511593222618103,
          0.5199151039123535,
          0.5847768187522888,
          0.7972908616065979,
          0.6772192716598511,
          0.42344844341278076,
          0.5417064428329468,
          0.5246291160583496,
          0.630081057548523,
          0.5368740558624268,
          0.8260111212730408,
          0.5384402871131897,
          0.605916440486908,
          0.43645530939102173,
          0.2449873685836792,
          0.7353273034095764,
          0.4760607182979584,
          0.2399582713842392,
          0.6104857325553894,
          0.8000076413154602,
          0.7738655805587769,
          0.5122783780097961,
          0.6079810261726379,
          0.6419070959091187,
          0.6349626183509827,
          0.8019090294837952,
          0.3672240376472473,
          0.6948496103286743,
          0.24305982887744904,
          0.6780431270599365,
          0.5222285985946655,
          0.23213541507720947,
          0.7031624913215637,
          0.8108246922492981,
          0.7483388185501099,
          0.7835812568664551,
          0.6766999363899231,
          0.6788759827613831,
          0.6063680052757263,
          0.5903292298316956,
          0.7935107946395874,
          0.7041187882423401,
          0.6038135886192322,
          0.1921507567167282,
          0.6081755757331848,
          0.7631198763847351,
          0.3002588748931885,
          0.7593604922294617,
          0.5576395988464355,
          0.7284178137779236,
          0.5444490909576416,
          0.5583459138870239,
          0.2836197018623352,
          0.6475611925125122,
          0.6072953343391418,
          0.40611588954925537,
          0.7750924825668335,
          0.6471994519233704,
          0.5508429408073425,
          0.6312516331672668,
          0.6374011635780334,
          0.512588381767273,
          0.351146399974823,
          0.3184261620044708,
          0.5878968834877014,
          0.5663111209869385,
          0.7373415231704712,
          0.44341930747032166,
          0.627263605594635,
          0.5705100297927856,
          0.8725974559783936,
          0.7891278862953186,
          0.596125066280365,
          0.7945277690887451,
          0.6983015537261963,
          0.8621337413787842,
          0.6928504109382629,
          0.4553690254688263,
          0.7459437847137451
         ],
         "yaxis": "y"
        }
       ],
       "layout": {
        "height": 600,
        "legend": {
         "title": {
          "text": "Cluster"
         },
         "tracegroupgap": 0
        },
        "margin": {
         "t": 60
        },
        "plot_bgcolor": "rgb(240,240,240)",
        "template": {
         "data": {
          "bar": [
           {
            "error_x": {
             "color": "#2a3f5f"
            },
            "error_y": {
             "color": "#2a3f5f"
            },
            "marker": {
             "line": {
              "color": "#E5ECF6",
              "width": 0.5
             },
             "pattern": {
              "fillmode": "overlay",
              "size": 10,
              "solidity": 0.2
             }
            },
            "type": "bar"
           }
          ],
          "barpolar": [
           {
            "marker": {
             "line": {
              "color": "#E5ECF6",
              "width": 0.5
             },
             "pattern": {
              "fillmode": "overlay",
              "size": 10,
              "solidity": 0.2
             }
            },
            "type": "barpolar"
           }
          ],
          "carpet": [
           {
            "aaxis": {
             "endlinecolor": "#2a3f5f",
             "gridcolor": "white",
             "linecolor": "white",
             "minorgridcolor": "white",
             "startlinecolor": "#2a3f5f"
            },
            "baxis": {
             "endlinecolor": "#2a3f5f",
             "gridcolor": "white",
             "linecolor": "white",
             "minorgridcolor": "white",
             "startlinecolor": "#2a3f5f"
            },
            "type": "carpet"
           }
          ],
          "choropleth": [
           {
            "colorbar": {
             "outlinewidth": 0,
             "ticks": ""
            },
            "type": "choropleth"
           }
          ],
          "contour": [
           {
            "colorbar": {
             "outlinewidth": 0,
             "ticks": ""
            },
            "colorscale": [
             [
              0,
              "#0d0887"
             ],
             [
              0.1111111111111111,
              "#46039f"
             ],
             [
              0.2222222222222222,
              "#7201a8"
             ],
             [
              0.3333333333333333,
              "#9c179e"
             ],
             [
              0.4444444444444444,
              "#bd3786"
             ],
             [
              0.5555555555555556,
              "#d8576b"
             ],
             [
              0.6666666666666666,
              "#ed7953"
             ],
             [
              0.7777777777777778,
              "#fb9f3a"
             ],
             [
              0.8888888888888888,
              "#fdca26"
             ],
             [
              1,
              "#f0f921"
             ]
            ],
            "type": "contour"
           }
          ],
          "contourcarpet": [
           {
            "colorbar": {
             "outlinewidth": 0,
             "ticks": ""
            },
            "type": "contourcarpet"
           }
          ],
          "heatmap": [
           {
            "colorbar": {
             "outlinewidth": 0,
             "ticks": ""
            },
            "colorscale": [
             [
              0,
              "#0d0887"
             ],
             [
              0.1111111111111111,
              "#46039f"
             ],
             [
              0.2222222222222222,
              "#7201a8"
             ],
             [
              0.3333333333333333,
              "#9c179e"
             ],
             [
              0.4444444444444444,
              "#bd3786"
             ],
             [
              0.5555555555555556,
              "#d8576b"
             ],
             [
              0.6666666666666666,
              "#ed7953"
             ],
             [
              0.7777777777777778,
              "#fb9f3a"
             ],
             [
              0.8888888888888888,
              "#fdca26"
             ],
             [
              1,
              "#f0f921"
             ]
            ],
            "type": "heatmap"
           }
          ],
          "heatmapgl": [
           {
            "colorbar": {
             "outlinewidth": 0,
             "ticks": ""
            },
            "colorscale": [
             [
              0,
              "#0d0887"
             ],
             [
              0.1111111111111111,
              "#46039f"
             ],
             [
              0.2222222222222222,
              "#7201a8"
             ],
             [
              0.3333333333333333,
              "#9c179e"
             ],
             [
              0.4444444444444444,
              "#bd3786"
             ],
             [
              0.5555555555555556,
              "#d8576b"
             ],
             [
              0.6666666666666666,
              "#ed7953"
             ],
             [
              0.7777777777777778,
              "#fb9f3a"
             ],
             [
              0.8888888888888888,
              "#fdca26"
             ],
             [
              1,
              "#f0f921"
             ]
            ],
            "type": "heatmapgl"
           }
          ],
          "histogram": [
           {
            "marker": {
             "pattern": {
              "fillmode": "overlay",
              "size": 10,
              "solidity": 0.2
             }
            },
            "type": "histogram"
           }
          ],
          "histogram2d": [
           {
            "colorbar": {
             "outlinewidth": 0,
             "ticks": ""
            },
            "colorscale": [
             [
              0,
              "#0d0887"
             ],
             [
              0.1111111111111111,
              "#46039f"
             ],
             [
              0.2222222222222222,
              "#7201a8"
             ],
             [
              0.3333333333333333,
              "#9c179e"
             ],
             [
              0.4444444444444444,
              "#bd3786"
             ],
             [
              0.5555555555555556,
              "#d8576b"
             ],
             [
              0.6666666666666666,
              "#ed7953"
             ],
             [
              0.7777777777777778,
              "#fb9f3a"
             ],
             [
              0.8888888888888888,
              "#fdca26"
             ],
             [
              1,
              "#f0f921"
             ]
            ],
            "type": "histogram2d"
           }
          ],
          "histogram2dcontour": [
           {
            "colorbar": {
             "outlinewidth": 0,
             "ticks": ""
            },
            "colorscale": [
             [
              0,
              "#0d0887"
             ],
             [
              0.1111111111111111,
              "#46039f"
             ],
             [
              0.2222222222222222,
              "#7201a8"
             ],
             [
              0.3333333333333333,
              "#9c179e"
             ],
             [
              0.4444444444444444,
              "#bd3786"
             ],
             [
              0.5555555555555556,
              "#d8576b"
             ],
             [
              0.6666666666666666,
              "#ed7953"
             ],
             [
              0.7777777777777778,
              "#fb9f3a"
             ],
             [
              0.8888888888888888,
              "#fdca26"
             ],
             [
              1,
              "#f0f921"
             ]
            ],
            "type": "histogram2dcontour"
           }
          ],
          "mesh3d": [
           {
            "colorbar": {
             "outlinewidth": 0,
             "ticks": ""
            },
            "type": "mesh3d"
           }
          ],
          "parcoords": [
           {
            "line": {
             "colorbar": {
              "outlinewidth": 0,
              "ticks": ""
             }
            },
            "type": "parcoords"
           }
          ],
          "pie": [
           {
            "automargin": true,
            "type": "pie"
           }
          ],
          "scatter": [
           {
            "marker": {
             "colorbar": {
              "outlinewidth": 0,
              "ticks": ""
             }
            },
            "type": "scatter"
           }
          ],
          "scatter3d": [
           {
            "line": {
             "colorbar": {
              "outlinewidth": 0,
              "ticks": ""
             }
            },
            "marker": {
             "colorbar": {
              "outlinewidth": 0,
              "ticks": ""
             }
            },
            "type": "scatter3d"
           }
          ],
          "scattercarpet": [
           {
            "marker": {
             "colorbar": {
              "outlinewidth": 0,
              "ticks": ""
             }
            },
            "type": "scattercarpet"
           }
          ],
          "scattergeo": [
           {
            "marker": {
             "colorbar": {
              "outlinewidth": 0,
              "ticks": ""
             }
            },
            "type": "scattergeo"
           }
          ],
          "scattergl": [
           {
            "marker": {
             "colorbar": {
              "outlinewidth": 0,
              "ticks": ""
             }
            },
            "type": "scattergl"
           }
          ],
          "scattermapbox": [
           {
            "marker": {
             "colorbar": {
              "outlinewidth": 0,
              "ticks": ""
             }
            },
            "type": "scattermapbox"
           }
          ],
          "scatterpolar": [
           {
            "marker": {
             "colorbar": {
              "outlinewidth": 0,
              "ticks": ""
             }
            },
            "type": "scatterpolar"
           }
          ],
          "scatterpolargl": [
           {
            "marker": {
             "colorbar": {
              "outlinewidth": 0,
              "ticks": ""
             }
            },
            "type": "scatterpolargl"
           }
          ],
          "scatterternary": [
           {
            "marker": {
             "colorbar": {
              "outlinewidth": 0,
              "ticks": ""
             }
            },
            "type": "scatterternary"
           }
          ],
          "surface": [
           {
            "colorbar": {
             "outlinewidth": 0,
             "ticks": ""
            },
            "colorscale": [
             [
              0,
              "#0d0887"
             ],
             [
              0.1111111111111111,
              "#46039f"
             ],
             [
              0.2222222222222222,
              "#7201a8"
             ],
             [
              0.3333333333333333,
              "#9c179e"
             ],
             [
              0.4444444444444444,
              "#bd3786"
             ],
             [
              0.5555555555555556,
              "#d8576b"
             ],
             [
              0.6666666666666666,
              "#ed7953"
             ],
             [
              0.7777777777777778,
              "#fb9f3a"
             ],
             [
              0.8888888888888888,
              "#fdca26"
             ],
             [
              1,
              "#f0f921"
             ]
            ],
            "type": "surface"
           }
          ],
          "table": [
           {
            "cells": {
             "fill": {
              "color": "#EBF0F8"
             },
             "line": {
              "color": "white"
             }
            },
            "header": {
             "fill": {
              "color": "#C8D4E3"
             },
             "line": {
              "color": "white"
             }
            },
            "type": "table"
           }
          ]
         },
         "layout": {
          "annotationdefaults": {
           "arrowcolor": "#2a3f5f",
           "arrowhead": 0,
           "arrowwidth": 1
          },
          "autotypenumbers": "strict",
          "coloraxis": {
           "colorbar": {
            "outlinewidth": 0,
            "ticks": ""
           }
          },
          "colorscale": {
           "diverging": [
            [
             0,
             "#8e0152"
            ],
            [
             0.1,
             "#c51b7d"
            ],
            [
             0.2,
             "#de77ae"
            ],
            [
             0.3,
             "#f1b6da"
            ],
            [
             0.4,
             "#fde0ef"
            ],
            [
             0.5,
             "#f7f7f7"
            ],
            [
             0.6,
             "#e6f5d0"
            ],
            [
             0.7,
             "#b8e186"
            ],
            [
             0.8,
             "#7fbc41"
            ],
            [
             0.9,
             "#4d9221"
            ],
            [
             1,
             "#276419"
            ]
           ],
           "sequential": [
            [
             0,
             "#0d0887"
            ],
            [
             0.1111111111111111,
             "#46039f"
            ],
            [
             0.2222222222222222,
             "#7201a8"
            ],
            [
             0.3333333333333333,
             "#9c179e"
            ],
            [
             0.4444444444444444,
             "#bd3786"
            ],
            [
             0.5555555555555556,
             "#d8576b"
            ],
            [
             0.6666666666666666,
             "#ed7953"
            ],
            [
             0.7777777777777778,
             "#fb9f3a"
            ],
            [
             0.8888888888888888,
             "#fdca26"
            ],
            [
             1,
             "#f0f921"
            ]
           ],
           "sequentialminus": [
            [
             0,
             "#0d0887"
            ],
            [
             0.1111111111111111,
             "#46039f"
            ],
            [
             0.2222222222222222,
             "#7201a8"
            ],
            [
             0.3333333333333333,
             "#9c179e"
            ],
            [
             0.4444444444444444,
             "#bd3786"
            ],
            [
             0.5555555555555556,
             "#d8576b"
            ],
            [
             0.6666666666666666,
             "#ed7953"
            ],
            [
             0.7777777777777778,
             "#fb9f3a"
            ],
            [
             0.8888888888888888,
             "#fdca26"
            ],
            [
             1,
             "#f0f921"
            ]
           ]
          },
          "colorway": [
           "#636efa",
           "#EF553B",
           "#00cc96",
           "#ab63fa",
           "#FFA15A",
           "#19d3f3",
           "#FF6692",
           "#B6E880",
           "#FF97FF",
           "#FECB52"
          ],
          "font": {
           "color": "#2a3f5f"
          },
          "geo": {
           "bgcolor": "white",
           "lakecolor": "white",
           "landcolor": "#E5ECF6",
           "showlakes": true,
           "showland": true,
           "subunitcolor": "white"
          },
          "hoverlabel": {
           "align": "left"
          },
          "hovermode": "closest",
          "mapbox": {
           "style": "light"
          },
          "paper_bgcolor": "white",
          "plot_bgcolor": "#E5ECF6",
          "polar": {
           "angularaxis": {
            "gridcolor": "white",
            "linecolor": "white",
            "ticks": ""
           },
           "bgcolor": "#E5ECF6",
           "radialaxis": {
            "gridcolor": "white",
            "linecolor": "white",
            "ticks": ""
           }
          },
          "scene": {
           "xaxis": {
            "backgroundcolor": "#E5ECF6",
            "gridcolor": "white",
            "gridwidth": 2,
            "linecolor": "white",
            "showbackground": true,
            "ticks": "",
            "zerolinecolor": "white"
           },
           "yaxis": {
            "backgroundcolor": "#E5ECF6",
            "gridcolor": "white",
            "gridwidth": 2,
            "linecolor": "white",
            "showbackground": true,
            "ticks": "",
            "zerolinecolor": "white"
           },
           "zaxis": {
            "backgroundcolor": "#E5ECF6",
            "gridcolor": "white",
            "gridwidth": 2,
            "linecolor": "white",
            "showbackground": true,
            "ticks": "",
            "zerolinecolor": "white"
           }
          },
          "shapedefaults": {
           "line": {
            "color": "#2a3f5f"
           }
          },
          "ternary": {
           "aaxis": {
            "gridcolor": "white",
            "linecolor": "white",
            "ticks": ""
           },
           "baxis": {
            "gridcolor": "white",
            "linecolor": "white",
            "ticks": ""
           },
           "bgcolor": "#E5ECF6",
           "caxis": {
            "gridcolor": "white",
            "linecolor": "white",
            "ticks": ""
           }
          },
          "title": {
           "x": 0.05
          },
          "xaxis": {
           "automargin": true,
           "gridcolor": "white",
           "linecolor": "white",
           "ticks": "",
           "title": {
            "standoff": 15
           },
           "zerolinecolor": "white",
           "zerolinewidth": 2
          },
          "yaxis": {
           "automargin": true,
           "gridcolor": "white",
           "linecolor": "white",
           "ticks": "",
           "title": {
            "standoff": 15
           },
           "zerolinecolor": "white",
           "zerolinewidth": 2
          }
         }
        },
        "title": {
         "text": "2D Cluster PCA Plot"
        },
        "xaxis": {
         "anchor": "y",
         "domain": [
          0,
          1
         ],
         "title": {
          "text": "PCA1"
         }
        },
        "yaxis": {
         "anchor": "x",
         "domain": [
          0,
          1
         ],
         "title": {
          "text": "PCA2"
         }
        }
       }
      }
     },
     "metadata": {},
     "output_type": "display_data"
    }
   ],
   "source": [
    "plot_model(model)"
   ]
  },
  {
   "cell_type": "code",
   "execution_count": null,
   "metadata": {},
   "outputs": [],
   "source": []
  }
 ],
 "metadata": {
  "interpreter": {
   "hash": "51db7280388fcf393021e9e957f2125b6962cf930dda743f78a59dc204d06f19"
  },
  "kernelspec": {
   "display_name": "Python 3.8.5 64-bit ('tf25': conda)",
   "name": "python3"
  },
  "language_info": {
   "codemirror_mode": {
    "name": "ipython",
    "version": 3
   },
   "file_extension": ".py",
   "mimetype": "text/x-python",
   "name": "python",
   "nbconvert_exporter": "python",
   "pygments_lexer": "ipython3",
   "version": "3.8.5"
  },
  "orig_nbformat": 4
 },
 "nbformat": 4,
 "nbformat_minor": 2
}
