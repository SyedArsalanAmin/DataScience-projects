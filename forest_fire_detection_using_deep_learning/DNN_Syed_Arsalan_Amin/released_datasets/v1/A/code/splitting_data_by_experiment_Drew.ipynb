{
 "cells": [
  {
   "cell_type": "code",
   "execution_count": 1,
   "id": "large-moral",
   "metadata": {},
   "outputs": [],
   "source": [
    "import pandas as pd\n",
    "import os\n",
    "from matplotlib import pyplot as plt\n",
    "import numpy as np"
   ]
  },
  {
   "cell_type": "code",
   "execution_count": 3,
   "id": "legitimate-governor",
   "metadata": {},
   "outputs": [
    {
     "data": {
      "text/plain": [
       "'C:\\\\Users\\\\Drew\\\\Documents\\\\data_science_projects\\\\Omdena\\\\Dryad\\\\Dryad\\\\released_datasets\\\\dataset-v1-A\\\\code'"
      ]
     },
     "execution_count": 3,
     "metadata": {},
     "output_type": "execute_result"
    }
   ],
   "source": [
    "os.getcwd()"
   ]
  },
  {
   "cell_type": "code",
   "execution_count": 4,
   "id": "backed-temperature",
   "metadata": {},
   "outputs": [],
   "source": [
    "csv_path = '../../../archive/AA Dataset/aa_dryad_merged_cleaned_data2_update.csv'"
   ]
  },
  {
   "cell_type": "code",
   "execution_count": 5,
   "id": "governing-heading",
   "metadata": {},
   "outputs": [],
   "source": [
    "df = pd.read_csv(csv_path)"
   ]
  },
  {
   "cell_type": "code",
   "execution_count": 6,
   "id": "satisfied-beaver",
   "metadata": {},
   "outputs": [
    {
     "data": {
      "text/html": [
       "<div>\n",
       "<style scoped>\n",
       "    .dataframe tbody tr th:only-of-type {\n",
       "        vertical-align: middle;\n",
       "    }\n",
       "\n",
       "    .dataframe tbody tr th {\n",
       "        vertical-align: top;\n",
       "    }\n",
       "\n",
       "    .dataframe thead th {\n",
       "        text-align: right;\n",
       "    }\n",
       "</style>\n",
       "<table border=\"1\" class=\"dataframe\">\n",
       "  <thead>\n",
       "    <tr style=\"text-align: right;\">\n",
       "      <th></th>\n",
       "      <th>sensor_node_id</th>\n",
       "      <th>scan_time</th>\n",
       "      <th>temp_0</th>\n",
       "      <th>temp_1</th>\n",
       "      <th>temp_2</th>\n",
       "      <th>temp_3</th>\n",
       "      <th>temp_4</th>\n",
       "      <th>temp_5</th>\n",
       "      <th>temp_6</th>\n",
       "      <th>temp_7</th>\n",
       "      <th>...</th>\n",
       "      <th>start_time</th>\n",
       "      <th>end_time</th>\n",
       "      <th>burn_material</th>\n",
       "      <th>burn_material_amount(g)</th>\n",
       "      <th>hotplate_start</th>\n",
       "      <th>hotplate_temp</th>\n",
       "      <th>distance_sensor_hotplate</th>\n",
       "      <th>venue</th>\n",
       "      <th>venue_type</th>\n",
       "      <th>encoded_specimen</th>\n",
       "    </tr>\n",
       "  </thead>\n",
       "  <tbody>\n",
       "    <tr>\n",
       "      <th>0</th>\n",
       "      <td>146</td>\n",
       "      <td>2021-09-01 09:01:36.817528009</td>\n",
       "      <td>18.8</td>\n",
       "      <td>19.0</td>\n",
       "      <td>19.6</td>\n",
       "      <td>19.6</td>\n",
       "      <td>19.7</td>\n",
       "      <td>20.0</td>\n",
       "      <td>20.1</td>\n",
       "      <td>20.1</td>\n",
       "      <td>...</td>\n",
       "      <td>2021-09-01 08:30:22.000000000</td>\n",
       "      <td>2021-09-01 18:50:46.000000000</td>\n",
       "      <td>SP2</td>\n",
       "      <td>600.0</td>\n",
       "      <td>2021-09-01 10:03:57.000000000</td>\n",
       "      <td>500</td>\n",
       "      <td>30m</td>\n",
       "      <td>hall</td>\n",
       "      <td>Hall</td>\n",
       "      <td>0</td>\n",
       "    </tr>\n",
       "    <tr>\n",
       "      <th>1</th>\n",
       "      <td>146</td>\n",
       "      <td>2021-09-01 09:02:13.375891000</td>\n",
       "      <td>19.2</td>\n",
       "      <td>19.3</td>\n",
       "      <td>19.8</td>\n",
       "      <td>19.8</td>\n",
       "      <td>19.9</td>\n",
       "      <td>20.2</td>\n",
       "      <td>20.2</td>\n",
       "      <td>20.2</td>\n",
       "      <td>...</td>\n",
       "      <td>2021-09-01 08:30:22.000000000</td>\n",
       "      <td>2021-09-01 18:50:46.000000000</td>\n",
       "      <td>SP2</td>\n",
       "      <td>600.0</td>\n",
       "      <td>2021-09-01 10:03:57.000000000</td>\n",
       "      <td>500</td>\n",
       "      <td>30m</td>\n",
       "      <td>hall</td>\n",
       "      <td>Hall</td>\n",
       "      <td>0</td>\n",
       "    </tr>\n",
       "    <tr>\n",
       "      <th>2</th>\n",
       "      <td>146</td>\n",
       "      <td>2021-09-01 09:02:50.057426000</td>\n",
       "      <td>19.3</td>\n",
       "      <td>19.4</td>\n",
       "      <td>19.9</td>\n",
       "      <td>19.9</td>\n",
       "      <td>20.0</td>\n",
       "      <td>20.3</td>\n",
       "      <td>20.3</td>\n",
       "      <td>20.3</td>\n",
       "      <td>...</td>\n",
       "      <td>2021-09-01 08:30:22.000000000</td>\n",
       "      <td>2021-09-01 18:50:46.000000000</td>\n",
       "      <td>SP2</td>\n",
       "      <td>600.0</td>\n",
       "      <td>2021-09-01 10:03:57.000000000</td>\n",
       "      <td>500</td>\n",
       "      <td>30m</td>\n",
       "      <td>hall</td>\n",
       "      <td>Hall</td>\n",
       "      <td>0</td>\n",
       "    </tr>\n",
       "    <tr>\n",
       "      <th>3</th>\n",
       "      <td>146</td>\n",
       "      <td>2021-09-01 09:03:26.565743000</td>\n",
       "      <td>19.3</td>\n",
       "      <td>19.5</td>\n",
       "      <td>20.0</td>\n",
       "      <td>20.0</td>\n",
       "      <td>20.1</td>\n",
       "      <td>20.3</td>\n",
       "      <td>20.4</td>\n",
       "      <td>20.3</td>\n",
       "      <td>...</td>\n",
       "      <td>2021-09-01 08:30:22.000000000</td>\n",
       "      <td>2021-09-01 18:50:46.000000000</td>\n",
       "      <td>SP2</td>\n",
       "      <td>600.0</td>\n",
       "      <td>2021-09-01 10:03:57.000000000</td>\n",
       "      <td>500</td>\n",
       "      <td>30m</td>\n",
       "      <td>hall</td>\n",
       "      <td>Hall</td>\n",
       "      <td>0</td>\n",
       "    </tr>\n",
       "    <tr>\n",
       "      <th>4</th>\n",
       "      <td>146</td>\n",
       "      <td>2021-09-01 09:04:03.635421991</td>\n",
       "      <td>19.4</td>\n",
       "      <td>19.5</td>\n",
       "      <td>20.0</td>\n",
       "      <td>20.0</td>\n",
       "      <td>20.1</td>\n",
       "      <td>20.4</td>\n",
       "      <td>20.4</td>\n",
       "      <td>20.4</td>\n",
       "      <td>...</td>\n",
       "      <td>2021-09-01 08:30:22.000000000</td>\n",
       "      <td>2021-09-01 18:50:46.000000000</td>\n",
       "      <td>SP2</td>\n",
       "      <td>600.0</td>\n",
       "      <td>2021-09-01 10:03:57.000000000</td>\n",
       "      <td>500</td>\n",
       "      <td>30m</td>\n",
       "      <td>hall</td>\n",
       "      <td>Hall</td>\n",
       "      <td>0</td>\n",
       "    </tr>\n",
       "  </tbody>\n",
       "</table>\n",
       "<p>5 rows × 45 columns</p>\n",
       "</div>"
      ],
      "text/plain": [
       "   sensor_node_id                      scan_time  temp_0  temp_1  temp_2  \\\n",
       "0             146  2021-09-01 09:01:36.817528009    18.8    19.0    19.6   \n",
       "1             146  2021-09-01 09:02:13.375891000    19.2    19.3    19.8   \n",
       "2             146  2021-09-01 09:02:50.057426000    19.3    19.4    19.9   \n",
       "3             146  2021-09-01 09:03:26.565743000    19.3    19.5    20.0   \n",
       "4             146  2021-09-01 09:04:03.635421991    19.4    19.5    20.0   \n",
       "\n",
       "   temp_3  temp_4  temp_5  temp_6  temp_7  ...                     start_time  \\\n",
       "0    19.6    19.7    20.0    20.1    20.1  ...  2021-09-01 08:30:22.000000000   \n",
       "1    19.8    19.9    20.2    20.2    20.2  ...  2021-09-01 08:30:22.000000000   \n",
       "2    19.9    20.0    20.3    20.3    20.3  ...  2021-09-01 08:30:22.000000000   \n",
       "3    20.0    20.1    20.3    20.4    20.3  ...  2021-09-01 08:30:22.000000000   \n",
       "4    20.0    20.1    20.4    20.4    20.4  ...  2021-09-01 08:30:22.000000000   \n",
       "\n",
       "                        end_time  burn_material  burn_material_amount(g)  \\\n",
       "0  2021-09-01 18:50:46.000000000            SP2                    600.0   \n",
       "1  2021-09-01 18:50:46.000000000            SP2                    600.0   \n",
       "2  2021-09-01 18:50:46.000000000            SP2                    600.0   \n",
       "3  2021-09-01 18:50:46.000000000            SP2                    600.0   \n",
       "4  2021-09-01 18:50:46.000000000            SP2                    600.0   \n",
       "\n",
       "                  hotplate_start  hotplate_temp  distance_sensor_hotplate  \\\n",
       "0  2021-09-01 10:03:57.000000000            500                       30m   \n",
       "1  2021-09-01 10:03:57.000000000            500                       30m   \n",
       "2  2021-09-01 10:03:57.000000000            500                       30m   \n",
       "3  2021-09-01 10:03:57.000000000            500                       30m   \n",
       "4  2021-09-01 10:03:57.000000000            500                       30m   \n",
       "\n",
       "   venue  venue_type  encoded_specimen  \n",
       "0   hall        Hall                 0  \n",
       "1   hall        Hall                 0  \n",
       "2   hall        Hall                 0  \n",
       "3   hall        Hall                 0  \n",
       "4   hall        Hall                 0  \n",
       "\n",
       "[5 rows x 45 columns]"
      ]
     },
     "execution_count": 6,
     "metadata": {},
     "output_type": "execute_result"
    }
   ],
   "source": [
    "df.head()"
   ]
  },
  {
   "cell_type": "code",
   "execution_count": 7,
   "id": "crazy-nicaragua",
   "metadata": {},
   "outputs": [
    {
     "data": {
      "text/plain": [
       "(2498, 45)"
      ]
     },
     "execution_count": 7,
     "metadata": {},
     "output_type": "execute_result"
    }
   ],
   "source": [
    "df.shape"
   ]
  },
  {
   "cell_type": "code",
   "execution_count": 8,
   "id": "protecting-contribution",
   "metadata": {},
   "outputs": [
    {
     "data": {
      "text/plain": [
       "Index(['sensor_node_id', 'scan_time', 'temp_0', 'temp_1', 'temp_2', 'temp_3',\n",
       "       'temp_4', 'temp_5', 'temp_6', 'temp_7', 'temp_8', 'temp_9', 'humid_0',\n",
       "       'humid_1', 'humid_2', 'humid_3', 'humid_4', 'humid_5', 'humid_6',\n",
       "       'humid_7', 'humid_8', 'humid_9', 'gas_scan_0', 'gas_scan_1',\n",
       "       'gas_scan_2', 'gas_scan_3', 'gas_scan_4', 'gas_scan_5', 'gas_scan_6',\n",
       "       'gas_scan_7', 'gas_scan_8', 'gas_scan_9', 'gas_scan_cnt', 'trigger',\n",
       "       'experiment_id', 'start_time', 'end_time', 'burn_material',\n",
       "       'burn_material_amount(g)', 'hotplate_start', 'hotplate_temp',\n",
       "       'distance_sensor_hotplate', 'venue', 'venue_type', 'encoded_specimen'],\n",
       "      dtype='object')"
      ]
     },
     "execution_count": 8,
     "metadata": {},
     "output_type": "execute_result"
    }
   ],
   "source": [
    "df.columns"
   ]
  },
  {
   "cell_type": "code",
   "execution_count": 9,
   "id": "pleased-jacket",
   "metadata": {},
   "outputs": [
    {
     "name": "stdout",
     "output_type": "stream",
     "text": [
      "<class 'pandas.core.frame.DataFrame'>\n",
      "RangeIndex: 2498 entries, 0 to 2497\n",
      "Data columns (total 45 columns):\n",
      " #   Column                    Non-Null Count  Dtype  \n",
      "---  ------                    --------------  -----  \n",
      " 0   sensor_node_id            2498 non-null   int64  \n",
      " 1   scan_time                 2498 non-null   object \n",
      " 2   temp_0                    2498 non-null   float64\n",
      " 3   temp_1                    2498 non-null   float64\n",
      " 4   temp_2                    2498 non-null   float64\n",
      " 5   temp_3                    2498 non-null   float64\n",
      " 6   temp_4                    2498 non-null   float64\n",
      " 7   temp_5                    2498 non-null   float64\n",
      " 8   temp_6                    2498 non-null   float64\n",
      " 9   temp_7                    2498 non-null   float64\n",
      " 10  temp_8                    2498 non-null   float64\n",
      " 11  temp_9                    2498 non-null   float64\n",
      " 12  humid_0                   2498 non-null   float64\n",
      " 13  humid_1                   2498 non-null   float64\n",
      " 14  humid_2                   2498 non-null   float64\n",
      " 15  humid_3                   2498 non-null   float64\n",
      " 16  humid_4                   2498 non-null   float64\n",
      " 17  humid_5                   2498 non-null   float64\n",
      " 18  humid_6                   2498 non-null   float64\n",
      " 19  humid_7                   2498 non-null   float64\n",
      " 20  humid_8                   2498 non-null   float64\n",
      " 21  humid_9                   2498 non-null   float64\n",
      " 22  gas_scan_0                2498 non-null   float64\n",
      " 23  gas_scan_1                2498 non-null   float64\n",
      " 24  gas_scan_2                2498 non-null   float64\n",
      " 25  gas_scan_3                2498 non-null   float64\n",
      " 26  gas_scan_4                2498 non-null   float64\n",
      " 27  gas_scan_5                2498 non-null   float64\n",
      " 28  gas_scan_6                2498 non-null   float64\n",
      " 29  gas_scan_7                2498 non-null   float64\n",
      " 30  gas_scan_8                2498 non-null   float64\n",
      " 31  gas_scan_9                2498 non-null   float64\n",
      " 32  gas_scan_cnt              2498 non-null   float64\n",
      " 33  trigger                   2498 non-null   object \n",
      " 34  experiment_id             2498 non-null   int64  \n",
      " 35  start_time                2498 non-null   object \n",
      " 36  end_time                  2498 non-null   object \n",
      " 37  burn_material             2498 non-null   object \n",
      " 38  burn_material_amount(g)   2070 non-null   float64\n",
      " 39  hotplate_start            2498 non-null   object \n",
      " 40  hotplate_temp             2498 non-null   object \n",
      " 41  distance_sensor_hotplate  2498 non-null   object \n",
      " 42  venue                     2498 non-null   object \n",
      " 43  venue_type                2498 non-null   object \n",
      " 44  encoded_specimen          2498 non-null   int64  \n",
      "dtypes: float64(32), int64(3), object(10)\n",
      "memory usage: 878.3+ KB\n"
     ]
    }
   ],
   "source": [
    "df.info()"
   ]
  },
  {
   "cell_type": "code",
   "execution_count": 10,
   "id": "acoustic-richmond",
   "metadata": {},
   "outputs": [
    {
     "data": {
      "text/plain": [
       "6     935\n",
       "8     428\n",
       "9     428\n",
       "14    142\n",
       "10    133\n",
       "12    127\n",
       "11    121\n",
       "7      75\n",
       "15     66\n",
       "13     43\n",
       "Name: experiment_id, dtype: int64"
      ]
     },
     "execution_count": 10,
     "metadata": {},
     "output_type": "execute_result"
    }
   ],
   "source": [
    "df.experiment_id.value_counts()"
   ]
  },
  {
   "cell_type": "code",
   "execution_count": 11,
   "id": "extended-stamp",
   "metadata": {},
   "outputs": [
    {
     "data": {
      "text/plain": [
       "[6, 8, 9, 14, 10, 12, 11, 7, 15, 13]"
      ]
     },
     "execution_count": 11,
     "metadata": {},
     "output_type": "execute_result"
    }
   ],
   "source": [
    "experiments = list(df.experiment_id.value_counts().index)\n",
    "experiments"
   ]
  },
  {
   "cell_type": "code",
   "execution_count": 12,
   "id": "broadband-plumbing",
   "metadata": {},
   "outputs": [
    {
     "data": {
      "text/html": [
       "<div>\n",
       "<style scoped>\n",
       "    .dataframe tbody tr th:only-of-type {\n",
       "        vertical-align: middle;\n",
       "    }\n",
       "\n",
       "    .dataframe tbody tr th {\n",
       "        vertical-align: top;\n",
       "    }\n",
       "\n",
       "    .dataframe thead th {\n",
       "        text-align: right;\n",
       "    }\n",
       "</style>\n",
       "<table border=\"1\" class=\"dataframe\">\n",
       "  <thead>\n",
       "    <tr style=\"text-align: right;\">\n",
       "      <th></th>\n",
       "      <th>gas_scan_cnt</th>\n",
       "    </tr>\n",
       "    <tr>\n",
       "      <th>experiment_id</th>\n",
       "      <th></th>\n",
       "    </tr>\n",
       "  </thead>\n",
       "  <tbody>\n",
       "    <tr>\n",
       "      <th>6</th>\n",
       "      <td>6.0</td>\n",
       "    </tr>\n",
       "    <tr>\n",
       "      <th>7</th>\n",
       "      <td>6.0</td>\n",
       "    </tr>\n",
       "    <tr>\n",
       "      <th>8</th>\n",
       "      <td>6.0</td>\n",
       "    </tr>\n",
       "    <tr>\n",
       "      <th>9</th>\n",
       "      <td>15.0</td>\n",
       "    </tr>\n",
       "    <tr>\n",
       "      <th>10</th>\n",
       "      <td>15.0</td>\n",
       "    </tr>\n",
       "    <tr>\n",
       "      <th>11</th>\n",
       "      <td>6.0</td>\n",
       "    </tr>\n",
       "    <tr>\n",
       "      <th>12</th>\n",
       "      <td>6.0</td>\n",
       "    </tr>\n",
       "    <tr>\n",
       "      <th>13</th>\n",
       "      <td>6.0</td>\n",
       "    </tr>\n",
       "    <tr>\n",
       "      <th>14</th>\n",
       "      <td>6.0</td>\n",
       "    </tr>\n",
       "    <tr>\n",
       "      <th>15</th>\n",
       "      <td>6.0</td>\n",
       "    </tr>\n",
       "  </tbody>\n",
       "</table>\n",
       "</div>"
      ],
      "text/plain": [
       "               gas_scan_cnt\n",
       "experiment_id              \n",
       "6                       6.0\n",
       "7                       6.0\n",
       "8                       6.0\n",
       "9                      15.0\n",
       "10                     15.0\n",
       "11                      6.0\n",
       "12                      6.0\n",
       "13                      6.0\n",
       "14                      6.0\n",
       "15                      6.0"
      ]
     },
     "execution_count": 12,
     "metadata": {},
     "output_type": "execute_result"
    }
   ],
   "source": [
    "df[['experiment_id','gas_scan_cnt']].groupby('experiment_id').max()"
   ]
  },
  {
   "cell_type": "code",
   "execution_count": 13,
   "id": "necessary-heading",
   "metadata": {},
   "outputs": [
    {
     "data": {
      "text/plain": [
       "[11, 13, 15]"
      ]
     },
     "execution_count": 13,
     "metadata": {},
     "output_type": "execute_result"
    }
   ],
   "source": [
    "train_experiments = [6,7,8,9,14]\n",
    "valid_experiments = [10,12]\n",
    "test_experiments = list(set(experiments)-set(train_experiments + valid_experiments))\n",
    "test_experiments"
   ]
  },
  {
   "cell_type": "code",
   "execution_count": 14,
   "id": "interracial-sailing",
   "metadata": {},
   "outputs": [],
   "source": [
    "all_experiments = train_experiments + valid_experiments + test_experiments"
   ]
  },
  {
   "cell_type": "code",
   "execution_count": 15,
   "id": "stopped-rugby",
   "metadata": {},
   "outputs": [
    {
     "data": {
      "text/plain": [
       "10"
      ]
     },
     "execution_count": 15,
     "metadata": {},
     "output_type": "execute_result"
    }
   ],
   "source": [
    "len(set(all_experiments + experiments))"
   ]
  },
  {
   "cell_type": "code",
   "execution_count": 16,
   "id": "coastal-flight",
   "metadata": {},
   "outputs": [
    {
     "data": {
      "text/plain": [
       "(2008, 45)"
      ]
     },
     "execution_count": 16,
     "metadata": {},
     "output_type": "execute_result"
    }
   ],
   "source": [
    "train_set = df[df['experiment_id'].isin(train_experiments)]\n",
    "train_set.shape"
   ]
  },
  {
   "cell_type": "code",
   "execution_count": 17,
   "id": "pleasant-bookmark",
   "metadata": {},
   "outputs": [
    {
     "data": {
      "text/plain": [
       "(260, 45)"
      ]
     },
     "execution_count": 17,
     "metadata": {},
     "output_type": "execute_result"
    }
   ],
   "source": [
    "valid_set = df[df['experiment_id'].isin(valid_experiments)]\n",
    "valid_set.shape"
   ]
  },
  {
   "cell_type": "code",
   "execution_count": 18,
   "id": "opened-amazon",
   "metadata": {},
   "outputs": [
    {
     "data": {
      "text/plain": [
       "(230, 45)"
      ]
     },
     "execution_count": 18,
     "metadata": {},
     "output_type": "execute_result"
    }
   ],
   "source": [
    "test_set = df[df['experiment_id'].isin(test_experiments)]\n",
    "test_set.shape"
   ]
  },
  {
   "cell_type": "code",
   "execution_count": 19,
   "id": "intended-uganda",
   "metadata": {},
   "outputs": [
    {
     "data": {
      "text/plain": [
       "(2498, 2498)"
      ]
     },
     "execution_count": 19,
     "metadata": {},
     "output_type": "execute_result"
    }
   ],
   "source": [
    "total_size = len(train_set) + len(valid_set) + len(test_set)\n",
    "total_size, len(df)"
   ]
  },
  {
   "cell_type": "code",
   "execution_count": 54,
   "id": "ruled-tokyo",
   "metadata": {},
   "outputs": [],
   "source": [
    "output_file = '../data/train_set_v1.csv'\n",
    "train_set.to_csv(output_file, index = False)"
   ]
  },
  {
   "cell_type": "code",
   "execution_count": 58,
   "id": "palestinian-louisville",
   "metadata": {},
   "outputs": [],
   "source": [
    "output_file = '../data/test_set_v1.csv'\n",
    "test_set.to_csv(output_file, index = False)"
   ]
  },
  {
   "cell_type": "code",
   "execution_count": 20,
   "id": "unlike-navigator",
   "metadata": {},
   "outputs": [],
   "source": [
    "output_file = '../data/valid_set_v1.csv'\n",
    "valid_set.to_csv(output_file, index = False)"
   ]
  },
  {
   "cell_type": "code",
   "execution_count": 21,
   "id": "native-heritage",
   "metadata": {},
   "outputs": [],
   "source": [
    "df = pd.read_csv(output_file)"
   ]
  },
  {
   "cell_type": "code",
   "execution_count": 22,
   "id": "premium-fusion",
   "metadata": {},
   "outputs": [
    {
     "data": {
      "text/plain": [
       "(260, 45)"
      ]
     },
     "execution_count": 22,
     "metadata": {},
     "output_type": "execute_result"
    }
   ],
   "source": [
    "df.shape"
   ]
  },
  {
   "cell_type": "code",
   "execution_count": 23,
   "id": "vocal-plaintiff",
   "metadata": {},
   "outputs": [
    {
     "data": {
      "text/plain": [
       "10    133\n",
       "12    127\n",
       "Name: experiment_id, dtype: int64"
      ]
     },
     "execution_count": 23,
     "metadata": {},
     "output_type": "execute_result"
    }
   ],
   "source": [
    "df.experiment_id.value_counts()"
   ]
  },
  {
   "cell_type": "code",
   "execution_count": null,
   "id": "knowing-orange",
   "metadata": {},
   "outputs": [],
   "source": []
  }
 ],
 "metadata": {
  "kernelspec": {
   "display_name": "Python 3",
   "language": "python",
   "name": "python3"
  },
  "language_info": {
   "codemirror_mode": {
    "name": "ipython",
    "version": 3
   },
   "file_extension": ".py",
   "mimetype": "text/x-python",
   "name": "python",
   "nbconvert_exporter": "python",
   "pygments_lexer": "ipython3",
   "version": "3.9.2"
  }
 },
 "nbformat": 4,
 "nbformat_minor": 5
}
