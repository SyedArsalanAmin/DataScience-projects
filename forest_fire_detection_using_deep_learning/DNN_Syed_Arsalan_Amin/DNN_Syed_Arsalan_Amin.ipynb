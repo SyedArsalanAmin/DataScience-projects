{
 "cells": [
  {
   "cell_type": "markdown",
   "source": [
    "# Section-1.0 Importing data"
   ],
   "metadata": {}
  },
  {
   "cell_type": "markdown",
   "source": [
    "## 1.1 Importing libraries"
   ],
   "metadata": {}
  },
  {
   "cell_type": "code",
   "execution_count": 23,
   "source": [
    "import pandas as pd\r\n",
    "import seaborn as sns\r\n",
    "import matplotlib.pyplot as plt\r\n",
    "from tensorflow.keras.models import Sequential\r\n",
    "from tensorflow.keras.layers import Dense\r\n",
    "from sklearn.preprocessing import LabelEncoder\r\n",
    "from sklearn.model_selection import cross_val_score\r\n",
    "from sklearn.model_selection import StratifiedKFold\r\n",
    "from tensorflow.keras.wrappers.scikit_learn import KerasClassifier\r\n",
    "from sklearn.preprocessing import StandardScaler\r\n",
    "from sklearn.pipeline import Pipeline"
   ],
   "outputs": [],
   "metadata": {}
  },
  {
   "cell_type": "code",
   "execution_count": 24,
   "source": [
    "from sklearn.model_selection import train_test_split\r\n",
    "from sklearn.preprocessing import MinMaxScaler\r\n",
    "import mlflow\r\n",
    "import mlflow.sklearn\r\n",
    "import numpy as np\r\n",
    "from sklearn.metrics import mean_squared_error, mean_absolute_error, r2_score\r\n",
    "%matplotlib inline\r\n",
    "sns.set_theme(style=\"whitegrid\")\r\n",
    "sns.set(style=\"white\", palette=\"muted\", color_codes=True)"
   ],
   "outputs": [],
   "metadata": {}
  },
  {
   "cell_type": "markdown",
   "source": [
    "# Mlflow Tracking"
   ],
   "metadata": {}
  },
  {
   "cell_type": "code",
   "execution_count": 25,
   "source": [
    "# mlflow server --backend-store-uri mlruns/ --default-artifact-root mlruns/ --host 0.0.0.0 --port 5000\r\n",
    "remote_server_uri = \"http://127.0.0.1:5000\" # set to your server URI\r\n",
    "mlflow.set_tracking_uri(remote_server_uri)  # or set the MLFLOW_TRACKING_URI in the env"
   ],
   "outputs": [],
   "metadata": {}
  },
  {
   "cell_type": "code",
   "execution_count": 26,
   "source": [
    "mlflow.tracking.get_tracking_uri()"
   ],
   "outputs": [
    {
     "output_type": "execute_result",
     "data": {
      "text/plain": [
       "'http://127.0.0.1:5000'"
      ]
     },
     "metadata": {},
     "execution_count": 26
    }
   ],
   "metadata": {}
  },
  {
   "cell_type": "code",
   "execution_count": 27,
   "source": [
    "exp_name = \"omdena1\"\r\n",
    "mlflow.set_experiment(exp_name)"
   ],
   "outputs": [],
   "metadata": {}
  },
  {
   "cell_type": "markdown",
   "source": [
    "## 1.2 Loading data"
   ],
   "metadata": {}
  },
  {
   "cell_type": "code",
   "execution_count": 28,
   "source": [
    "data_path = \"E:/DataScience_Ai/hobby_projects/Omdena-challenge/Dryad/DNN_Syed_Arsalan_Amin/released_datasets/v1/A/data/train_set.csv\""
   ],
   "outputs": [],
   "metadata": {}
  },
  {
   "cell_type": "code",
   "execution_count": 29,
   "source": [
    "df = pd.read_csv(data_path)"
   ],
   "outputs": [],
   "metadata": {}
  },
  {
   "cell_type": "code",
   "execution_count": 30,
   "source": [
    "old_new_columns_dict = dict(zip(df.columns.to_list(), [i.replace('-','_') for i in df.columns]))\r\n",
    "df = df.rename(columns=old_new_columns_dict)"
   ],
   "outputs": [],
   "metadata": {}
  },
  {
   "cell_type": "code",
   "execution_count": 31,
   "source": [
    "df.head(2)"
   ],
   "outputs": [
    {
     "output_type": "execute_result",
     "data": {
      "text/html": [
       "<div>\n",
       "<style scoped>\n",
       "    .dataframe tbody tr th:only-of-type {\n",
       "        vertical-align: middle;\n",
       "    }\n",
       "\n",
       "    .dataframe tbody tr th {\n",
       "        vertical-align: top;\n",
       "    }\n",
       "\n",
       "    .dataframe thead th {\n",
       "        text-align: right;\n",
       "    }\n",
       "</style>\n",
       "<table border=\"1\" class=\"dataframe\">\n",
       "  <thead>\n",
       "    <tr style=\"text-align: right;\">\n",
       "      <th></th>\n",
       "      <th>sensor_node_id</th>\n",
       "      <th>scan_time</th>\n",
       "      <th>temp_0</th>\n",
       "      <th>temp_1</th>\n",
       "      <th>temp_2</th>\n",
       "      <th>temp_3</th>\n",
       "      <th>temp_4</th>\n",
       "      <th>temp_5</th>\n",
       "      <th>temp_6</th>\n",
       "      <th>temp_7</th>\n",
       "      <th>...</th>\n",
       "      <th>start_time</th>\n",
       "      <th>end_time</th>\n",
       "      <th>burn_material</th>\n",
       "      <th>burn_material_amount(g)</th>\n",
       "      <th>hotplate_start</th>\n",
       "      <th>hotplate_temp</th>\n",
       "      <th>distance_sensor_hotplate</th>\n",
       "      <th>venue</th>\n",
       "      <th>venue_type</th>\n",
       "      <th>encoded_specimen</th>\n",
       "    </tr>\n",
       "  </thead>\n",
       "  <tbody>\n",
       "    <tr>\n",
       "      <th>0</th>\n",
       "      <td>146</td>\n",
       "      <td>2021-09-01 09:01:36.817528009</td>\n",
       "      <td>18.8</td>\n",
       "      <td>19.0</td>\n",
       "      <td>19.6</td>\n",
       "      <td>19.6</td>\n",
       "      <td>19.7</td>\n",
       "      <td>20.0</td>\n",
       "      <td>20.1</td>\n",
       "      <td>20.1</td>\n",
       "      <td>...</td>\n",
       "      <td>2021-09-01 08:30:22.000000000</td>\n",
       "      <td>2021-09-01 18:50:46.000000000</td>\n",
       "      <td>SP2</td>\n",
       "      <td>600.0</td>\n",
       "      <td>2021-09-01 10:03:57.000000000</td>\n",
       "      <td>500</td>\n",
       "      <td>30m</td>\n",
       "      <td>hall</td>\n",
       "      <td>Hall</td>\n",
       "      <td>0</td>\n",
       "    </tr>\n",
       "    <tr>\n",
       "      <th>1</th>\n",
       "      <td>146</td>\n",
       "      <td>2021-09-01 09:02:13.375891000</td>\n",
       "      <td>19.2</td>\n",
       "      <td>19.3</td>\n",
       "      <td>19.8</td>\n",
       "      <td>19.8</td>\n",
       "      <td>19.9</td>\n",
       "      <td>20.2</td>\n",
       "      <td>20.2</td>\n",
       "      <td>20.2</td>\n",
       "      <td>...</td>\n",
       "      <td>2021-09-01 08:30:22.000000000</td>\n",
       "      <td>2021-09-01 18:50:46.000000000</td>\n",
       "      <td>SP2</td>\n",
       "      <td>600.0</td>\n",
       "      <td>2021-09-01 10:03:57.000000000</td>\n",
       "      <td>500</td>\n",
       "      <td>30m</td>\n",
       "      <td>hall</td>\n",
       "      <td>Hall</td>\n",
       "      <td>0</td>\n",
       "    </tr>\n",
       "  </tbody>\n",
       "</table>\n",
       "<p>2 rows × 45 columns</p>\n",
       "</div>"
      ],
      "text/plain": [
       "   sensor_node_id                      scan_time  temp_0  temp_1  temp_2  \\\n",
       "0             146  2021-09-01 09:01:36.817528009    18.8    19.0    19.6   \n",
       "1             146  2021-09-01 09:02:13.375891000    19.2    19.3    19.8   \n",
       "\n",
       "   temp_3  temp_4  temp_5  temp_6  temp_7  ...                     start_time  \\\n",
       "0    19.6    19.7    20.0    20.1    20.1  ...  2021-09-01 08:30:22.000000000   \n",
       "1    19.8    19.9    20.2    20.2    20.2  ...  2021-09-01 08:30:22.000000000   \n",
       "\n",
       "                        end_time  burn_material  burn_material_amount(g)  \\\n",
       "0  2021-09-01 18:50:46.000000000            SP2                    600.0   \n",
       "1  2021-09-01 18:50:46.000000000            SP2                    600.0   \n",
       "\n",
       "                  hotplate_start  hotplate_temp  distance_sensor_hotplate  \\\n",
       "0  2021-09-01 10:03:57.000000000            500                       30m   \n",
       "1  2021-09-01 10:03:57.000000000            500                       30m   \n",
       "\n",
       "   venue  venue_type  encoded_specimen  \n",
       "0   hall        Hall                 0  \n",
       "1   hall        Hall                 0  \n",
       "\n",
       "[2 rows x 45 columns]"
      ]
     },
     "metadata": {},
     "execution_count": 31
    }
   ],
   "metadata": {}
  },
  {
   "cell_type": "markdown",
   "source": [
    "# Exploring data"
   ],
   "metadata": {}
  },
  {
   "cell_type": "markdown",
   "source": [
    "## Categorical columns"
   ],
   "metadata": {}
  },
  {
   "cell_type": "code",
   "execution_count": 32,
   "source": [
    "df.columns"
   ],
   "outputs": [
    {
     "output_type": "execute_result",
     "data": {
      "text/plain": [
       "Index(['sensor_node_id', 'scan_time', 'temp_0', 'temp_1', 'temp_2', 'temp_3',\n",
       "       'temp_4', 'temp_5', 'temp_6', 'temp_7', 'temp_8', 'temp_9', 'humid_0',\n",
       "       'humid_1', 'humid_2', 'humid_3', 'humid_4', 'humid_5', 'humid_6',\n",
       "       'humid_7', 'humid_8', 'humid_9', 'gas_scan_0', 'gas_scan_1',\n",
       "       'gas_scan_2', 'gas_scan_3', 'gas_scan_4', 'gas_scan_5', 'gas_scan_6',\n",
       "       'gas_scan_7', 'gas_scan_8', 'gas_scan_9', 'gas_scan_cnt', 'trigger',\n",
       "       'experiment_id', 'start_time', 'end_time', 'burn_material',\n",
       "       'burn_material_amount(g)', 'hotplate_start', 'hotplate_temp',\n",
       "       'distance_sensor_hotplate', 'venue', 'venue_type', 'encoded_specimen'],\n",
       "      dtype='object')"
      ]
     },
     "metadata": {},
     "execution_count": 32
    }
   ],
   "metadata": {}
  },
  {
   "cell_type": "code",
   "execution_count": 33,
   "source": [
    "drop_cols = ['scan_time', 'start_time', 'end_time', 'venue_type','hotplate_start', 'hotplate_temp', 'distance_sensor_hotplate', 'burn_material', 'venue', 'trigger']\r\n",
    "  \r\n",
    "df = df.drop(drop_cols, axis = 1) # axis =1 means drop the columns"
   ],
   "outputs": [],
   "metadata": {}
  },
  {
   "cell_type": "code",
   "execution_count": null,
   "source": [
    "# print(df['distance_sensor_hotplate'].unique())\r\n",
    "# print(df['burn_material'].unique())\r\n",
    "# print(df['venue'].unique())\r\n",
    "# print(df['trigger'].unique())\r\n",
    "# print(df['encoded_specimen'].unique()) # in_smoke and clean_air"
   ],
   "outputs": [],
   "metadata": {}
  },
  {
   "cell_type": "markdown",
   "source": [
    "# Encoding"
   ],
   "metadata": {}
  },
  {
   "cell_type": "code",
   "execution_count": null,
   "source": [
    "# dist_encoder = LabelEncoder()\r\n",
    "# burn_encoder = LabelEncoder()\r\n",
    "# venue_encoder = LabelEncoder()\r\n",
    "# trigger_encoder = LabelEncoder()\r\n",
    "\r\n",
    "\r\n",
    "# df['distance_sensor_hotplate'] = dist_encoder.fit_transform(df['distance_sensor_hotplate'])\r\n",
    "# df['burn_material'] = burn_encoder.fit_transform(df['burn_material'])\r\n",
    "# df['venue'] = venue_encoder.fit_transform(df['venue'])\r\n",
    "# df['trigger'] = trigger_encoder.fit_transform(df['trigger'])\r\n"
   ],
   "outputs": [],
   "metadata": {}
  },
  {
   "cell_type": "code",
   "execution_count": 35,
   "source": [
    "print(df.shape)\r\n",
    "df.head(2)"
   ],
   "outputs": [
    {
     "output_type": "stream",
     "name": "stdout",
     "text": [
      "(2008, 35)\n"
     ]
    },
    {
     "output_type": "execute_result",
     "data": {
      "text/html": [
       "<div>\n",
       "<style scoped>\n",
       "    .dataframe tbody tr th:only-of-type {\n",
       "        vertical-align: middle;\n",
       "    }\n",
       "\n",
       "    .dataframe tbody tr th {\n",
       "        vertical-align: top;\n",
       "    }\n",
       "\n",
       "    .dataframe thead th {\n",
       "        text-align: right;\n",
       "    }\n",
       "</style>\n",
       "<table border=\"1\" class=\"dataframe\">\n",
       "  <thead>\n",
       "    <tr style=\"text-align: right;\">\n",
       "      <th></th>\n",
       "      <th>sensor_node_id</th>\n",
       "      <th>temp_0</th>\n",
       "      <th>temp_1</th>\n",
       "      <th>temp_2</th>\n",
       "      <th>temp_3</th>\n",
       "      <th>temp_4</th>\n",
       "      <th>temp_5</th>\n",
       "      <th>temp_6</th>\n",
       "      <th>temp_7</th>\n",
       "      <th>temp_8</th>\n",
       "      <th>...</th>\n",
       "      <th>gas_scan_4</th>\n",
       "      <th>gas_scan_5</th>\n",
       "      <th>gas_scan_6</th>\n",
       "      <th>gas_scan_7</th>\n",
       "      <th>gas_scan_8</th>\n",
       "      <th>gas_scan_9</th>\n",
       "      <th>gas_scan_cnt</th>\n",
       "      <th>experiment_id</th>\n",
       "      <th>burn_material_amount(g)</th>\n",
       "      <th>encoded_specimen</th>\n",
       "    </tr>\n",
       "  </thead>\n",
       "  <tbody>\n",
       "    <tr>\n",
       "      <th>0</th>\n",
       "      <td>146</td>\n",
       "      <td>18.8</td>\n",
       "      <td>19.0</td>\n",
       "      <td>19.6</td>\n",
       "      <td>19.6</td>\n",
       "      <td>19.7</td>\n",
       "      <td>20.0</td>\n",
       "      <td>20.1</td>\n",
       "      <td>20.1</td>\n",
       "      <td>20.3</td>\n",
       "      <td>...</td>\n",
       "      <td>855800.0</td>\n",
       "      <td>692100.0</td>\n",
       "      <td>613100.0</td>\n",
       "      <td>150400.0</td>\n",
       "      <td>300900.0</td>\n",
       "      <td>364900.0</td>\n",
       "      <td>1.0</td>\n",
       "      <td>6</td>\n",
       "      <td>600.0</td>\n",
       "      <td>0</td>\n",
       "    </tr>\n",
       "    <tr>\n",
       "      <th>1</th>\n",
       "      <td>146</td>\n",
       "      <td>19.2</td>\n",
       "      <td>19.3</td>\n",
       "      <td>19.8</td>\n",
       "      <td>19.8</td>\n",
       "      <td>19.9</td>\n",
       "      <td>20.2</td>\n",
       "      <td>20.2</td>\n",
       "      <td>20.2</td>\n",
       "      <td>20.4</td>\n",
       "      <td>...</td>\n",
       "      <td>1375800.0</td>\n",
       "      <td>1115100.0</td>\n",
       "      <td>971500.0</td>\n",
       "      <td>216100.0</td>\n",
       "      <td>358000.0</td>\n",
       "      <td>416900.0</td>\n",
       "      <td>2.0</td>\n",
       "      <td>6</td>\n",
       "      <td>600.0</td>\n",
       "      <td>0</td>\n",
       "    </tr>\n",
       "  </tbody>\n",
       "</table>\n",
       "<p>2 rows × 35 columns</p>\n",
       "</div>"
      ],
      "text/plain": [
       "   sensor_node_id  temp_0  temp_1  temp_2  temp_3  temp_4  temp_5  temp_6  \\\n",
       "0             146    18.8    19.0    19.6    19.6    19.7    20.0    20.1   \n",
       "1             146    19.2    19.3    19.8    19.8    19.9    20.2    20.2   \n",
       "\n",
       "   temp_7  temp_8  ...  gas_scan_4  gas_scan_5  gas_scan_6  gas_scan_7  \\\n",
       "0    20.1    20.3  ...    855800.0    692100.0    613100.0    150400.0   \n",
       "1    20.2    20.4  ...   1375800.0   1115100.0    971500.0    216100.0   \n",
       "\n",
       "   gas_scan_8  gas_scan_9  gas_scan_cnt  experiment_id  \\\n",
       "0    300900.0    364900.0           1.0              6   \n",
       "1    358000.0    416900.0           2.0              6   \n",
       "\n",
       "   burn_material_amount(g)  encoded_specimen  \n",
       "0                    600.0                 0  \n",
       "1                    600.0                 0  \n",
       "\n",
       "[2 rows x 35 columns]"
      ]
     },
     "metadata": {},
     "execution_count": 35
    }
   ],
   "metadata": {}
  },
  {
   "cell_type": "markdown",
   "source": [
    "# 2.0 Exploring and Data Preprocessing"
   ],
   "metadata": {}
  },
  {
   "cell_type": "markdown",
   "source": [
    "## 2.1 Checking missing values in the data"
   ],
   "metadata": {}
  },
  {
   "cell_type": "code",
   "execution_count": 59,
   "source": [
    "plt.figure(figsize=(8,4)) # seems like our data have some missing values !\r\n",
    "sns.heatmap(df.isna().transpose())"
   ],
   "outputs": [
    {
     "output_type": "execute_result",
     "data": {
      "text/plain": [
       "<AxesSubplot:>"
      ]
     },
     "metadata": {},
     "execution_count": 59
    },
    {
     "output_type": "display_data",
     "data": {
      "image/png": "[encoded data removed]",
      "text/plain": [
       "<Figure size 576x288 with 2 Axes>"
      ]
     },
     "metadata": {}
    }
   ],
   "metadata": {}
  },
  {
   "cell_type": "markdown",
   "source": [
    "## 2.2 Getting the details of entire dataset"
   ],
   "metadata": {}
  },
  {
   "cell_type": "code",
   "execution_count": 38,
   "source": [
    "fig = plt.figure(figsize=(8,4))\r\n",
    "sns.heatmap(df.corr())"
   ],
   "outputs": [
    {
     "output_type": "execute_result",
     "data": {
      "text/plain": [
       "<AxesSubplot:>"
      ]
     },
     "metadata": {},
     "execution_count": 38
    },
    {
     "output_type": "display_data",
     "data": {
      "image/png": "[encoded data removed]",
      "text/plain": [
       "<Figure size 576x288 with 2 Axes>"
      ]
     },
     "metadata": {}
    }
   ],
   "metadata": {}
  },
  {
   "cell_type": "markdown",
   "source": [
    "## 2.3 Let's see the correlations between the columns\r\n"
   ],
   "metadata": {}
  },
  {
   "cell_type": "code",
   "execution_count": 49,
   "source": [
    "df['encoded_specimen'].value_counts().plot(figsize=(8,4), kind='bar')"
   ],
   "outputs": [
    {
     "output_type": "execute_result",
     "data": {
      "text/plain": [
       "<AxesSubplot:>"
      ]
     },
     "metadata": {},
     "execution_count": 49
    },
    {
     "output_type": "display_data",
     "data": {
      "image/png": "[encoded data removed]",
      "text/plain": [
       "<Figure size 576x288 with 1 Axes>"
      ]
     },
     "metadata": {}
    }
   ],
   "metadata": {}
  },
  {
   "cell_type": "code",
   "execution_count": 40,
   "source": [
    "X = df.drop(\"encoded_specimen\", axis=1)\r\n",
    "\r\n",
    "# encode specimen_class values as integers\r\n",
    "Y = df['encoded_specimen']"
   ],
   "outputs": [],
   "metadata": {}
  },
  {
   "cell_type": "code",
   "execution_count": 57,
   "source": [
    "df = df.dropna()"
   ],
   "outputs": [],
   "metadata": {}
  },
  {
   "cell_type": "code",
   "execution_count": 58,
   "source": [
    "df.isna().sum().sum()"
   ],
   "outputs": [
    {
     "output_type": "execute_result",
     "data": {
      "text/plain": [
       "0"
      ]
     },
     "metadata": {},
     "execution_count": 58
    }
   ],
   "metadata": {}
  },
  {
   "cell_type": "code",
   "execution_count": 41,
   "source": [
    "print(X.shape)\r\n",
    "print(Y.shape)"
   ],
   "outputs": [
    {
     "output_type": "stream",
     "name": "stdout",
     "text": [
      "(2008, 34)\n",
      "(2008,)\n"
     ]
    }
   ],
   "metadata": {}
  },
  {
   "cell_type": "code",
   "execution_count": 43,
   "source": [
    "scaler = MinMaxScaler()\r\n",
    "X = scaler.fit_transform(X)"
   ],
   "outputs": [],
   "metadata": {}
  },
  {
   "cell_type": "code",
   "execution_count": 44,
   "source": [
    "x_train, x_test, y_train, y_test = train_test_split(X, Y, test_size=0.3)"
   ],
   "outputs": [],
   "metadata": {}
  },
  {
   "cell_type": "code",
   "execution_count": 45,
   "source": [
    "x_train"
   ],
   "outputs": [
    {
     "output_type": "execute_result",
     "data": {
      "text/plain": [
       "array([[0.25      , 0.33333333, 0.33333333, ..., 0.28571429, 0.        ,\n",
       "        1.        ],\n",
       "       [0.25      , 0.43333333, 0.42222222, ..., 0.07142857, 0.375     ,\n",
       "               nan],\n",
       "       [0.625     , 0.44444444, 0.44444444, ..., 0.35714286, 0.375     ,\n",
       "               nan],\n",
       "       ...,\n",
       "       [0.375     , 0.27777778, 0.26666667, ..., 0.        , 0.25      ,\n",
       "        1.        ],\n",
       "       [0.4375    , 0.41111111, 0.41111111, ..., 0.21428571, 0.375     ,\n",
       "               nan],\n",
       "       [0.25      , 0.33333333, 0.32222222, ..., 0.        , 0.25      ,\n",
       "        1.        ]])"
      ]
     },
     "metadata": {},
     "execution_count": 45
    }
   ],
   "metadata": {}
  },
  {
   "cell_type": "code",
   "execution_count": 46,
   "source": [
    "y_train"
   ],
   "outputs": [
    {
     "output_type": "execute_result",
     "data": {
      "text/plain": [
       "611     1\n",
       "1726    1\n",
       "1598    1\n",
       "1878    0\n",
       "1625    1\n",
       "       ..\n",
       "1831    1\n",
       "114     1\n",
       "1278    1\n",
       "1632    1\n",
       "1314    1\n",
       "Name: encoded_specimen, Length: 1405, dtype: int64"
      ]
     },
     "metadata": {},
     "execution_count": 46
    }
   ],
   "metadata": {}
  },
  {
   "cell_type": "code",
   "execution_count": null,
   "source": [
    "# n_features = x_train.shape[1]\r\n",
    "\r\n",
    "# model = Sequential()\r\n",
    "# model.add(Dense(16, activation='relu', kernel_initializer='he_normal', input_shape=(n_features,)))\r\n",
    "# model.add(Dense(1, activation='sigmoid'))\r\n",
    "\r\n",
    "# model.compile(optimizer='adam', loss='binary_crossentropy', metrics=['accuracy'])\r\n",
    "# history = model.fit(x_train, y_train, epochs=5, batch_size=1, verbose=1)"
   ],
   "outputs": [],
   "metadata": {}
  },
  {
   "cell_type": "code",
   "execution_count": null,
   "source": [
    "# print(history.history.keys(), '\\n')\r\n",
    "# history.history['accuracy']"
   ],
   "outputs": [],
   "metadata": {}
  },
  {
   "cell_type": "code",
   "execution_count": null,
   "source": [
    "def evaluate_metrics(actual, pred):\r\n",
    "    rmse = np.sqrt(mean_squared_error(actual, pred))\r\n",
    "    mae = mean_absolute_error(actual, pred)\r\n",
    "    r2 = r2_score(actual, pred)\r\n",
    "\r\n",
    "    return rmse, mae, r2\r\n",
    "    "
   ],
   "outputs": [],
   "metadata": {}
  },
  {
   "cell_type": "code",
   "execution_count": null,
   "source": [
    "# def train(epochs = 1, batch_size = 1):\r\n",
    "n_features = x_train.shape[1]\r\n",
    "\r\n",
    "epochs = 2\r\n",
    "batch_size = 2\r\n",
    "\r\n",
    "with mlflow.start_run():\r\n",
    "\r\n",
    "    model = Sequential()\r\n",
    "    model.add(Dense(16, activation='relu', kernel_initializer='he_normal', input_shape=(n_features,)))\r\n",
    "    model.add(Dense(1, activation='sigmoid'))\r\n",
    "\r\n",
    "    model.compile(optimizer='adam', loss='binary_crossentropy', metrics=['accuracy'])\r\n",
    "    model.fit(x_train, y_train, epochs=1, batch_size=1, verbose=1)\r\n",
    "\r\n",
    "    # model.predict(x_test)\r\n",
    "    pred = model.predict(x_test)\r\n",
    "\r\n",
    "    (mae, r2)= evaluate_metrics(y_test, pred)\r\n",
    "\r\n",
    "    print(f'mae {mae}')\r\n",
    "    print(f'r2 {r2}')\r\n",
    "\r\n",
    "    mlflow.log_param(key='batch_size', value=batch_size)\r\n",
    "    mlflow.log_param(key='epochs', value=epochs)\r\n",
    "\r\n",
    "    # mlflow.log_metric(key=\"accuracy\", value=\"history.history['accuracy']\")\r\n",
    "    # mlflow.log_metrics({'rmse':rmse, 'mae':mae, 'r2':r2})\r\n",
    "\r\n",
    "    mlflow.log_artifact(data_path)\r\n",
    "\r\n",
    "    print(f\"Save to: {mlflow.get_artifact_uri()}\")\r\n",
    "\r\n",
    "    # mlflow.keras.log_model(model, \"model\")\r\n",
    "        # return mae, r2"
   ],
   "outputs": [],
   "metadata": {}
  },
  {
   "cell_type": "code",
   "execution_count": null,
   "source": [
    "model.predict(x_train)"
   ],
   "outputs": [],
   "metadata": {}
  },
  {
   "cell_type": "code",
   "execution_count": null,
   "source": [
    "model.evaluate(x_test, y_test)"
   ],
   "outputs": [],
   "metadata": {}
  },
  {
   "cell_type": "code",
   "execution_count": null,
   "source": [
    "from sklearn.metrics import confusion_matrix\r\n",
    "from sklearn.metrics import classification_report"
   ],
   "outputs": [],
   "metadata": {}
  },
  {
   "cell_type": "code",
   "execution_count": null,
   "source": [
    "pred = model.predict(x_test)"
   ],
   "outputs": [],
   "metadata": {}
  },
  {
   "cell_type": "code",
   "execution_count": null,
   "source": [
    "y_test"
   ],
   "outputs": [],
   "metadata": {}
  },
  {
   "cell_type": "code",
   "execution_count": null,
   "source": [
    "confusion_matrix(y_test, pred)"
   ],
   "outputs": [],
   "metadata": {}
  },
  {
   "cell_type": "code",
   "execution_count": null,
   "source": [],
   "outputs": [],
   "metadata": {}
  }
 ],
 "metadata": {
  "orig_nbformat": 4,
  "language_info": {
   "name": "python",
   "version": "3.8.5",
   "mimetype": "text/x-python",
   "codemirror_mode": {
    "name": "ipython",
    "version": 3
   },
   "pygments_lexer": "ipython3",
   "nbconvert_exporter": "python",
   "file_extension": ".py"
  },
  "kernelspec": {
   "name": "python3",
   "display_name": "Python 3.8.5 64-bit ('tf25': conda)"
  },
  "interpreter": {
   "hash": "51db7280388fcf393021e9e957f2125b6962cf930dda743f78a59dc204d06f19"
  }
 },
 "nbformat": 4,
 "nbformat_minor": 2
}